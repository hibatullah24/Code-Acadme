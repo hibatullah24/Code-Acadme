{
 "cells": [
  {
   "cell_type": "code",
   "execution_count": 8,
   "id": "e823c244-1a69-49d6-9ebc-e237918455c7",
   "metadata": {},
   "outputs": [
    {
     "name": "stdout",
     "output_type": "stream",
     "text": [
      "=== Delivery System Simulation ===\n",
      "\n",
      "Enter each user's order. Type 'done' when finished.\n",
      "\n"
     ]
    },
    {
     "name": "stdin",
     "output_type": "stream",
     "text": [
      "User 1 - Enter your order:  burger\n"
     ]
    },
    {
     "name": "stdout",
     "output_type": "stream",
     "text": [
      "  Order received. Cooking now... done!\n",
      "  Estimated delivery time for 'burger': 45 minutes\n",
      "\n"
     ]
    },
    {
     "name": "stdin",
     "output_type": "stream",
     "text": [
      "User 2 - Enter your order:  fries\n"
     ]
    },
    {
     "name": "stdout",
     "output_type": "stream",
     "text": [
      "  Order received. Cooking now... done!\n",
      "  Estimated delivery time for 'fries': 45 minutes\n",
      "\n"
     ]
    },
    {
     "name": "stdin",
     "output_type": "stream",
     "text": [
      "User 3 - Enter your order:  done\n"
     ]
    },
    {
     "name": "stdout",
     "output_type": "stream",
     "text": [
      "\n",
      "=== Delivery Schedule ===\n",
      "User 1 - 'burger' will be delivered in 45 minutes\n",
      "User 2 - 'fries' will be delivered in 45 minutes\n",
      "\n",
      "=== Order Summary ===\n",
      "User       Order                Delivery Time (min) \n",
      "--------------------------------------------------\n",
      "1          burger               45                  \n",
      "2          fries                45                  \n",
      "\n",
      "=== Simulation Complete ===\n",
      "Average delivery time for all orders: 45.00 minutes\n"
     ]
    }
   ],
   "source": [
    "import random\n",
    "import time\n",
    "print(\"=== Delivery System Simulation ===\")\n",
    "total_delivery_time = 0\n",
    "order_data = []\n",
    "user_counter = 1\n",
    "print(\"\\nEnter each user's order. Type 'done' when finished.\\n\")\n",
    "\n",
    "while True:\n",
    "    order = input(f\"User {user_counter} - Enter your order: \")\n",
    "\n",
    "    if order.lower() == \"done\":\n",
    "        break\n",
    "\n",
    "    print(\"  Order received. Cooking now...\", end=\"\", flush=True)\n",
    "    time.sleep(1.5)\n",
    "    print(\" done!\")\n",
    "\n",
    "    delivery_time = random.randint(10, 60)\n",
    "    print(f\"  Estimated delivery time for '{order}': {delivery_time} minutes\\n\")\n",
    "\n",
    "    total_delivery_time += delivery_time\n",
    "    order_data.append((user_counter, order, delivery_time))\n",
    "    user_counter += 1\n",
    "\n",
    "num_users = len(order_data)\n",
    "\n",
    "if num_users > 0:\n",
    "    average_time = total_delivery_time / num_users\n",
    "\n",
    "    # Delivery Schedule\n",
    "    print(\"\\n=== Delivery Schedule ===\")\n",
    "    for entry in order_data:\n",
    "        print(f\"User {entry[0]} - '{entry[1]}' will be delivered in {entry[2]} minutes\")\n",
    "    print(\"\\n=== Order Summary ===\")\n",
    "    print(\"{:<10} {:<20} {:<20}\".format(\"User\", \"Order\", \"Delivery Time (min)\"))\n",
    "    print(\"-\" * 50)\n",
    "    for entry in order_data:\n",
    "        print(\"{:<10} {:<20} {:<20}\".format(entry[0], entry[1], entry[2]))\n",
    "\n",
    "    print(\"\\n=== Simulation Complete ===\")\n",
    "    print(f\"Average delivery time for all orders: {average_time:.2f} minutes\")\n",
    "else:\n",
    "    print(\"\\nNo orders were entered.\")\n",
    "\n"
   ]
  }
 ],
 "metadata": {
  "kernelspec": {
   "display_name": "Python 3 (ipykernel)",
   "language": "python",
   "name": "python3"
  },
  "language_info": {
   "codemirror_mode": {
    "name": "ipython",
    "version": 3
   },
   "file_extension": ".py",
   "mimetype": "text/x-python",
   "name": "python",
   "nbconvert_exporter": "python",
   "pygments_lexer": "ipython3",
   "version": "3.12.4"
  }
 },
 "nbformat": 4,
 "nbformat_minor": 5
}

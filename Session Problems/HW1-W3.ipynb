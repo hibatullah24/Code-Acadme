{
 "cells": [
  {
   "cell_type": "code",
   "execution_count": 28,
   "id": "b7c8292b-66b6-4933-b492-fd1165ae9547",
   "metadata": {},
   "outputs": [
    {
     "name": "stdout",
     "output_type": "stream",
     "text": [
      "Total number of countries: 10\n",
      "Country with the highest population: China (1439323776)\n",
      "Country with the lowest population: Germany (83783942)\n",
      "Average population: 432768169.30\n",
      "\n",
      "Top 5 countries by population:\n",
      "China: 1439323776\n",
      "India: 1380004385\n",
      "USA: 331002651\n",
      "Indonesia: 273523615\n",
      "Brazil: 212559417\n"
     ]
    }
   ],
   "source": [
    "\n",
    "country_population = {}\n",
    "\n",
    "try:\n",
    "    with open('countries_population.txt', 'r') as file:\n",
    "        lines = file.readlines()\n",
    "\n",
    "    for line in lines:\n",
    "        if line.strip(): \n",
    "            country, population = line.strip().split(',')\n",
    "            country = country.strip()\n",
    "            population = int(population.strip())\n",
    "            country_population[country] = population\n",
    "except FileNotFoundError:\n",
    "    print(\"The file 'countries_population.txt' was not found.\")\n",
    "    exit()\n",
    "\n",
    "\n",
    "if not country_population:\n",
    "    print(\"No data found in the file.\")\n",
    "    exit()\n",
    "\n",
    "\n",
    "total_countries = len(country_population)\n",
    "highest_population_country = max(country_population, key=country_population.get)\n",
    "lowest_population_country = min(country_population, key=country_population.get)\n",
    "average_population = sum(country_population.values()) / total_countries\n",
    "sorted_countries = sorted(country_population.items(), key=lambda item: item[1], reverse=True)\n",
    "\n",
    "\n",
    "print(f\"Total number of countries:\", total_countries)\n",
    "print(f\"Country with the highest population: {highest_population_country} ({country_population[highest_population_country]})\")\n",
    "print(f\"Country with the lowest population: {lowest_population_country} ({country_population[lowest_population_country]})\")\n",
    "print(f\"Average population: {average_population:.2f}\")\n",
    "\n",
    "print(\"\\nTop 5 countries by population:\")\n",
    "for country, population in sorted_countries[:5]:\n",
    "    print(f\"{country}: {population}\")\n",
    "\n",
    "with open('high_population_countries.txt', 'w') as file:\n",
    "    for country, population in country_population.items():\n",
    "        if population > 500_000_000:\n",
    "            file.write(country + '\\n')\n"
   ]
  }
 ],
 "metadata": {
  "kernelspec": {
   "display_name": "Python 3 (ipykernel)",
   "language": "python",
   "name": "python3"
  },
  "language_info": {
   "codemirror_mode": {
    "name": "ipython",
    "version": 3
   },
   "file_extension": ".py",
   "mimetype": "text/x-python",
   "name": "python",
   "nbconvert_exporter": "python",
   "pygments_lexer": "ipython3",
   "version": "3.12.4"
  }
 },
 "nbformat": 4,
 "nbformat_minor": 5
}

{
 "cells": [
  {
   "cell_type": "markdown",
   "id": "1792b894-166c-49c1-880c-fdd46a19622f",
   "metadata": {},
   "source": [
    "# Sunday 27/4"
   ]
  },
  {
   "cell_type": "code",
   "execution_count": 14,
   "id": "3867da7a-2569-450c-9215-1ebebc4b8453",
   "metadata": {},
   "outputs": [],
   "source": [
    "#025 Input Output:"
   ]
  },
  {
   "cell_type": "code",
   "execution_count": 15,
   "id": "64a49ee3-8e30-4e7a-9e94-5e72a3350fcc",
   "metadata": {},
   "outputs": [
    {
     "name": "stdout",
     "output_type": "stream",
     "text": [
      "['Hello No Yes 34']\n"
     ]
    }
   ],
   "source": [
    "s = \"Hello No Yes 34\"\n",
    "list = s.split(\" ,\")\n",
    "print(list)"
   ]
  },
  {
   "cell_type": "code",
   "execution_count": 16,
   "id": "83fc9293-886e-4f31-b87d-daa83345cb4e",
   "metadata": {},
   "outputs": [
    {
     "name": "stdout",
     "output_type": "stream",
     "text": [
      "['The', 'sun', 'rises', 'in', 'the', 'east', 'and', 'sets', 'in', 'the', 'west.', 'Python', 'is', 'a', 'powerful', 'programming', 'language', 'used', 'worldwide.', 'Mount', 'Everest', 'is', 'the', 'highest', 'mountain', 'on', 'Earth,', 'standing', 'at', '8,848', 'meters.', 'Music', 'has', 'the', 'power', 'to', 'change', 'our', 'mood', 'in', 'just', 'a', 'few', 'seconds.', 'A', 'cup', 'of', 'coffee', 'in', 'the', 'morning', 'can', 'boost', 'your', 'energy', 'for', 'the', 'whole', 'day']\n"
     ]
    }
   ],
   "source": [
    "with open(\"Text.txt\", \"r\") as file:\n",
    "    content = file.read()\n",
    "\n",
    "words_bag = content.split()\n",
    "print(words_bag)\n"
   ]
  },
  {
   "cell_type": "code",
   "execution_count": 17,
   "id": "a8db3c29-31e6-4a80-a60c-23a60fe28d1d",
   "metadata": {},
   "outputs": [
    {
     "name": "stdout",
     "output_type": "stream",
     "text": [
      "The sun rises in the east and sets in the west.\n",
      "Python is a powerful programming language used worldwide.\n",
      "Mount Everest is the highest mountain on Earth, standing at 8,848 meters.\n",
      "Music has the power to change our mood in just a few seconds.\n",
      "A cup of coffee in the morning can boost your energy for the whole day\n",
      "\n"
     ]
    }
   ],
   "source": [
    "with open(\"Text.txt\", \"r\") as inputFile:\n",
    "    words_bag = inputFile.read()\n",
    "\n",
    "    while words_bag != \"\":\n",
    "        print(words_bag) \n",
    "        words_bag = inputFile.read() \n",
    "# if you want any change change in first and secon read!!!!!!!!!"
   ]
  },
  {
   "cell_type": "markdown",
   "id": "c8c06be3-1403-45f6-bcb9-f627af0c50fd",
   "metadata": {},
   "source": [
    "#026 Exception Handling"
   ]
  },
  {
   "cell_type": "code",
   "execution_count": 18,
   "id": "f049436f-f3ad-4c0b-b9b2-1b14e3ab9b23",
   "metadata": {},
   "outputs": [
    {
     "ename": "ValueError",
     "evalue": "Amount exceeds balance",
     "output_type": "error",
     "traceback": [
      "\u001b[1;31m---------------------------------------------------------------------------\u001b[0m",
      "\u001b[1;31mValueError\u001b[0m                                Traceback (most recent call last)",
      "Cell \u001b[1;32mIn[18], line 5\u001b[0m\n\u001b[0;32m      2\u001b[0m balance \u001b[38;5;241m=\u001b[39m \u001b[38;5;241m12\u001b[39m\n\u001b[0;32m      4\u001b[0m \u001b[38;5;28;01mif\u001b[39;00m amount\u001b[38;5;241m>\u001b[39mbalance:\n\u001b[1;32m----> 5\u001b[0m     \u001b[38;5;28;01mraise\u001b[39;00m \u001b[38;5;167;01mValueError\u001b[39;00m(\u001b[38;5;124m\"\u001b[39m\u001b[38;5;124mAmount exceeds balance\u001b[39m\u001b[38;5;124m\"\u001b[39m)\n",
      "\u001b[1;31mValueError\u001b[0m: Amount exceeds balance"
     ]
    }
   ],
   "source": [
    "amount = 233\n",
    "balance = 12\n",
    "\n",
    "if amount>balance:\n",
    "    raise ValueError(\"Amount exceeds balance\")\n",
    "\n"
   ]
  },
  {
   "cell_type": "code",
   "execution_count": 19,
   "id": "61c9fcaf-0b01-4ab4-9a90-0eefd46f39f6",
   "metadata": {},
   "outputs": [
    {
     "name": "stdout",
     "output_type": "stream",
     "text": [
      "File not found!\n"
     ]
    },
    {
     "ename": "NameError",
     "evalue": "name 'infile' is not defined",
     "output_type": "error",
     "traceback": [
      "\u001b[1;31m---------------------------------------------------------------------------\u001b[0m",
      "\u001b[1;31mNameError\u001b[0m                                 Traceback (most recent call last)",
      "Cell \u001b[1;32mIn[19], line 15\u001b[0m\n\u001b[0;32m     10\u001b[0m     \u001b[38;5;28mprint\u001b[39m(\u001b[38;5;124m\"\u001b[39m\u001b[38;5;124mError:\u001b[39m\u001b[38;5;124m\"\u001b[39m, \u001b[38;5;28mstr\u001b[39m(exceptObj))\n\u001b[0;32m     12\u001b[0m \u001b[38;5;66;03m# Finally Clause:\u001b[39;00m\n\u001b[0;32m     13\u001b[0m \n\u001b[0;32m     14\u001b[0m \u001b[38;5;28;01mfinally\u001b[39;00m: \u001b[38;5;66;03m# means of finally: whatever happen do this arguments \u001b[39;00m\n\u001b[1;32m---> 15\u001b[0m     infile\u001b[38;5;241m.\u001b[39mclose()\n",
      "\u001b[1;31mNameError\u001b[0m: name 'infile' is not defined"
     ]
    }
   ],
   "source": [
    "try:\n",
    "    infile = open(\"Hello.txt\", \"r\")\n",
    "    line = infile.readline()\n",
    "    process(line)\n",
    "\n",
    "except IOError:\n",
    "    print(\"File not found!\")\n",
    "\n",
    "except Exception as exceptObj:\n",
    "    print(\"Error:\", str(exceptObj))\n",
    "\n",
    "# Finally Clause:\n",
    "\n",
    "finally: # means of finally: whatever happen do this arguments \n",
    "    infile.close()"
   ]
  },
  {
   "cell_type": "code",
   "execution_count": 20,
   "id": "c74e7164-d861-4b4c-9033-ae373eaa96a2",
   "metadata": {},
   "outputs": [
    {
     "name": "stdin",
     "output_type": "stream",
     "text": [
      "Enter First Number:  3\n",
      "Enter Second Number:  4\n"
     ]
    },
    {
     "name": "stdout",
     "output_type": "stream",
     "text": [
      "Result: 0.75\n",
      "Calculation completed.\n"
     ]
    }
   ],
   "source": [
    "s1 = input(\"Enter First Number: \")\n",
    "s2 = input(\"Enter Second Number: \")\n",
    "\n",
    "def divide_numbers(s1, s2):\n",
    "    try:\n",
    "        \n",
    "        n1 = int(s1)\n",
    "        n2 = int(s2)\n",
    "\n",
    "        \n",
    "        result = n1 / n2\n",
    "        print(f\"Result:\", result)\n",
    "\n",
    "    except ValueError:\n",
    "        print(\"Invalid input. Please enter numeric values.\")\n",
    "    except ZeroDivisionError:\n",
    "        print(\"Second number cannot be zero.\")\n",
    "    finally:\n",
    "        print(\"Calculation completed.\")\n",
    "\n",
    "\n",
    "divide_numbers(s1, s2)\n",
    "\n",
    "\n"
   ]
  },
  {
   "cell_type": "markdown",
   "id": "ab210884-c8bf-4b86-b062-1bc275ab6700",
   "metadata": {},
   "source": [
    "# Introduction to Data Science:\n"
   ]
  },
  {
   "cell_type": "markdown",
   "id": "919992c7-f0a2-4999-9f67-1e2b9d018bf5",
   "metadata": {},
   "source": [
    "##Lec01 (Drive)"
   ]
  },
  {
   "cell_type": "code",
   "execution_count": 21,
   "id": "b60a43cb-a6ae-46f1-9d87-627e13873215",
   "metadata": {},
   "outputs": [],
   "source": [
    "import numpy as np"
   ]
  },
  {
   "cell_type": "code",
   "execution_count": 22,
   "id": "8180ac69-8b07-4c2e-8e6f-5260f696f953",
   "metadata": {},
   "outputs": [
    {
     "name": "stdout",
     "output_type": "stream",
     "text": [
      "[ 2 76  4  2]\n"
     ]
    },
    {
     "data": {
      "text/plain": [
       "dtype('int32')"
      ]
     },
     "execution_count": 22,
     "metadata": {},
     "output_type": "execute_result"
    }
   ],
   "source": [
    "new = [2, 76, 4, 2]\n",
    "myarry = np.array(new)\n",
    "print(myarry)\n",
    "myarry.dtype"
   ]
  },
  {
   "cell_type": "code",
   "execution_count": 23,
   "id": "56309ecf-3f67-42cd-af0c-1c3dacc99367",
   "metadata": {},
   "outputs": [
    {
     "name": "stdout",
     "output_type": "stream",
     "text": [
      "[[2, 76, 4, 2], [3, 43, 5, 3]]\n",
      "\n",
      "[[ 2 76  4  2]\n",
      " [ 3 43  5  3]]\n"
     ]
    }
   ],
   "source": [
    "new2 = [3, 43, 5,3]\n",
    "Lnew = [new, new2]\n",
    "print(Lnew)# give me a list\n",
    "\n",
    "print()\n",
    "\n",
    "MyArray = np.array(Lnew)\n",
    "print(MyArray) # give me 2D array"
   ]
  },
  {
   "cell_type": "code",
   "execution_count": 24,
   "id": "04077cbe-984f-4df3-9bdc-14a6b5615047",
   "metadata": {},
   "outputs": [
    {
     "data": {
      "text/plain": [
       "(2, 4)"
      ]
     },
     "execution_count": 24,
     "metadata": {},
     "output_type": "execute_result"
    }
   ],
   "source": [
    "MyArray.shape # (rows, colums)"
   ]
  },
  {
   "cell_type": "code",
   "execution_count": 25,
   "id": "e41f0940-190d-434b-9e49-956ec0725502",
   "metadata": {},
   "outputs": [
    {
     "data": {
      "text/plain": [
       "dtype('int32')"
      ]
     },
     "execution_count": 25,
     "metadata": {},
     "output_type": "execute_result"
    }
   ],
   "source": [
    "MyArray.dtype"
   ]
  },
  {
   "cell_type": "code",
   "execution_count": 26,
   "id": "aa3f8632-a9b5-4aea-9d38-1e7d83241814",
   "metadata": {},
   "outputs": [
    {
     "name": "stdout",
     "output_type": "stream",
     "text": [
      "[0 0 0 0 0]\n",
      "\n",
      "[[[0 0 0]\n",
      "  [0 0 0]\n",
      "  [0 0 0]\n",
      "  [0 0 0]]\n",
      "\n",
      " [[0 0 0]\n",
      "  [0 0 0]\n",
      "  [0 0 0]\n",
      "  [0 0 0]]]\n"
     ]
    }
   ],
   "source": [
    "E = np.zeros(5, 'int')\n",
    "print(E)\n",
    "print()\n",
    "Z = np.zeros([2,4,3], 'int') # (how many arrays, rows, cloumns)\n",
    "print(Z)"
   ]
  },
  {
   "cell_type": "code",
   "execution_count": 27,
   "id": "433c6fb7-b7ca-4866-993a-9650084b531d",
   "metadata": {},
   "outputs": [
    {
     "name": "stdout",
     "output_type": "stream",
     "text": [
      "[[1. 1. 1. 1. 1.]\n",
      " [1. 1. 1. 1. 1.]\n",
      " [1. 1. 1. 1. 1.]\n",
      " [1. 1. 1. 1. 1.]]\n",
      "\n",
      "[0.00000000e+000 8.85882271e-312 8.85882271e-312 8.85882271e-312]\n",
      "\n",
      "[[1. 0. 0. 0. 0. 0.]\n",
      " [0. 1. 0. 0. 0. 0.]\n",
      " [0. 0. 1. 0. 0. 0.]\n",
      " [0. 0. 0. 1. 0. 0.]\n",
      " [0. 0. 0. 0. 1. 0.]\n",
      " [0. 0. 0. 0. 0. 1.]]\n"
     ]
    }
   ],
   "source": [
    "r = np.ones([4, 5])\n",
    "print(r)\n",
    "\n",
    "print()\n",
    "\n",
    "e = np.empty(4)\n",
    "print(e)\n",
    "\n",
    "print()\n",
    "\n",
    "o = np.eye(6)\n",
    "print(o)\n"
   ]
  },
  {
   "cell_type": "code",
   "execution_count": 28,
   "id": "1f539ecb-4691-4425-a6ef-3d39d0447c95",
   "metadata": {},
   "outputs": [
    {
     "name": "stdout",
     "output_type": "stream",
     "text": [
      "[0 1 2 3 4 5]\n"
     ]
    }
   ],
   "source": [
    "S = np.arange(6)\n",
    "print(S)"
   ]
  },
  {
   "cell_type": "code",
   "execution_count": 29,
   "id": "2a463580-1bf2-4019-a29a-c4586b789cdf",
   "metadata": {},
   "outputs": [
    {
     "name": "stdout",
     "output_type": "stream",
     "text": [
      "[   0  100  200  300  400  500  600  700  800  900 1000 1100 1200 1300\n",
      " 1400 1500 1600 1700 1800 1900 2000 2100 2200 2300 2400 2500 2600 2700\n",
      " 2800 2900]\n"
     ]
    }
   ],
   "source": [
    "s = np.arange(0, 2948, 100)\n",
    "print(s)"
   ]
  },
  {
   "cell_type": "markdown",
   "id": "81a253ce-49ed-46a7-bdc6-c6581f470220",
   "metadata": {},
   "source": [
    "##Lec 02"
   ]
  },
  {
   "cell_type": "code",
   "execution_count": 30,
   "id": "9895dc91-8816-40b9-978c-06e1f5c6ffff",
   "metadata": {},
   "outputs": [
    {
     "name": "stdout",
     "output_type": "stream",
     "text": [
      "[ 48 912  10  64]\n",
      "\n",
      "[-40 -39 -41 -39]\n"
     ]
    }
   ],
   "source": [
    "import numpy as np\n",
    "arr1 = np.array([3, 4, 2, 4])\n",
    "arr2 = np.array([4, 3, 1, 4])\n",
    "arr3 = np.array([4, 76, 5, 4])\n",
    "\n",
    "Mul = arr1 * arr2 * arr3\n",
    "print(Mul)\n",
    "print()\n",
    "Sub = arr1-43\n",
    "print(Sub)"
   ]
  },
  {
   "cell_type": "code",
   "execution_count": 31,
   "id": "a19d56cb-9669-4095-8fe2-ff9f94428090",
   "metadata": {},
   "outputs": [
    {
     "data": {
      "text/plain": [
       "array([[ 2,  3],\n",
       "       [76, 43],\n",
       "       [ 4,  5],\n",
       "       [ 2,  3]])"
      ]
     },
     "execution_count": 31,
     "metadata": {},
     "output_type": "execute_result"
    }
   ],
   "source": [
    "MyArray.T"
   ]
  },
  {
   "cell_type": "code",
   "execution_count": 32,
   "id": "0e2be7c1-5b72-4b36-b48b-9aea6ed587d7",
   "metadata": {},
   "outputs": [
    {
     "name": "stdout",
     "output_type": "stream",
     "text": [
      "[[1 3 4]\n",
      " [5 6 4]]\n",
      "\n",
      "[[3 2]\n",
      " [6 5]\n",
      " [4 1]]\n",
      "\n"
     ]
    },
    {
     "data": {
      "text/plain": [
       "array([[37, 21],\n",
       "       [67, 44]])"
      ]
     },
     "execution_count": 32,
     "metadata": {},
     "output_type": "execute_result"
    }
   ],
   "source": [
    "A = np.array([[1, 3, 4], [5, 6,4]])\n",
    "print(A)\n",
    "print()\n",
    "B = np.array([[3, 2], [6, 5], [4, 1]])\n",
    "print(B)\n",
    "print()\n",
    "np.dot(A, B)"
   ]
  },
  {
   "cell_type": "code",
   "execution_count": 33,
   "id": "ffea1bab-39fb-4104-95f3-0afd4cb0d721",
   "metadata": {},
   "outputs": [
    {
     "name": "stdout",
     "output_type": "stream",
     "text": [
      "[ 2 12 30]\n",
      "\n",
      "[ 3  7 11]\n",
      "\n",
      "[-1 -1 -1]\n",
      "\n",
      "[0.5        0.75       0.83333333]\n"
     ]
    }
   ],
   "source": [
    "#task:\n",
    "array1 = np.array([1, 3, 5])\n",
    "array2 = np.array([2, 4, 6])\n",
    "\n",
    "Mul = array1*array2\n",
    "print(Mul)\n",
    "\n",
    "print()\n",
    "Add = array1 + array2\n",
    "print(Add)\n",
    "print()\n",
    "\n",
    "\n",
    "Sub = array1 - array2\n",
    "print(Sub)\n",
    "print()\n",
    "\n",
    "\n",
    "\n",
    "Div = array1/array2\n",
    "print(Div)\n"
   ]
  },
  {
   "cell_type": "code",
   "execution_count": 34,
   "id": "e19a99e2-8024-40c1-a0e9-957d4e0bee30",
   "metadata": {},
   "outputs": [
    {
     "name": "stdout",
     "output_type": "stream",
     "text": [
      "(11,)\n",
      "4\n"
     ]
    }
   ],
   "source": [
    "arr = np.arange(0,11)\n",
    "print(arr.shape)\n",
    "print(arr[4])"
   ]
  },
  {
   "cell_type": "code",
   "execution_count": 36,
   "id": "db937224-4615-44c2-b33c-f681e950ebc7",
   "metadata": {},
   "outputs": [
    {
     "data": {
      "text/plain": [
       "array([1, 2, 3, 4])"
      ]
     },
     "execution_count": 36,
     "metadata": {},
     "output_type": "execute_result"
    }
   ],
   "source": [
    "arr[1:5]"
   ]
  },
  {
   "cell_type": "code",
   "execution_count": 37,
   "id": "d6f871ff-d0bd-427b-be69-645d9b158332",
   "metadata": {},
   "outputs": [
    {
     "data": {
      "text/plain": [
       "array([  0,   1, 200, 200, 200, 200,   6,   7,   8,   9,  10])"
      ]
     },
     "execution_count": 37,
     "metadata": {},
     "output_type": "execute_result"
    }
   ],
   "source": [
    "arr[2:6]= 200\n",
    "arr"
   ]
  },
  {
   "cell_type": "code",
   "execution_count": 38,
   "id": "154115d1-4945-45ad-817e-d40255737072",
   "metadata": {},
   "outputs": [
    {
     "data": {
      "text/plain": [
       "array([563, 563, 563, 563, 563, 563, 563, 563, 563, 563, 563])"
      ]
     },
     "execution_count": 38,
     "metadata": {},
     "output_type": "execute_result"
    }
   ],
   "source": [
    "arr[:] = 563\n",
    "arr"
   ]
  },
  {
   "cell_type": "code",
   "execution_count": 39,
   "id": "05c0ddc0-0dd3-45d1-8ec8-b1c85d543959",
   "metadata": {},
   "outputs": [
    {
     "name": "stdout",
     "output_type": "stream",
     "text": [
      "[[ 2  4  3  6  9]\n",
      " [ 3  4  5  4  5]\n",
      " [ 5  6  7  3  4]\n",
      " [76  7  4  3  4]]\n",
      "\n",
      "[5 6 7 3 4]\n",
      "\n",
      "6\n",
      "\n",
      "[[3 6 9]\n",
      " [5 4 5]\n",
      " [7 3 4]]\n",
      "\n",
      "[[2 3 9]\n",
      " [3 5 5]\n",
      " [5 7 4]]\n"
     ]
    }
   ],
   "source": [
    "Arr = np.array([[2,4,3, 6, 9], [3, 4, 5, 4, 5], [5, 6,7, 3, 4], [76, 7, 4, 3, 4]])\n",
    "print(Arr)\n",
    "print()\n",
    "\n",
    "print(Arr[2])\n",
    "print()\n",
    "\n",
    "print(Arr[2, 1]) #or print(Arr[2][1])\n",
    "print()\n",
    "\n",
    "print(Arr[:3, 2:])\n",
    "print()\n",
    "\n",
    "print(Arr[:3, ::2])"
   ]
  },
  {
   "cell_type": "code",
   "execution_count": 40,
   "id": "f21ea93b-f085-47a2-bad1-519d627c4853",
   "metadata": {},
   "outputs": [
    {
     "data": {
      "text/plain": [
       "array([[ 1,  2,  3,  4],\n",
       "       [ 5,  6,  7,  8],\n",
       "       [ 9, 10, 11, 12]])"
      ]
     },
     "execution_count": 40,
     "metadata": {},
     "output_type": "execute_result"
    }
   ],
   "source": [
    "#Reshape:\n",
    "G = np.arange(1,13).reshape((3,4))\n",
    "G"
   ]
  },
  {
   "cell_type": "code",
   "execution_count": 41,
   "id": "e26c435b-1374-412b-a14e-1c767bc90502",
   "metadata": {},
   "outputs": [
    {
     "data": {
      "text/plain": [
       "array([13, 42, 33, 33, 21, 12])"
      ]
     },
     "execution_count": 41,
     "metadata": {},
     "output_type": "execute_result"
    }
   ],
   "source": [
    "x = np.array([13, 42, 33])\n",
    "y = np.array([33, 21, 12])\n",
    "np.concatenate([x, y])"
   ]
  },
  {
   "cell_type": "code",
   "execution_count": 42,
   "id": "cf94f4b9-7d2f-4a14-8c7b-8a9fe912f880",
   "metadata": {},
   "outputs": [
    {
     "data": {
      "text/plain": [
       "array([[ 1,  2,  3,  4,  5,  6],\n",
       "       [ 7,  8,  9, 10, 11, 12]])"
      ]
     },
     "execution_count": 42,
     "metadata": {},
     "output_type": "execute_result"
    }
   ],
   "source": [
    "G=G.reshape((2,6))\n",
    "G"
   ]
  },
  {
   "cell_type": "code",
   "execution_count": 43,
   "id": "289ef521-f8bd-4678-8030-8872a24349e9",
   "metadata": {},
   "outputs": [
    {
     "data": {
      "text/plain": [
       "array([[ 1,  2,  3,  4,  5,  6],\n",
       "       [ 7,  8,  9, 10, 11, 12],\n",
       "       [ 1,  2,  3,  4,  5,  6],\n",
       "       [ 7,  8,  9, 10, 11, 12]])"
      ]
     },
     "execution_count": 43,
     "metadata": {},
     "output_type": "execute_result"
    }
   ],
   "source": [
    "#concatenate 2D\n",
    "np.concatenate([G,G])"
   ]
  },
  {
   "cell_type": "code",
   "execution_count": 44,
   "id": "1e81ab65-1bdc-4a8a-8813-b74b43d2a934",
   "metadata": {},
   "outputs": [
    {
     "data": {
      "text/plain": [
       "array([[ 1,  2,  3,  4,  5,  6,  1,  2,  3,  4,  5,  6],\n",
       "       [ 7,  8,  9, 10, 11, 12,  7,  8,  9, 10, 11, 12]])"
      ]
     },
     "execution_count": 44,
     "metadata": {},
     "output_type": "execute_result"
    }
   ],
   "source": [
    "np.concatenate([G,G],axis=1)"
   ]
  },
  {
   "cell_type": "code",
   "execution_count": 45,
   "id": "9c56979d-4fac-4915-bab0-64a1ca3a9be8",
   "metadata": {},
   "outputs": [
    {
     "name": "stdout",
     "output_type": "stream",
     "text": [
      "[13 42 53] [ 9 29] [43 32 21]\n"
     ]
    }
   ],
   "source": [
    "import numpy as np\n",
    "x = x = [13, 42, 53, 9, 29, 43, 32, 21]\n",
    "\n",
    "x1, x2, x3 = np.split(x, [3, 5]) \n",
    "print(x1, x2, x3)"
   ]
  },
  {
   "cell_type": "code",
   "execution_count": 46,
   "id": "2f15b2b7-8286-4fb5-85f0-1f374f21bb90",
   "metadata": {},
   "outputs": [
    {
     "name": "stdout",
     "output_type": "stream",
     "text": [
      "[[ 0  1  2  3]\n",
      " [ 4  5  6  7]\n",
      " [ 8  9 10 11]\n",
      " [12 13 14 15]]\n",
      "\n",
      "[[0 1 2 3]\n",
      " [4 5 6 7]]\n",
      "\n",
      "[[ 8  9 10 11]\n",
      " [12 13 14 15]]\n",
      "\n"
     ]
    }
   ],
   "source": [
    "# Split Rows:\n",
    "GG = np.arange(16).reshape((4,4))\n",
    "print(GG)\n",
    "print()\n",
    "\n",
    "U,L = np.vsplit(GG,[2])\n",
    "print(U)\n",
    "print()\n",
    "\n",
    "print(L)\n",
    "print()"
   ]
  },
  {
   "cell_type": "code",
   "execution_count": 47,
   "id": "4e4cb88e-9881-4c20-8144-3fd2161d59f9",
   "metadata": {},
   "outputs": [
    {
     "name": "stdout",
     "output_type": "stream",
     "text": [
      "[[ 0  1  2  3]\n",
      " [ 4  5  6  7]\n",
      " [ 8  9 10 11]\n",
      " [12 13 14 15]]\n",
      "\n",
      "[[ 0  1  2]\n",
      " [ 4  5  6]\n",
      " [ 8  9 10]\n",
      " [12 13 14]]\n",
      "\n",
      "[[ 3]\n",
      " [ 7]\n",
      " [11]\n",
      " [15]]\n",
      "\n"
     ]
    }
   ],
   "source": [
    "#Split Columns:\n",
    "GG = np.arange(16).reshape((4,4))\n",
    "print(GG)\n",
    "print()\n",
    "\n",
    "U,L = np.hsplit(GG,[3])\n",
    "print(U)\n",
    "print()\n",
    "\n",
    "print(L)\n",
    "print()"
   ]
  },
  {
   "cell_type": "code",
   "execution_count": 48,
   "id": "97989a40-3812-4ca8-adc2-b2cfb84e029a",
   "metadata": {},
   "outputs": [
    {
     "name": "stdout",
     "output_type": "stream",
     "text": [
      "[[80 60 65]\n",
      " [90 94 91]\n",
      " [30 73 75]\n",
      " [80 90 91]]\n",
      "\n",
      "[68.33333333 91.66666667 59.33333333 87.        ]\n",
      "\n",
      "[90 94 91]\n",
      "\n",
      "76.58333333333333\n",
      "\n",
      "[[80 60 65]\n",
      " [90 94 91]\n",
      " [40 73 75]\n",
      " [80 90 91]]\n"
     ]
    }
   ],
   "source": [
    "#create 2D array where each row represent a student and each columns\n",
    "#represent their grades in math sciences and english \n",
    "\n",
    "S = np.array([[80, 60, 65],[90, 94, 91], [30, 73, 75], [80, 90, 91]])\n",
    "print(S)\n",
    "\n",
    "print()\n",
    "# the average grade of each student\" \n",
    "Avg = np.mean(S, axis = 1)\n",
    "print(Avg)\n",
    "print()\n",
    "# the highest grade in each subject\n",
    "G = np.max (S, axis = 0)\n",
    "print(G)\n",
    "print()\n",
    "# Overall avrage grade across all students and subjects:\n",
    "Tavg = np.mean(S)\n",
    "print(Tavg)\n",
    "print()\n",
    "#Replace any grades below 40 with 40(pass mark)\n",
    "S[S < 40] = 40\n",
    "print(S)"
   ]
  },
  {
   "cell_type": "markdown",
   "id": "b49ea3f0-c0b4-466d-883c-91f8826c025b",
   "metadata": {},
   "source": [
    "# Monday 28/4"
   ]
  },
  {
   "cell_type": "markdown",
   "id": "56530239-9f2a-4583-aa81-4d31d804f324",
   "metadata": {},
   "source": [
    "#Lec05 Array Processing"
   ]
  },
  {
   "cell_type": "code",
   "execution_count": 49,
   "id": "349bce13-28db-4a43-999e-581956c85367",
   "metadata": {},
   "outputs": [
    {
     "data": {
      "text/plain": [
       "array([43, 53,  5, 66,  2])"
      ]
     },
     "execution_count": 49,
     "metadata": {},
     "output_type": "execute_result"
    }
   ],
   "source": [
    "import numpy as np\n",
    "A = np.array([3, 4, 5, 3,2])\n",
    "B =np.array ([43, 53, 52, 66, 76])\n",
    "Filter = np.array([True, True, False, True, False])\n",
    "Ans = np.where(Filter, B, A)\n",
    "Ans"
   ]
  },
  {
   "cell_type": "code",
   "execution_count": 50,
   "id": "f8fafa53-8a4d-4f94-b6dc-3716e9c0d888",
   "metadata": {},
   "outputs": [
    {
     "name": "stdout",
     "output_type": "stream",
     "text": [
      "[[-0.05210333 -0.06710696 -0.03203245 -0.35870052 -0.01002614]\n",
      " [ 1.38302095  0.30743385  1.48328411  0.35415912  2.55694775]\n",
      " [-0.28588037  0.73585871 -1.4341597   0.19842213  1.15786141]\n",
      " [ 0.83613297 -0.60526259 -2.28291619 -0.46152873 -0.51300557]\n",
      " [ 0.13145761 -1.36914195 -0.07013741  0.56296936  1.00600624]]\n",
      "[[1 3 4 0 0 3 0 3]\n",
      " [8 5 0 4 6 6 9 8]\n",
      " [8 9 1 8 2 3 7 9]\n",
      " [9 9 0 5 6 9 1 0]\n",
      " [2 2 4 6 5 8 1 6]\n",
      " [8 0 0 7 2 4 3 1]\n",
      " [4 5 4 1 4 5 6 6]\n",
      " [1 3 2 5 6 1 2 5]\n",
      " [9 0 9 6 2 3 2 0]\n",
      " [4 0 4 2 0 5 3 0]\n",
      " [0 3 5 3 6 4 7 6]\n",
      " [6 6 6 2 8 1 2 5]\n",
      " [6 6 0 9 2 3 2 1]\n",
      " [2 3 2 5 1 8 9 3]\n",
      " [1 6 9 1 0 5 7 6]\n",
      " [6 8 3 7 5 8 2 6]\n",
      " [8 2 2 9 0 8 9 7]\n",
      " [9 8 0 0 5 9 8 3]\n",
      " [4 1 3 7 9 5 6 5]\n",
      " [3 6 0 2 3 9 6 8]\n",
      " [3 1 9 6 3 7 9 2]\n",
      " [8 2 7 7 7 7 9 3]\n",
      " [5 4 1 5 0 4 8 9]\n",
      " [0 6 0 6 6 0 0 7]\n",
      " [9 1 3 3 6 1 8 1]\n",
      " [5 3 1 0 6 2 9 3]\n",
      " [8 1 3 8 0 9 2 6]\n",
      " [0 1 9 1 3 0 7 2]\n",
      " [1 8 4 1 1 4 7 0]\n",
      " [2 2 5 7 2 7 8 6]\n",
      " [6 1 5 3 4 5 3 5]\n",
      " [2 6 5 5 4 6 1 1]\n",
      " [2 0 6 5 8 5 8 6]\n",
      " [1 3 4 7 5 6 0 9]\n",
      " [2 0 7 1 9 5 9 7]\n",
      " [0 4 4 6 9 5 0 1]\n",
      " [1 2 6 7 0 6 2 6]\n",
      " [3 2 5 2 8 4 9 8]\n",
      " [7 0 6 6 8 6 6 8]\n",
      " [1 6 0 1 1 6 4 1]\n",
      " [2 7 7 1 2 9 1 6]\n",
      " [9 7 3 5 3 7 9 3]\n",
      " [2 4 8 0 4 2 3 4]\n",
      " [4 2 9 0 3 4 8 4]\n",
      " [5 3 5 5 1 6 9 9]]\n",
      "[[0.         0.         0.         0.         0.        ]\n",
      " [1.38302095 0.30743385 1.48328411 0.35415912 2.55694775]\n",
      " [0.         0.73585871 0.         0.19842213 1.15786141]\n",
      " [0.83613297 0.         0.         0.         0.        ]\n",
      " [0.13145761 0.         0.         0.56296936 1.00600624]]\n"
     ]
    }
   ],
   "source": [
    "from numpy.random import randn, randint\n",
    "array1 = randn(5,5)\n",
    "print(array1)\n",
    "array = randint(0, 10, (45, 8))# give you integer number\n",
    "print(array)\n",
    "print(np.where(array1<0,0,array1))"
   ]
  },
  {
   "cell_type": "code",
   "execution_count": 51,
   "id": "de86cfa5-e10c-4244-9c62-74f6cde32927",
   "metadata": {},
   "outputs": [
    {
     "name": "stdout",
     "output_type": "stream",
     "text": [
      "[ 2 23 45 54]\n",
      "[54 45 23  2]\n"
     ]
    }
   ],
   "source": [
    "import numpy as np\n",
    "\n",
    "sale = np.array([54, 2, 23, 45])\n",
    "\n",
    "Sort = np.sort(sale)\n",
    "print(Sort)\n",
    "\n",
    "DSort = -np.sort(-sale) # descending\n",
    "print(DSort)\n"
   ]
  },
  {
   "cell_type": "code",
   "execution_count": 52,
   "id": "6389f648-a043-4e25-8e8a-719c1153eb0e",
   "metadata": {},
   "outputs": [
    {
     "data": {
      "text/plain": [
       "array([' USA', 'France', 'Germeny', 'Maxico', 'Russia', 'USA'],\n",
       "      dtype='<U7')"
      ]
     },
     "execution_count": 52,
     "metadata": {},
     "output_type": "execute_result"
    }
   ],
   "source": [
    "Countries = np.array (['France', 'Germeny', ' USA', 'Russia','USA', 'Maxico', 'Germeny'])\n",
    "np.unique(Countries)"
   ]
  },
  {
   "cell_type": "code",
   "execution_count": 53,
   "id": "72aaf4a1-e12c-4954-b35f-55817a65daf3",
   "metadata": {},
   "outputs": [
    {
     "data": {
      "text/plain": [
       "array([ True,  True, False])"
      ]
     },
     "execution_count": 53,
     "metadata": {},
     "output_type": "execute_result"
    }
   ],
   "source": [
    "np.in1d(['France', 'USA', 'Sweden'],Countries)"
   ]
  },
  {
   "cell_type": "markdown",
   "id": "cbae7388-70ac-414a-a444-e93605b2d0cc",
   "metadata": {},
   "source": [
    "#Pandas"
   ]
  },
  {
   "cell_type": "code",
   "execution_count": 133,
   "id": "53c3960c-17c8-4c19-8917-888dcb91c73e",
   "metadata": {},
   "outputs": [
    {
     "name": "stdout",
     "output_type": "stream",
     "text": [
      "Apple     65\n",
      "Banana    67\n",
      "Orange    34\n",
      "dtype: int64\n"
     ]
    },
    {
     "data": {
      "text/plain": [
       "(3,)"
      ]
     },
     "execution_count": 133,
     "metadata": {},
     "output_type": "execute_result"
    }
   ],
   "source": [
    "import pandas as pd\n",
    "S = pd.Series([65, 67,34], index = ['Apple', 'Banana', 'Orange'])\n",
    "print(S)\n",
    "S.shape"
   ]
  },
  {
   "cell_type": "code",
   "execution_count": 134,
   "id": "70489266-2dd4-4cf6-9f2a-1295b5b1170d",
   "metadata": {},
   "outputs": [
    {
     "name": "stdout",
     "output_type": "stream",
     "text": [
      "Apple      43\n",
      "Banana    232\n",
      "Mango      88\n",
      "dtype: int64\n"
     ]
    }
   ],
   "source": [
    "D = pd.Series({\n",
    "    'Apple':43,\n",
    "    'Banana': 232,\n",
    "    'Mango':88})\n",
    "\n",
    "print(D)\n"
   ]
  },
  {
   "cell_type": "code",
   "execution_count": 135,
   "id": "dfb8b07a-7a95-4027-9f56-5eafbf561622",
   "metadata": {},
   "outputs": [
    {
     "name": "stdout",
     "output_type": "stream",
     "text": [
      "43\n",
      "88\n"
     ]
    },
    {
     "name": "stderr",
     "output_type": "stream",
     "text": [
      "C:\\Users\\hibat\\AppData\\Local\\Temp\\ipykernel_1492\\3784368558.py:1: FutureWarning: Series.__getitem__ treating keys as positions is deprecated. In a future version, integer keys will always be treated as labels (consistent with DataFrame behavior). To access a value by position, use `ser.iloc[pos]`\n",
      "  print(D[0])\n"
     ]
    },
    {
     "data": {
      "text/plain": [
       "43"
      ]
     },
     "execution_count": 135,
     "metadata": {},
     "output_type": "execute_result"
    }
   ],
   "source": [
    "print(D[0])\n",
    "print(D['Mango'])\n",
    "D.iloc[0]"
   ]
  },
  {
   "cell_type": "code",
   "execution_count": 136,
   "id": "175b6fd3-673f-4c94-a2c7-7690463d814c",
   "metadata": {},
   "outputs": [
    {
     "name": "stdout",
     "output_type": "stream",
     "text": [
      "Banana    232\n",
      "dtype: int64\n"
     ]
    }
   ],
   "source": [
    "M = D[D>150]\n",
    "print(M)"
   ]
  },
  {
   "cell_type": "code",
   "execution_count": 137,
   "id": "c5154d3e-b5fb-47b2-b9a4-4c9c5e488bfb",
   "metadata": {},
   "outputs": [
    {
     "name": "stdout",
     "output_type": "stream",
     "text": [
      "128.0\n",
      "Eggs\n"
     ]
    }
   ],
   "source": [
    "Dic = pd.Series({\n",
    "    'Milk':120,\n",
    "    'Bread':80,\n",
    "    'Eggs':200,\n",
    "    'Cheese':150,\n",
    "    'Butter':90})\n",
    "\n",
    "sum = Dic.mean()\n",
    "print(sum)\n",
    "\n",
    "max = Dic.idxmax()\n",
    "print( max)"
   ]
  },
  {
   "cell_type": "code",
   "execution_count": 138,
   "id": "650c5e22-36cb-4001-856b-ea1a63a24efe",
   "metadata": {},
   "outputs": [
    {
     "name": "stdout",
     "output_type": "stream",
     "text": [
      "      Month  Sales\n",
      "0   January   1200\n",
      "1  February   1500\n",
      "2     March    800\n",
      "3     April    950\n",
      "\n",
      "Month\n",
      "January     1200\n",
      "February    1500\n",
      "March        800\n",
      "April        950\n",
      "Name: Sales, dtype: int64\n"
     ]
    }
   ],
   "source": [
    "import pandas as pd \n",
    "df = pd.read_csv('sales_data.csv')\n",
    "print(df)\n",
    "print()\n",
    "# converte it to Series\n",
    "\n",
    "Ser = pd.Series(df['Sales'].values, index=df['Month'], name=\"Sales\")\n",
    "print(Ser)"
   ]
  },
  {
   "cell_type": "code",
   "execution_count": 139,
   "id": "2e129fbf-2d68-446f-9fbf-ee27dae14493",
   "metadata": {},
   "outputs": [
    {
     "name": "stdout",
     "output_type": "stream",
     "text": [
      "       Fruite  Price\n",
      "0       Apple     30\n",
      "1      Banana     25\n",
      "2      Orange     40\n",
      "3       Mango     55\n",
      "4  Strawberry     60\n",
      "5      Grapes     45\n",
      "6   Pineapple     50\n",
      "7  Watermelon     70\n",
      "8       Peach     42\n",
      "9      Cherry     80\n",
      "\n",
      "Fruite\n",
      "Apple         30\n",
      "Banana        25\n",
      "Orange        40\n",
      "Mango         55\n",
      "Strawberry    60\n",
      "Grapes        45\n",
      "Pineapple     50\n",
      "Watermelon    70\n",
      "Peach         42\n",
      "Cherry        80\n",
      "Name: Price, dtype: int64\n"
     ]
    }
   ],
   "source": [
    "data = pd.read_csv('Fruit.csv')\n",
    "print(data)\n",
    "\n",
    "print()\n",
    "\n",
    "DSer = pd.Series(data['Price'].values, index=data['Fruite'], name=\"Price\")\n",
    "print(DSer)"
   ]
  },
  {
   "cell_type": "code",
   "execution_count": 140,
   "id": "b9347a22-a91b-4571-ac38-bbfd58947cf6",
   "metadata": {},
   "outputs": [
    {
     "name": "stdout",
     "output_type": "stream",
     "text": [
      "price of mango: 55\n",
      "\n",
      "Fruite\n",
      "Apple          30.0\n",
      "Banana         25.0\n",
      "Orange         40.0\n",
      "Mango          55.0\n",
      "Strawberry     60.0\n",
      "Grapes         45.0\n",
      "Pineapple      50.0\n",
      "Watermelon     70.0\n",
      "Peach          42.0\n",
      "Cherry         80.0\n",
      "Pineapple 1     3.5\n",
      "Name: Price, dtype: float64\n"
     ]
    }
   ],
   "source": [
    "M = DSer['Mango']\n",
    "print('price of mango:', M)\n",
    "\n",
    "print()\n",
    "\n",
    "DSer['Pineapple 1'] = 3.5\n",
    "print(DSer)"
   ]
  },
  {
   "cell_type": "code",
   "execution_count": 141,
   "id": "fe8e2432-24a5-4f06-9153-bb9bd08c66e5",
   "metadata": {},
   "outputs": [
    {
     "name": "stdout",
     "output_type": "stream",
     "text": [
      "Fruite\n",
      "Apple          33.00\n",
      "Banana         27.50\n",
      "Orange         44.00\n",
      "Mango          60.50\n",
      "Strawberry     66.00\n",
      "Grapes         49.50\n",
      "Pineapple      55.00\n",
      "Watermelon     77.00\n",
      "Peach          46.20\n",
      "Cherry         88.00\n",
      "Pineapple 1     3.85\n",
      "Name: Price, dtype: float64\n"
     ]
    }
   ],
   "source": [
    "DSer = DSer *1.1\n",
    "print(DSer)"
   ]
  },
  {
   "cell_type": "code",
   "execution_count": 181,
   "id": "a7dccab3-34e8-43d2-9670-bb79ad5c8ea8",
   "metadata": {},
   "outputs": [
    {
     "name": "stdout",
     "output_type": "stream",
     "text": [
      "       Name  Age           City  Salary Status\n",
      "0     Alice   25       New York   70000      Y\n",
      "1       Bob   30        Chicago   80000      N\n",
      "2   Charlie   28         Boston   75000      N\n",
      "3      John   30       New York   50000      N\n",
      "4     Emily   27        Chicago   55000      N\n",
      "5     James   50    Los Angeles   60000      Y\n",
      "6    Sophia   22  San Francisco   65000      Y\n",
      "7     David   40         Boston   70000      Y\n",
      "8      Anna   28         Austin   48000      Y\n",
      "9      Mike   35          Miami   75000      N\n",
      "10     Jane   25        Seattle   53000      N\n"
     ]
    }
   ],
   "source": [
    "import pandas as pd\n",
    "df = pd.read_csv('employees.csv')\n",
    "print(df)"
   ]
  },
  {
   "cell_type": "code",
   "execution_count": 182,
   "id": "f732e7b6-887e-44fd-92df-5970104afeff",
   "metadata": {},
   "outputs": [
    {
     "data": {
      "text/html": [
       "<div>\n",
       "<style scoped>\n",
       "    .dataframe tbody tr th:only-of-type {\n",
       "        vertical-align: middle;\n",
       "    }\n",
       "\n",
       "    .dataframe tbody tr th {\n",
       "        vertical-align: top;\n",
       "    }\n",
       "\n",
       "    .dataframe thead th {\n",
       "        text-align: right;\n",
       "    }\n",
       "</style>\n",
       "<table border=\"1\" class=\"dataframe\">\n",
       "  <thead>\n",
       "    <tr style=\"text-align: right;\">\n",
       "      <th></th>\n",
       "      <th>Name</th>\n",
       "      <th>Age</th>\n",
       "      <th>City</th>\n",
       "      <th>Salary</th>\n",
       "      <th>Status</th>\n",
       "    </tr>\n",
       "  </thead>\n",
       "  <tbody>\n",
       "    <tr>\n",
       "      <th>0</th>\n",
       "      <td>Alice</td>\n",
       "      <td>25</td>\n",
       "      <td>New York</td>\n",
       "      <td>70000</td>\n",
       "      <td>Y</td>\n",
       "    </tr>\n",
       "    <tr>\n",
       "      <th>1</th>\n",
       "      <td>Bob</td>\n",
       "      <td>30</td>\n",
       "      <td>Chicago</td>\n",
       "      <td>80000</td>\n",
       "      <td>N</td>\n",
       "    </tr>\n",
       "    <tr>\n",
       "      <th>2</th>\n",
       "      <td>Charlie</td>\n",
       "      <td>28</td>\n",
       "      <td>Boston</td>\n",
       "      <td>75000</td>\n",
       "      <td>N</td>\n",
       "    </tr>\n",
       "    <tr>\n",
       "      <th>3</th>\n",
       "      <td>John</td>\n",
       "      <td>30</td>\n",
       "      <td>New York</td>\n",
       "      <td>50000</td>\n",
       "      <td>N</td>\n",
       "    </tr>\n",
       "    <tr>\n",
       "      <th>4</th>\n",
       "      <td>Emily</td>\n",
       "      <td>27</td>\n",
       "      <td>Chicago</td>\n",
       "      <td>55000</td>\n",
       "      <td>N</td>\n",
       "    </tr>\n",
       "  </tbody>\n",
       "</table>\n",
       "</div>"
      ],
      "text/plain": [
       "      Name  Age      City  Salary Status\n",
       "0    Alice   25  New York   70000      Y\n",
       "1      Bob   30   Chicago   80000      N\n",
       "2  Charlie   28    Boston   75000      N\n",
       "3     John   30  New York   50000      N\n",
       "4    Emily   27   Chicago   55000      N"
      ]
     },
     "execution_count": 182,
     "metadata": {},
     "output_type": "execute_result"
    }
   ],
   "source": [
    "df.head()"
   ]
  },
  {
   "cell_type": "code",
   "execution_count": 183,
   "id": "1d731c91-b49b-49dc-bb31-24a340366f2d",
   "metadata": {},
   "outputs": [
    {
     "name": "stdout",
     "output_type": "stream",
     "text": [
      "0     25\n",
      "1     30\n",
      "2     28\n",
      "3     30\n",
      "4     27\n",
      "5     50\n",
      "6     22\n",
      "7     40\n",
      "8     28\n",
      "9     35\n",
      "10    25\n",
      "Name: Age, dtype: int64\n",
      "\n",
      "       Name  Age\n",
      "0     Alice   25\n",
      "1       Bob   30\n",
      "2   Charlie   28\n",
      "3      John   30\n",
      "4     Emily   27\n",
      "5     James   50\n",
      "6    Sophia   22\n",
      "7     David   40\n",
      "8      Anna   28\n",
      "9      Mike   35\n",
      "10     Jane   25\n"
     ]
    }
   ],
   "source": [
    "print(df['Age'])# to find Age \n",
    "print()\n",
    "print(df[['Name','Age']])# To find name and age"
   ]
  },
  {
   "cell_type": "code",
   "execution_count": 184,
   "id": "fd82e8c7-c00b-4491-bdb5-b77339dc9323",
   "metadata": {},
   "outputs": [
    {
     "name": "stdout",
     "output_type": "stream",
     "text": [
      "     Name  Age      City  Salary Status\n",
      "3    John   30  New York   50000      N\n",
      "4   Emily   27   Chicago   55000      N\n",
      "8    Anna   28    Austin   48000      Y\n",
      "10   Jane   25   Seattle   53000      N\n"
     ]
    }
   ],
   "source": [
    "print(df[df['Salary']<60000]) # to find salary less than 60000(filtration)"
   ]
  },
  {
   "cell_type": "code",
   "execution_count": 185,
   "id": "ffd2d3cb-8f16-4a19-8f55-4b14ed4b5ce6",
   "metadata": {},
   "outputs": [
    {
     "name": "stdout",
     "output_type": "stream",
     "text": [
      "<class 'pandas.core.frame.DataFrame'>\n",
      "RangeIndex: 11 entries, 0 to 10\n",
      "Data columns (total 5 columns):\n",
      " #   Column  Non-Null Count  Dtype \n",
      "---  ------  --------------  ----- \n",
      " 0   Name    11 non-null     object\n",
      " 1   Age     11 non-null     int64 \n",
      " 2   City    11 non-null     object\n",
      " 3   Salary  11 non-null     int64 \n",
      " 4   Status  11 non-null     object\n",
      "dtypes: int64(2), object(3)\n",
      "memory usage: 572.0+ bytes\n"
     ]
    }
   ],
   "source": [
    "df.info()"
   ]
  },
  {
   "cell_type": "code",
   "execution_count": 186,
   "id": "3d2ce5e5-9207-40b0-93ec-e41defe5430f",
   "metadata": {},
   "outputs": [
    {
     "data": {
      "text/html": [
       "<div>\n",
       "<style scoped>\n",
       "    .dataframe tbody tr th:only-of-type {\n",
       "        vertical-align: middle;\n",
       "    }\n",
       "\n",
       "    .dataframe tbody tr th {\n",
       "        vertical-align: top;\n",
       "    }\n",
       "\n",
       "    .dataframe thead th {\n",
       "        text-align: right;\n",
       "    }\n",
       "</style>\n",
       "<table border=\"1\" class=\"dataframe\">\n",
       "  <thead>\n",
       "    <tr style=\"text-align: right;\">\n",
       "      <th></th>\n",
       "      <th>Name</th>\n",
       "      <th>Age</th>\n",
       "      <th>City</th>\n",
       "      <th>Salary</th>\n",
       "      <th>Status</th>\n",
       "    </tr>\n",
       "  </thead>\n",
       "  <tbody>\n",
       "    <tr>\n",
       "      <th>5</th>\n",
       "      <td>James</td>\n",
       "      <td>50</td>\n",
       "      <td>Los Angeles</td>\n",
       "      <td>60000</td>\n",
       "      <td>Y</td>\n",
       "    </tr>\n",
       "    <tr>\n",
       "      <th>7</th>\n",
       "      <td>David</td>\n",
       "      <td>40</td>\n",
       "      <td>Boston</td>\n",
       "      <td>70000</td>\n",
       "      <td>Y</td>\n",
       "    </tr>\n",
       "    <tr>\n",
       "      <th>9</th>\n",
       "      <td>Mike</td>\n",
       "      <td>35</td>\n",
       "      <td>Miami</td>\n",
       "      <td>75000</td>\n",
       "      <td>N</td>\n",
       "    </tr>\n",
       "  </tbody>\n",
       "</table>\n",
       "</div>"
      ],
      "text/plain": [
       "    Name  Age         City  Salary Status\n",
       "5  James   50  Los Angeles   60000      Y\n",
       "7  David   40       Boston   70000      Y\n",
       "9   Mike   35        Miami   75000      N"
      ]
     },
     "execution_count": 186,
     "metadata": {},
     "output_type": "execute_result"
    }
   ],
   "source": [
    "df[df['Age']>30]"
   ]
  },
  {
   "cell_type": "code",
   "execution_count": 187,
   "id": "191a0754-0b31-401d-aff9-709ad5257164",
   "metadata": {},
   "outputs": [
    {
     "data": {
      "text/html": [
       "<div>\n",
       "<style scoped>\n",
       "    .dataframe tbody tr th:only-of-type {\n",
       "        vertical-align: middle;\n",
       "    }\n",
       "\n",
       "    .dataframe tbody tr th {\n",
       "        vertical-align: top;\n",
       "    }\n",
       "\n",
       "    .dataframe thead th {\n",
       "        text-align: right;\n",
       "    }\n",
       "</style>\n",
       "<table border=\"1\" class=\"dataframe\">\n",
       "  <thead>\n",
       "    <tr style=\"text-align: right;\">\n",
       "      <th></th>\n",
       "      <th>Name</th>\n",
       "      <th>Age</th>\n",
       "      <th>City</th>\n",
       "      <th>Salary</th>\n",
       "      <th>Status</th>\n",
       "    </tr>\n",
       "  </thead>\n",
       "  <tbody>\n",
       "    <tr>\n",
       "      <th>0</th>\n",
       "      <td>Alice</td>\n",
       "      <td>25</td>\n",
       "      <td>New York</td>\n",
       "      <td>70000</td>\n",
       "      <td>Y</td>\n",
       "    </tr>\n",
       "    <tr>\n",
       "      <th>3</th>\n",
       "      <td>John</td>\n",
       "      <td>30</td>\n",
       "      <td>New York</td>\n",
       "      <td>50000</td>\n",
       "      <td>N</td>\n",
       "    </tr>\n",
       "  </tbody>\n",
       "</table>\n",
       "</div>"
      ],
      "text/plain": [
       "    Name  Age      City  Salary Status\n",
       "0  Alice   25  New York   70000      Y\n",
       "3   John   30  New York   50000      N"
      ]
     },
     "execution_count": 187,
     "metadata": {},
     "output_type": "execute_result"
    }
   ],
   "source": [
    "df[df['City'] == 'New York']"
   ]
  },
  {
   "cell_type": "code",
   "execution_count": 188,
   "id": "f82f9c30-1f84-4f3b-9692-bbd8ad921116",
   "metadata": {},
   "outputs": [
    {
     "data": {
      "text/html": [
       "<div>\n",
       "<style scoped>\n",
       "    .dataframe tbody tr th:only-of-type {\n",
       "        vertical-align: middle;\n",
       "    }\n",
       "\n",
       "    .dataframe tbody tr th {\n",
       "        vertical-align: top;\n",
       "    }\n",
       "\n",
       "    .dataframe thead th {\n",
       "        text-align: right;\n",
       "    }\n",
       "</style>\n",
       "<table border=\"1\" class=\"dataframe\">\n",
       "  <thead>\n",
       "    <tr style=\"text-align: right;\">\n",
       "      <th></th>\n",
       "      <th>Name</th>\n",
       "      <th>Age</th>\n",
       "      <th>City</th>\n",
       "      <th>Salary</th>\n",
       "      <th>Status</th>\n",
       "    </tr>\n",
       "  </thead>\n",
       "  <tbody>\n",
       "    <tr>\n",
       "      <th>0</th>\n",
       "      <td>Alice</td>\n",
       "      <td>25</td>\n",
       "      <td>New York</td>\n",
       "      <td>70000</td>\n",
       "      <td>Y</td>\n",
       "    </tr>\n",
       "    <tr>\n",
       "      <th>1</th>\n",
       "      <td>Bob</td>\n",
       "      <td>30</td>\n",
       "      <td>Chicago</td>\n",
       "      <td>80000</td>\n",
       "      <td>N</td>\n",
       "    </tr>\n",
       "    <tr>\n",
       "      <th>2</th>\n",
       "      <td>Charlie</td>\n",
       "      <td>28</td>\n",
       "      <td>Boston</td>\n",
       "      <td>75000</td>\n",
       "      <td>N</td>\n",
       "    </tr>\n",
       "    <tr>\n",
       "      <th>6</th>\n",
       "      <td>Sophia</td>\n",
       "      <td>22</td>\n",
       "      <td>San Francisco</td>\n",
       "      <td>65000</td>\n",
       "      <td>Y</td>\n",
       "    </tr>\n",
       "    <tr>\n",
       "      <th>7</th>\n",
       "      <td>David</td>\n",
       "      <td>40</td>\n",
       "      <td>Boston</td>\n",
       "      <td>70000</td>\n",
       "      <td>Y</td>\n",
       "    </tr>\n",
       "    <tr>\n",
       "      <th>9</th>\n",
       "      <td>Mike</td>\n",
       "      <td>35</td>\n",
       "      <td>Miami</td>\n",
       "      <td>75000</td>\n",
       "      <td>N</td>\n",
       "    </tr>\n",
       "  </tbody>\n",
       "</table>\n",
       "</div>"
      ],
      "text/plain": [
       "      Name  Age           City  Salary Status\n",
       "0    Alice   25       New York   70000      Y\n",
       "1      Bob   30        Chicago   80000      N\n",
       "2  Charlie   28         Boston   75000      N\n",
       "6   Sophia   22  San Francisco   65000      Y\n",
       "7    David   40         Boston   70000      Y\n",
       "9     Mike   35          Miami   75000      N"
      ]
     },
     "execution_count": 188,
     "metadata": {},
     "output_type": "execute_result"
    }
   ],
   "source": [
    "df[df['Salary'] > 60000]"
   ]
  },
  {
   "cell_type": "code",
   "execution_count": 189,
   "id": "3d09c87d-706f-40f3-b469-e57d5581b7af",
   "metadata": {},
   "outputs": [
    {
     "data": {
      "text/html": [
       "<div>\n",
       "<style scoped>\n",
       "    .dataframe tbody tr th:only-of-type {\n",
       "        vertical-align: middle;\n",
       "    }\n",
       "\n",
       "    .dataframe tbody tr th {\n",
       "        vertical-align: top;\n",
       "    }\n",
       "\n",
       "    .dataframe thead th {\n",
       "        text-align: right;\n",
       "    }\n",
       "</style>\n",
       "<table border=\"1\" class=\"dataframe\">\n",
       "  <thead>\n",
       "    <tr style=\"text-align: right;\">\n",
       "      <th></th>\n",
       "      <th>Name</th>\n",
       "      <th>Age</th>\n",
       "      <th>City</th>\n",
       "      <th>Salary</th>\n",
       "      <th>Status</th>\n",
       "    </tr>\n",
       "  </thead>\n",
       "  <tbody>\n",
       "    <tr>\n",
       "      <th>7</th>\n",
       "      <td>David</td>\n",
       "      <td>40</td>\n",
       "      <td>Boston</td>\n",
       "      <td>70000</td>\n",
       "      <td>Y</td>\n",
       "    </tr>\n",
       "  </tbody>\n",
       "</table>\n",
       "</div>"
      ],
      "text/plain": [
       "    Name  Age    City  Salary Status\n",
       "7  David   40  Boston   70000      Y"
      ]
     },
     "execution_count": 189,
     "metadata": {},
     "output_type": "execute_result"
    }
   ],
   "source": [
    "df[(df['Age'] >25) & (df['Salary'] == 70000)]"
   ]
  },
  {
   "cell_type": "code",
   "execution_count": 190,
   "id": "8e02a516-f9f9-4756-9412-d6105b791484",
   "metadata": {},
   "outputs": [
    {
     "data": {
      "text/html": [
       "<div>\n",
       "<style scoped>\n",
       "    .dataframe tbody tr th:only-of-type {\n",
       "        vertical-align: middle;\n",
       "    }\n",
       "\n",
       "    .dataframe tbody tr th {\n",
       "        vertical-align: top;\n",
       "    }\n",
       "\n",
       "    .dataframe thead th {\n",
       "        text-align: right;\n",
       "    }\n",
       "</style>\n",
       "<table border=\"1\" class=\"dataframe\">\n",
       "  <thead>\n",
       "    <tr style=\"text-align: right;\">\n",
       "      <th></th>\n",
       "      <th>Name</th>\n",
       "      <th>Age</th>\n",
       "      <th>City</th>\n",
       "      <th>Salary</th>\n",
       "      <th>Status</th>\n",
       "    </tr>\n",
       "  </thead>\n",
       "  <tbody>\n",
       "    <tr>\n",
       "      <th>3</th>\n",
       "      <td>John</td>\n",
       "      <td>30</td>\n",
       "      <td>New York</td>\n",
       "      <td>50000</td>\n",
       "      <td>N</td>\n",
       "    </tr>\n",
       "    <tr>\n",
       "      <th>4</th>\n",
       "      <td>Emily</td>\n",
       "      <td>27</td>\n",
       "      <td>Chicago</td>\n",
       "      <td>55000</td>\n",
       "      <td>N</td>\n",
       "    </tr>\n",
       "    <tr>\n",
       "      <th>5</th>\n",
       "      <td>James</td>\n",
       "      <td>50</td>\n",
       "      <td>Los Angeles</td>\n",
       "      <td>60000</td>\n",
       "      <td>Y</td>\n",
       "    </tr>\n",
       "    <tr>\n",
       "      <th>8</th>\n",
       "      <td>Anna</td>\n",
       "      <td>28</td>\n",
       "      <td>Austin</td>\n",
       "      <td>48000</td>\n",
       "      <td>Y</td>\n",
       "    </tr>\n",
       "    <tr>\n",
       "      <th>10</th>\n",
       "      <td>Jane</td>\n",
       "      <td>25</td>\n",
       "      <td>Seattle</td>\n",
       "      <td>53000</td>\n",
       "      <td>N</td>\n",
       "    </tr>\n",
       "  </tbody>\n",
       "</table>\n",
       "</div>"
      ],
      "text/plain": [
       "     Name  Age         City  Salary Status\n",
       "3    John   30     New York   50000      N\n",
       "4   Emily   27      Chicago   55000      N\n",
       "5   James   50  Los Angeles   60000      Y\n",
       "8    Anna   28       Austin   48000      Y\n",
       "10   Jane   25      Seattle   53000      N"
      ]
     },
     "execution_count": 190,
     "metadata": {},
     "output_type": "execute_result"
    }
   ],
   "source": [
    "df[~(df['Salary'] > 60000)]"
   ]
  },
  {
   "cell_type": "code",
   "execution_count": 191,
   "id": "7e668e98-f0cd-4353-991c-61816fb21496",
   "metadata": {},
   "outputs": [
    {
     "data": {
      "text/html": [
       "<div>\n",
       "<style scoped>\n",
       "    .dataframe tbody tr th:only-of-type {\n",
       "        vertical-align: middle;\n",
       "    }\n",
       "\n",
       "    .dataframe tbody tr th {\n",
       "        vertical-align: top;\n",
       "    }\n",
       "\n",
       "    .dataframe thead th {\n",
       "        text-align: right;\n",
       "    }\n",
       "</style>\n",
       "<table border=\"1\" class=\"dataframe\">\n",
       "  <thead>\n",
       "    <tr style=\"text-align: right;\">\n",
       "      <th></th>\n",
       "      <th>Name</th>\n",
       "      <th>Age</th>\n",
       "      <th>City</th>\n",
       "      <th>Salary</th>\n",
       "      <th>Status</th>\n",
       "    </tr>\n",
       "  </thead>\n",
       "  <tbody>\n",
       "    <tr>\n",
       "      <th>0</th>\n",
       "      <td>Alice</td>\n",
       "      <td>25</td>\n",
       "      <td>New York</td>\n",
       "      <td>70000</td>\n",
       "      <td>Y</td>\n",
       "    </tr>\n",
       "    <tr>\n",
       "      <th>6</th>\n",
       "      <td>Sophia</td>\n",
       "      <td>22</td>\n",
       "      <td>San Francisco</td>\n",
       "      <td>65000</td>\n",
       "      <td>Y</td>\n",
       "    </tr>\n",
       "    <tr>\n",
       "      <th>10</th>\n",
       "      <td>Jane</td>\n",
       "      <td>25</td>\n",
       "      <td>Seattle</td>\n",
       "      <td>53000</td>\n",
       "      <td>N</td>\n",
       "    </tr>\n",
       "  </tbody>\n",
       "</table>\n",
       "</div>"
      ],
      "text/plain": [
       "      Name  Age           City  Salary Status\n",
       "0    Alice   25       New York   70000      Y\n",
       "6   Sophia   22  San Francisco   65000      Y\n",
       "10    Jane   25        Seattle   53000      N"
      ]
     },
     "execution_count": 191,
     "metadata": {},
     "output_type": "execute_result"
    }
   ],
   "source": [
    "df[~(df['Age'] > 25)]"
   ]
  },
  {
   "cell_type": "code",
   "execution_count": 192,
   "id": "c7835636-55de-45bb-a193-9b2a063378b3",
   "metadata": {},
   "outputs": [
    {
     "data": {
      "text/html": [
       "<div>\n",
       "<style scoped>\n",
       "    .dataframe tbody tr th:only-of-type {\n",
       "        vertical-align: middle;\n",
       "    }\n",
       "\n",
       "    .dataframe tbody tr th {\n",
       "        vertical-align: top;\n",
       "    }\n",
       "\n",
       "    .dataframe thead th {\n",
       "        text-align: right;\n",
       "    }\n",
       "</style>\n",
       "<table border=\"1\" class=\"dataframe\">\n",
       "  <thead>\n",
       "    <tr style=\"text-align: right;\">\n",
       "      <th></th>\n",
       "      <th>Name</th>\n",
       "      <th>Age</th>\n",
       "      <th>City</th>\n",
       "      <th>Salary</th>\n",
       "      <th>Status</th>\n",
       "    </tr>\n",
       "  </thead>\n",
       "  <tbody>\n",
       "    <tr>\n",
       "      <th>0</th>\n",
       "      <td>Alice</td>\n",
       "      <td>25</td>\n",
       "      <td>New York</td>\n",
       "      <td>70000</td>\n",
       "      <td>Y</td>\n",
       "    </tr>\n",
       "    <tr>\n",
       "      <th>1</th>\n",
       "      <td>Bob</td>\n",
       "      <td>30</td>\n",
       "      <td>Chicago</td>\n",
       "      <td>80000</td>\n",
       "      <td>N</td>\n",
       "    </tr>\n",
       "    <tr>\n",
       "      <th>2</th>\n",
       "      <td>Charlie</td>\n",
       "      <td>28</td>\n",
       "      <td>Boston</td>\n",
       "      <td>75000</td>\n",
       "      <td>N</td>\n",
       "    </tr>\n",
       "    <tr>\n",
       "      <th>3</th>\n",
       "      <td>John</td>\n",
       "      <td>30</td>\n",
       "      <td>New York</td>\n",
       "      <td>50000</td>\n",
       "      <td>N</td>\n",
       "    </tr>\n",
       "    <tr>\n",
       "      <th>4</th>\n",
       "      <td>Emily</td>\n",
       "      <td>27</td>\n",
       "      <td>Chicago</td>\n",
       "      <td>55000</td>\n",
       "      <td>N</td>\n",
       "    </tr>\n",
       "    <tr>\n",
       "      <th>6</th>\n",
       "      <td>Sophia</td>\n",
       "      <td>22</td>\n",
       "      <td>San Francisco</td>\n",
       "      <td>65000</td>\n",
       "      <td>Y</td>\n",
       "    </tr>\n",
       "    <tr>\n",
       "      <th>8</th>\n",
       "      <td>Anna</td>\n",
       "      <td>28</td>\n",
       "      <td>Austin</td>\n",
       "      <td>48000</td>\n",
       "      <td>Y</td>\n",
       "    </tr>\n",
       "    <tr>\n",
       "      <th>10</th>\n",
       "      <td>Jane</td>\n",
       "      <td>25</td>\n",
       "      <td>Seattle</td>\n",
       "      <td>53000</td>\n",
       "      <td>N</td>\n",
       "    </tr>\n",
       "  </tbody>\n",
       "</table>\n",
       "</div>"
      ],
      "text/plain": [
       "       Name  Age           City  Salary Status\n",
       "0     Alice   25       New York   70000      Y\n",
       "1       Bob   30        Chicago   80000      N\n",
       "2   Charlie   28         Boston   75000      N\n",
       "3      John   30       New York   50000      N\n",
       "4     Emily   27        Chicago   55000      N\n",
       "6    Sophia   22  San Francisco   65000      Y\n",
       "8      Anna   28         Austin   48000      Y\n",
       "10     Jane   25        Seattle   53000      N"
      ]
     },
     "execution_count": 192,
     "metadata": {},
     "output_type": "execute_result"
    }
   ],
   "source": [
    "df[df['Age'].between(20, 30)]"
   ]
  },
  {
   "cell_type": "code",
   "execution_count": 193,
   "id": "a6b1f13a-64c5-40c3-a1df-d5038a59a6aa",
   "metadata": {},
   "outputs": [
    {
     "data": {
      "text/html": [
       "<div>\n",
       "<style scoped>\n",
       "    .dataframe tbody tr th:only-of-type {\n",
       "        vertical-align: middle;\n",
       "    }\n",
       "\n",
       "    .dataframe tbody tr th {\n",
       "        vertical-align: top;\n",
       "    }\n",
       "\n",
       "    .dataframe thead th {\n",
       "        text-align: right;\n",
       "    }\n",
       "</style>\n",
       "<table border=\"1\" class=\"dataframe\">\n",
       "  <thead>\n",
       "    <tr style=\"text-align: right;\">\n",
       "      <th></th>\n",
       "      <th>Name</th>\n",
       "      <th>Age</th>\n",
       "      <th>City</th>\n",
       "      <th>Salary</th>\n",
       "      <th>Status</th>\n",
       "    </tr>\n",
       "  </thead>\n",
       "  <tbody>\n",
       "    <tr>\n",
       "      <th>0</th>\n",
       "      <td>Alice</td>\n",
       "      <td>25</td>\n",
       "      <td>New York</td>\n",
       "      <td>70000</td>\n",
       "      <td>Y</td>\n",
       "    </tr>\n",
       "    <tr>\n",
       "      <th>1</th>\n",
       "      <td>Bob</td>\n",
       "      <td>30</td>\n",
       "      <td>Chicago</td>\n",
       "      <td>80000</td>\n",
       "      <td>N</td>\n",
       "    </tr>\n",
       "    <tr>\n",
       "      <th>2</th>\n",
       "      <td>Charlie</td>\n",
       "      <td>28</td>\n",
       "      <td>Boston</td>\n",
       "      <td>75000</td>\n",
       "      <td>N</td>\n",
       "    </tr>\n",
       "    <tr>\n",
       "      <th>3</th>\n",
       "      <td>John</td>\n",
       "      <td>30</td>\n",
       "      <td>New York</td>\n",
       "      <td>50000</td>\n",
       "      <td>N</td>\n",
       "    </tr>\n",
       "    <tr>\n",
       "      <th>4</th>\n",
       "      <td>Emily</td>\n",
       "      <td>27</td>\n",
       "      <td>Chicago</td>\n",
       "      <td>55000</td>\n",
       "      <td>N</td>\n",
       "    </tr>\n",
       "    <tr>\n",
       "      <th>6</th>\n",
       "      <td>Sophia</td>\n",
       "      <td>22</td>\n",
       "      <td>San Francisco</td>\n",
       "      <td>65000</td>\n",
       "      <td>Y</td>\n",
       "    </tr>\n",
       "    <tr>\n",
       "      <th>8</th>\n",
       "      <td>Anna</td>\n",
       "      <td>28</td>\n",
       "      <td>Austin</td>\n",
       "      <td>48000</td>\n",
       "      <td>Y</td>\n",
       "    </tr>\n",
       "    <tr>\n",
       "      <th>10</th>\n",
       "      <td>Jane</td>\n",
       "      <td>25</td>\n",
       "      <td>Seattle</td>\n",
       "      <td>53000</td>\n",
       "      <td>N</td>\n",
       "    </tr>\n",
       "  </tbody>\n",
       "</table>\n",
       "</div>"
      ],
      "text/plain": [
       "       Name  Age           City  Salary Status\n",
       "0     Alice   25       New York   70000      Y\n",
       "1       Bob   30        Chicago   80000      N\n",
       "2   Charlie   28         Boston   75000      N\n",
       "3      John   30       New York   50000      N\n",
       "4     Emily   27        Chicago   55000      N\n",
       "6    Sophia   22  San Francisco   65000      Y\n",
       "8      Anna   28         Austin   48000      Y\n",
       "10     Jane   25        Seattle   53000      N"
      ]
     },
     "execution_count": 193,
     "metadata": {},
     "output_type": "execute_result"
    }
   ],
   "source": [
    "df[(df['Age'] >20) & (df['Age'] <35)]"
   ]
  },
  {
   "cell_type": "code",
   "execution_count": 194,
   "id": "9c8e4d39-4dbd-420b-8f54-a765cd10b672",
   "metadata": {},
   "outputs": [
    {
     "data": {
      "text/html": [
       "<div>\n",
       "<style scoped>\n",
       "    .dataframe tbody tr th:only-of-type {\n",
       "        vertical-align: middle;\n",
       "    }\n",
       "\n",
       "    .dataframe tbody tr th {\n",
       "        vertical-align: top;\n",
       "    }\n",
       "\n",
       "    .dataframe thead th {\n",
       "        text-align: right;\n",
       "    }\n",
       "</style>\n",
       "<table border=\"1\" class=\"dataframe\">\n",
       "  <thead>\n",
       "    <tr style=\"text-align: right;\">\n",
       "      <th></th>\n",
       "      <th>Name</th>\n",
       "      <th>Age</th>\n",
       "      <th>City</th>\n",
       "      <th>Salary</th>\n",
       "      <th>Status</th>\n",
       "    </tr>\n",
       "  </thead>\n",
       "  <tbody>\n",
       "    <tr>\n",
       "      <th>3</th>\n",
       "      <td>John</td>\n",
       "      <td>30</td>\n",
       "      <td>New York</td>\n",
       "      <td>50000</td>\n",
       "      <td>N</td>\n",
       "    </tr>\n",
       "    <tr>\n",
       "      <th>4</th>\n",
       "      <td>Emily</td>\n",
       "      <td>27</td>\n",
       "      <td>Chicago</td>\n",
       "      <td>55000</td>\n",
       "      <td>N</td>\n",
       "    </tr>\n",
       "    <tr>\n",
       "      <th>8</th>\n",
       "      <td>Anna</td>\n",
       "      <td>28</td>\n",
       "      <td>Austin</td>\n",
       "      <td>48000</td>\n",
       "      <td>Y</td>\n",
       "    </tr>\n",
       "    <tr>\n",
       "      <th>10</th>\n",
       "      <td>Jane</td>\n",
       "      <td>25</td>\n",
       "      <td>Seattle</td>\n",
       "      <td>53000</td>\n",
       "      <td>N</td>\n",
       "    </tr>\n",
       "  </tbody>\n",
       "</table>\n",
       "</div>"
      ],
      "text/plain": [
       "     Name  Age      City  Salary Status\n",
       "3    John   30  New York   50000      N\n",
       "4   Emily   27   Chicago   55000      N\n",
       "8    Anna   28    Austin   48000      Y\n",
       "10   Jane   25   Seattle   53000      N"
      ]
     },
     "execution_count": 194,
     "metadata": {},
     "output_type": "execute_result"
    }
   ],
   "source": [
    "df[(df['Salary'] >40000) & (df['Salary'] <60000)]"
   ]
  },
  {
   "cell_type": "code",
   "execution_count": 195,
   "id": "6beaa9df-21a5-4265-ae47-457fef96c0a0",
   "metadata": {},
   "outputs": [
    {
     "data": {
      "text/html": [
       "<div>\n",
       "<style scoped>\n",
       "    .dataframe tbody tr th:only-of-type {\n",
       "        vertical-align: middle;\n",
       "    }\n",
       "\n",
       "    .dataframe tbody tr th {\n",
       "        vertical-align: top;\n",
       "    }\n",
       "\n",
       "    .dataframe thead th {\n",
       "        text-align: right;\n",
       "    }\n",
       "</style>\n",
       "<table border=\"1\" class=\"dataframe\">\n",
       "  <thead>\n",
       "    <tr style=\"text-align: right;\">\n",
       "      <th></th>\n",
       "      <th>Name</th>\n",
       "      <th>Age</th>\n",
       "      <th>City</th>\n",
       "      <th>Salary</th>\n",
       "      <th>Status</th>\n",
       "    </tr>\n",
       "  </thead>\n",
       "  <tbody>\n",
       "    <tr>\n",
       "      <th>3</th>\n",
       "      <td>John</td>\n",
       "      <td>30</td>\n",
       "      <td>New York</td>\n",
       "      <td>50000</td>\n",
       "      <td>N</td>\n",
       "    </tr>\n",
       "    <tr>\n",
       "      <th>4</th>\n",
       "      <td>Emily</td>\n",
       "      <td>27</td>\n",
       "      <td>Chicago</td>\n",
       "      <td>55000</td>\n",
       "      <td>N</td>\n",
       "    </tr>\n",
       "    <tr>\n",
       "      <th>5</th>\n",
       "      <td>James</td>\n",
       "      <td>50</td>\n",
       "      <td>Los Angeles</td>\n",
       "      <td>60000</td>\n",
       "      <td>Y</td>\n",
       "    </tr>\n",
       "    <tr>\n",
       "      <th>8</th>\n",
       "      <td>Anna</td>\n",
       "      <td>28</td>\n",
       "      <td>Austin</td>\n",
       "      <td>48000</td>\n",
       "      <td>Y</td>\n",
       "    </tr>\n",
       "    <tr>\n",
       "      <th>10</th>\n",
       "      <td>Jane</td>\n",
       "      <td>25</td>\n",
       "      <td>Seattle</td>\n",
       "      <td>53000</td>\n",
       "      <td>N</td>\n",
       "    </tr>\n",
       "  </tbody>\n",
       "</table>\n",
       "</div>"
      ],
      "text/plain": [
       "     Name  Age         City  Salary Status\n",
       "3    John   30     New York   50000      N\n",
       "4   Emily   27      Chicago   55000      N\n",
       "5   James   50  Los Angeles   60000      Y\n",
       "8    Anna   28       Austin   48000      Y\n",
       "10   Jane   25      Seattle   53000      N"
      ]
     },
     "execution_count": 195,
     "metadata": {},
     "output_type": "execute_result"
    }
   ],
   "source": [
    "df[df['Salary'].between(40000, 60000)] # it is same as breviouse one but here we use between condition"
   ]
  },
  {
   "cell_type": "code",
   "execution_count": 196,
   "id": "e78259ea-e449-4154-b7a1-2e416f2efe68",
   "metadata": {},
   "outputs": [
    {
     "data": {
      "text/html": [
       "<div>\n",
       "<style scoped>\n",
       "    .dataframe tbody tr th:only-of-type {\n",
       "        vertical-align: middle;\n",
       "    }\n",
       "\n",
       "    .dataframe tbody tr th {\n",
       "        vertical-align: top;\n",
       "    }\n",
       "\n",
       "    .dataframe thead th {\n",
       "        text-align: right;\n",
       "    }\n",
       "</style>\n",
       "<table border=\"1\" class=\"dataframe\">\n",
       "  <thead>\n",
       "    <tr style=\"text-align: right;\">\n",
       "      <th></th>\n",
       "      <th>Name</th>\n",
       "      <th>Age</th>\n",
       "      <th>City</th>\n",
       "      <th>Salary</th>\n",
       "      <th>Status</th>\n",
       "    </tr>\n",
       "  </thead>\n",
       "  <tbody>\n",
       "    <tr>\n",
       "      <th>7</th>\n",
       "      <td>David</td>\n",
       "      <td>40</td>\n",
       "      <td>Boston</td>\n",
       "      <td>70000</td>\n",
       "      <td>Y</td>\n",
       "    </tr>\n",
       "  </tbody>\n",
       "</table>\n",
       "</div>"
      ],
      "text/plain": [
       "    Name  Age    City  Salary Status\n",
       "7  David   40  Boston   70000      Y"
      ]
     },
     "execution_count": 196,
     "metadata": {},
     "output_type": "execute_result"
    }
   ],
   "source": [
    "df[df['Name'].str.contains('David')]"
   ]
  },
  {
   "cell_type": "code",
   "execution_count": 197,
   "id": "7e0780b7-a0c4-4deb-a27a-62b7bc830924",
   "metadata": {},
   "outputs": [
    {
     "data": {
      "text/html": [
       "<div>\n",
       "<style scoped>\n",
       "    .dataframe tbody tr th:only-of-type {\n",
       "        vertical-align: middle;\n",
       "    }\n",
       "\n",
       "    .dataframe tbody tr th {\n",
       "        vertical-align: top;\n",
       "    }\n",
       "\n",
       "    .dataframe thead th {\n",
       "        text-align: right;\n",
       "    }\n",
       "</style>\n",
       "<table border=\"1\" class=\"dataframe\">\n",
       "  <thead>\n",
       "    <tr style=\"text-align: right;\">\n",
       "      <th></th>\n",
       "      <th>Name</th>\n",
       "      <th>Age</th>\n",
       "      <th>City</th>\n",
       "      <th>Salary</th>\n",
       "      <th>Status</th>\n",
       "    </tr>\n",
       "  </thead>\n",
       "  <tbody>\n",
       "    <tr>\n",
       "      <th>3</th>\n",
       "      <td>John</td>\n",
       "      <td>30</td>\n",
       "      <td>New York</td>\n",
       "      <td>50000</td>\n",
       "      <td>N</td>\n",
       "    </tr>\n",
       "    <tr>\n",
       "      <th>5</th>\n",
       "      <td>James</td>\n",
       "      <td>50</td>\n",
       "      <td>Los Angeles</td>\n",
       "      <td>60000</td>\n",
       "      <td>Y</td>\n",
       "    </tr>\n",
       "    <tr>\n",
       "      <th>10</th>\n",
       "      <td>Jane</td>\n",
       "      <td>25</td>\n",
       "      <td>Seattle</td>\n",
       "      <td>53000</td>\n",
       "      <td>N</td>\n",
       "    </tr>\n",
       "  </tbody>\n",
       "</table>\n",
       "</div>"
      ],
      "text/plain": [
       "     Name  Age         City  Salary Status\n",
       "3    John   30     New York   50000      N\n",
       "5   James   50  Los Angeles   60000      Y\n",
       "10   Jane   25      Seattle   53000      N"
      ]
     },
     "execution_count": 197,
     "metadata": {},
     "output_type": "execute_result"
    }
   ],
   "source": [
    "df[df['Name'].str.startswith('J')]"
   ]
  },
  {
   "cell_type": "code",
   "execution_count": 198,
   "id": "843a5e6a-c0be-48ab-97c1-2a9da94f984b",
   "metadata": {},
   "outputs": [
    {
     "data": {
      "text/html": [
       "<div>\n",
       "<style scoped>\n",
       "    .dataframe tbody tr th:only-of-type {\n",
       "        vertical-align: middle;\n",
       "    }\n",
       "\n",
       "    .dataframe tbody tr th {\n",
       "        vertical-align: top;\n",
       "    }\n",
       "\n",
       "    .dataframe thead th {\n",
       "        text-align: right;\n",
       "    }\n",
       "</style>\n",
       "<table border=\"1\" class=\"dataframe\">\n",
       "  <thead>\n",
       "    <tr style=\"text-align: right;\">\n",
       "      <th></th>\n",
       "      <th>Name</th>\n",
       "      <th>Age</th>\n",
       "      <th>City</th>\n",
       "      <th>Salary</th>\n",
       "      <th>Status</th>\n",
       "    </tr>\n",
       "  </thead>\n",
       "  <tbody>\n",
       "    <tr>\n",
       "      <th>0</th>\n",
       "      <td>Alice</td>\n",
       "      <td>25</td>\n",
       "      <td>New York</td>\n",
       "      <td>70000</td>\n",
       "      <td>Y</td>\n",
       "    </tr>\n",
       "    <tr>\n",
       "      <th>3</th>\n",
       "      <td>John</td>\n",
       "      <td>30</td>\n",
       "      <td>New York</td>\n",
       "      <td>50000</td>\n",
       "      <td>N</td>\n",
       "    </tr>\n",
       "  </tbody>\n",
       "</table>\n",
       "</div>"
      ],
      "text/plain": [
       "    Name  Age      City  Salary Status\n",
       "0  Alice   25  New York   70000      Y\n",
       "3   John   30  New York   50000      N"
      ]
     },
     "execution_count": 198,
     "metadata": {},
     "output_type": "execute_result"
    }
   ],
   "source": [
    "df[df['City'].str.startswith('N')]\n"
   ]
  },
  {
   "cell_type": "code",
   "execution_count": 199,
   "id": "025bd257-409c-4a37-9d00-9ec0dbb4adcc",
   "metadata": {},
   "outputs": [
    {
     "data": {
      "text/plain": [
       "Name      0\n",
       "Age       0\n",
       "City      0\n",
       "Salary    0\n",
       "Status    0\n",
       "dtype: int64"
      ]
     },
     "execution_count": 199,
     "metadata": {},
     "output_type": "execute_result"
    }
   ],
   "source": [
    "df.isnull().sum()"
   ]
  },
  {
   "cell_type": "code",
   "execution_count": 200,
   "id": "3bb03bbf-0aaf-4d73-9541-e3202cd75e24",
   "metadata": {},
   "outputs": [
    {
     "data": {
      "text/html": [
       "<div>\n",
       "<style scoped>\n",
       "    .dataframe tbody tr th:only-of-type {\n",
       "        vertical-align: middle;\n",
       "    }\n",
       "\n",
       "    .dataframe tbody tr th {\n",
       "        vertical-align: top;\n",
       "    }\n",
       "\n",
       "    .dataframe thead th {\n",
       "        text-align: right;\n",
       "    }\n",
       "</style>\n",
       "<table border=\"1\" class=\"dataframe\">\n",
       "  <thead>\n",
       "    <tr style=\"text-align: right;\">\n",
       "      <th></th>\n",
       "      <th>Name</th>\n",
       "      <th>Age</th>\n",
       "      <th>City</th>\n",
       "      <th>Salary</th>\n",
       "      <th>Status</th>\n",
       "    </tr>\n",
       "  </thead>\n",
       "  <tbody>\n",
       "    <tr>\n",
       "      <th>0</th>\n",
       "      <td>True</td>\n",
       "      <td>True</td>\n",
       "      <td>True</td>\n",
       "      <td>True</td>\n",
       "      <td>True</td>\n",
       "    </tr>\n",
       "    <tr>\n",
       "      <th>1</th>\n",
       "      <td>True</td>\n",
       "      <td>True</td>\n",
       "      <td>True</td>\n",
       "      <td>True</td>\n",
       "      <td>True</td>\n",
       "    </tr>\n",
       "    <tr>\n",
       "      <th>2</th>\n",
       "      <td>True</td>\n",
       "      <td>True</td>\n",
       "      <td>True</td>\n",
       "      <td>True</td>\n",
       "      <td>True</td>\n",
       "    </tr>\n",
       "    <tr>\n",
       "      <th>3</th>\n",
       "      <td>True</td>\n",
       "      <td>True</td>\n",
       "      <td>True</td>\n",
       "      <td>True</td>\n",
       "      <td>True</td>\n",
       "    </tr>\n",
       "    <tr>\n",
       "      <th>4</th>\n",
       "      <td>True</td>\n",
       "      <td>True</td>\n",
       "      <td>True</td>\n",
       "      <td>True</td>\n",
       "      <td>True</td>\n",
       "    </tr>\n",
       "    <tr>\n",
       "      <th>5</th>\n",
       "      <td>True</td>\n",
       "      <td>True</td>\n",
       "      <td>True</td>\n",
       "      <td>True</td>\n",
       "      <td>True</td>\n",
       "    </tr>\n",
       "    <tr>\n",
       "      <th>6</th>\n",
       "      <td>True</td>\n",
       "      <td>True</td>\n",
       "      <td>True</td>\n",
       "      <td>True</td>\n",
       "      <td>True</td>\n",
       "    </tr>\n",
       "    <tr>\n",
       "      <th>7</th>\n",
       "      <td>True</td>\n",
       "      <td>True</td>\n",
       "      <td>True</td>\n",
       "      <td>True</td>\n",
       "      <td>True</td>\n",
       "    </tr>\n",
       "    <tr>\n",
       "      <th>8</th>\n",
       "      <td>True</td>\n",
       "      <td>True</td>\n",
       "      <td>True</td>\n",
       "      <td>True</td>\n",
       "      <td>True</td>\n",
       "    </tr>\n",
       "    <tr>\n",
       "      <th>9</th>\n",
       "      <td>True</td>\n",
       "      <td>True</td>\n",
       "      <td>True</td>\n",
       "      <td>True</td>\n",
       "      <td>True</td>\n",
       "    </tr>\n",
       "    <tr>\n",
       "      <th>10</th>\n",
       "      <td>True</td>\n",
       "      <td>True</td>\n",
       "      <td>True</td>\n",
       "      <td>True</td>\n",
       "      <td>True</td>\n",
       "    </tr>\n",
       "  </tbody>\n",
       "</table>\n",
       "</div>"
      ],
      "text/plain": [
       "    Name   Age  City  Salary  Status\n",
       "0   True  True  True    True    True\n",
       "1   True  True  True    True    True\n",
       "2   True  True  True    True    True\n",
       "3   True  True  True    True    True\n",
       "4   True  True  True    True    True\n",
       "5   True  True  True    True    True\n",
       "6   True  True  True    True    True\n",
       "7   True  True  True    True    True\n",
       "8   True  True  True    True    True\n",
       "9   True  True  True    True    True\n",
       "10  True  True  True    True    True"
      ]
     },
     "execution_count": 200,
     "metadata": {},
     "output_type": "execute_result"
    }
   ],
   "source": [
    "df.notnull()"
   ]
  },
  {
   "cell_type": "code",
   "execution_count": 201,
   "id": "0a2d30c3-8e74-48fb-b288-594b5e4a4dba",
   "metadata": {},
   "outputs": [
    {
     "name": "stdout",
     "output_type": "stream",
     "text": [
      "    Salary    Age\n",
      "0    False  False\n",
      "1    False  False\n",
      "2    False  False\n",
      "3    False  False\n",
      "4    False  False\n",
      "5    False  False\n",
      "6    False  False\n",
      "7    False  False\n",
      "8    False  False\n",
      "9    False  False\n",
      "10   False  False\n",
      "\n",
      "Empty DataFrame\n",
      "Columns: [Name, Age, City, Salary, Status]\n",
      "Index: []\n"
     ]
    }
   ],
   "source": [
    "print(df[['Salary', 'Age']].isnull())\n",
    "print()\n",
    "print(df[df['Salary'].isnull()])"
   ]
  },
  {
   "cell_type": "code",
   "execution_count": 202,
   "id": "dec3f147-5951-40e6-92e8-ec03d9706e3d",
   "metadata": {},
   "outputs": [
    {
     "data": {
      "text/html": [
       "<div>\n",
       "<style scoped>\n",
       "    .dataframe tbody tr th:only-of-type {\n",
       "        vertical-align: middle;\n",
       "    }\n",
       "\n",
       "    .dataframe tbody tr th {\n",
       "        vertical-align: top;\n",
       "    }\n",
       "\n",
       "    .dataframe thead th {\n",
       "        text-align: right;\n",
       "    }\n",
       "</style>\n",
       "<table border=\"1\" class=\"dataframe\">\n",
       "  <thead>\n",
       "    <tr style=\"text-align: right;\">\n",
       "      <th></th>\n",
       "      <th>Name</th>\n",
       "      <th>Age</th>\n",
       "      <th>City</th>\n",
       "      <th>Salary</th>\n",
       "      <th>Status</th>\n",
       "    </tr>\n",
       "  </thead>\n",
       "  <tbody>\n",
       "    <tr>\n",
       "      <th>1</th>\n",
       "      <td>Bob</td>\n",
       "      <td>30</td>\n",
       "      <td>Chicago</td>\n",
       "      <td>80000</td>\n",
       "      <td>N</td>\n",
       "    </tr>\n",
       "    <tr>\n",
       "      <th>2</th>\n",
       "      <td>Charlie</td>\n",
       "      <td>28</td>\n",
       "      <td>Boston</td>\n",
       "      <td>75000</td>\n",
       "      <td>N</td>\n",
       "    </tr>\n",
       "    <tr>\n",
       "      <th>9</th>\n",
       "      <td>Mike</td>\n",
       "      <td>35</td>\n",
       "      <td>Miami</td>\n",
       "      <td>75000</td>\n",
       "      <td>N</td>\n",
       "    </tr>\n",
       "  </tbody>\n",
       "</table>\n",
       "</div>"
      ],
      "text/plain": [
       "      Name  Age     City  Salary Status\n",
       "1      Bob   30  Chicago   80000      N\n",
       "2  Charlie   28   Boston   75000      N\n",
       "9     Mike   35    Miami   75000      N"
      ]
     },
     "execution_count": 202,
     "metadata": {},
     "output_type": "execute_result"
    }
   ],
   "source": [
    "M = df['Salary']>70000\n",
    "df[M]"
   ]
  },
  {
   "cell_type": "code",
   "execution_count": 203,
   "id": "aed7c44a-4323-4941-bba5-3e633a787dc3",
   "metadata": {},
   "outputs": [
    {
     "data": {
      "text/plain": [
       "0     False\n",
       "1     False\n",
       "2     False\n",
       "3     False\n",
       "4     False\n",
       "5      True\n",
       "6     False\n",
       "7      True\n",
       "8     False\n",
       "9      True\n",
       "10    False\n",
       "Name: Age, dtype: bool"
      ]
     },
     "execution_count": 203,
     "metadata": {},
     "output_type": "execute_result"
    }
   ],
   "source": [
    "D = df['Age']>30\n",
    "D"
   ]
  },
  {
   "cell_type": "code",
   "execution_count": 204,
   "id": "dc127ca6-d2ba-4dc7-a026-180fbb99fc99",
   "metadata": {},
   "outputs": [
    {
     "data": {
      "text/html": [
       "<div>\n",
       "<style scoped>\n",
       "    .dataframe tbody tr th:only-of-type {\n",
       "        vertical-align: middle;\n",
       "    }\n",
       "\n",
       "    .dataframe tbody tr th {\n",
       "        vertical-align: top;\n",
       "    }\n",
       "\n",
       "    .dataframe thead th {\n",
       "        text-align: right;\n",
       "    }\n",
       "</style>\n",
       "<table border=\"1\" class=\"dataframe\">\n",
       "  <thead>\n",
       "    <tr style=\"text-align: right;\">\n",
       "      <th></th>\n",
       "      <th>Name</th>\n",
       "      <th>Age</th>\n",
       "      <th>City</th>\n",
       "      <th>Salary</th>\n",
       "      <th>Status</th>\n",
       "    </tr>\n",
       "  </thead>\n",
       "  <tbody>\n",
       "    <tr>\n",
       "      <th>5</th>\n",
       "      <td>James</td>\n",
       "      <td>50</td>\n",
       "      <td>Los Angeles</td>\n",
       "      <td>60000</td>\n",
       "      <td>Y</td>\n",
       "    </tr>\n",
       "    <tr>\n",
       "      <th>7</th>\n",
       "      <td>David</td>\n",
       "      <td>40</td>\n",
       "      <td>Boston</td>\n",
       "      <td>70000</td>\n",
       "      <td>Y</td>\n",
       "    </tr>\n",
       "    <tr>\n",
       "      <th>9</th>\n",
       "      <td>Mike</td>\n",
       "      <td>35</td>\n",
       "      <td>Miami</td>\n",
       "      <td>75000</td>\n",
       "      <td>N</td>\n",
       "    </tr>\n",
       "  </tbody>\n",
       "</table>\n",
       "</div>"
      ],
      "text/plain": [
       "    Name  Age         City  Salary Status\n",
       "5  James   50  Los Angeles   60000      Y\n",
       "7  David   40       Boston   70000      Y\n",
       "9   Mike   35        Miami   75000      N"
      ]
     },
     "execution_count": 204,
     "metadata": {},
     "output_type": "execute_result"
    }
   ],
   "source": [
    "df[D]"
   ]
  },
  {
   "cell_type": "code",
   "execution_count": 205,
   "id": "ecb8e4ea-6882-45ce-923d-60c61446c3d2",
   "metadata": {},
   "outputs": [],
   "source": [
    "df.drop(columns=['Status'], inplace=True)"
   ]
  },
  {
   "cell_type": "code",
   "execution_count": 206,
   "id": "5a20c30b-526b-46f7-b3b5-e3b212dca788",
   "metadata": {},
   "outputs": [
    {
     "data": {
      "text/html": [
       "<div>\n",
       "<style scoped>\n",
       "    .dataframe tbody tr th:only-of-type {\n",
       "        vertical-align: middle;\n",
       "    }\n",
       "\n",
       "    .dataframe tbody tr th {\n",
       "        vertical-align: top;\n",
       "    }\n",
       "\n",
       "    .dataframe thead th {\n",
       "        text-align: right;\n",
       "    }\n",
       "</style>\n",
       "<table border=\"1\" class=\"dataframe\">\n",
       "  <thead>\n",
       "    <tr style=\"text-align: right;\">\n",
       "      <th></th>\n",
       "      <th>Name</th>\n",
       "      <th>Age</th>\n",
       "      <th>City</th>\n",
       "      <th>Salary</th>\n",
       "      <th>Bonus</th>\n",
       "    </tr>\n",
       "  </thead>\n",
       "  <tbody>\n",
       "    <tr>\n",
       "      <th>0</th>\n",
       "      <td>Alice</td>\n",
       "      <td>25</td>\n",
       "      <td>New York</td>\n",
       "      <td>70000</td>\n",
       "      <td>21000.0</td>\n",
       "    </tr>\n",
       "    <tr>\n",
       "      <th>1</th>\n",
       "      <td>Bob</td>\n",
       "      <td>30</td>\n",
       "      <td>Chicago</td>\n",
       "      <td>80000</td>\n",
       "      <td>24000.0</td>\n",
       "    </tr>\n",
       "    <tr>\n",
       "      <th>2</th>\n",
       "      <td>Charlie</td>\n",
       "      <td>28</td>\n",
       "      <td>Boston</td>\n",
       "      <td>75000</td>\n",
       "      <td>22500.0</td>\n",
       "    </tr>\n",
       "    <tr>\n",
       "      <th>3</th>\n",
       "      <td>John</td>\n",
       "      <td>30</td>\n",
       "      <td>New York</td>\n",
       "      <td>50000</td>\n",
       "      <td>15000.0</td>\n",
       "    </tr>\n",
       "    <tr>\n",
       "      <th>4</th>\n",
       "      <td>Emily</td>\n",
       "      <td>27</td>\n",
       "      <td>Chicago</td>\n",
       "      <td>55000</td>\n",
       "      <td>16500.0</td>\n",
       "    </tr>\n",
       "    <tr>\n",
       "      <th>5</th>\n",
       "      <td>James</td>\n",
       "      <td>50</td>\n",
       "      <td>Los Angeles</td>\n",
       "      <td>60000</td>\n",
       "      <td>18000.0</td>\n",
       "    </tr>\n",
       "    <tr>\n",
       "      <th>6</th>\n",
       "      <td>Sophia</td>\n",
       "      <td>22</td>\n",
       "      <td>San Francisco</td>\n",
       "      <td>65000</td>\n",
       "      <td>19500.0</td>\n",
       "    </tr>\n",
       "    <tr>\n",
       "      <th>7</th>\n",
       "      <td>David</td>\n",
       "      <td>40</td>\n",
       "      <td>Boston</td>\n",
       "      <td>70000</td>\n",
       "      <td>21000.0</td>\n",
       "    </tr>\n",
       "    <tr>\n",
       "      <th>8</th>\n",
       "      <td>Anna</td>\n",
       "      <td>28</td>\n",
       "      <td>Austin</td>\n",
       "      <td>48000</td>\n",
       "      <td>14400.0</td>\n",
       "    </tr>\n",
       "    <tr>\n",
       "      <th>9</th>\n",
       "      <td>Mike</td>\n",
       "      <td>35</td>\n",
       "      <td>Miami</td>\n",
       "      <td>75000</td>\n",
       "      <td>22500.0</td>\n",
       "    </tr>\n",
       "  </tbody>\n",
       "</table>\n",
       "</div>"
      ],
      "text/plain": [
       "      Name  Age           City  Salary    Bonus\n",
       "0    Alice   25       New York   70000  21000.0\n",
       "1      Bob   30        Chicago   80000  24000.0\n",
       "2  Charlie   28         Boston   75000  22500.0\n",
       "3     John   30       New York   50000  15000.0\n",
       "4    Emily   27        Chicago   55000  16500.0\n",
       "5    James   50    Los Angeles   60000  18000.0\n",
       "6   Sophia   22  San Francisco   65000  19500.0\n",
       "7    David   40         Boston   70000  21000.0\n",
       "8     Anna   28         Austin   48000  14400.0\n",
       "9     Mike   35          Miami   75000  22500.0"
      ]
     },
     "execution_count": 206,
     "metadata": {},
     "output_type": "execute_result"
    }
   ],
   "source": [
    "df['Bonus'] = df['Salary']*0.3\n",
    "df.head(10)"
   ]
  },
  {
   "cell_type": "code",
   "execution_count": 207,
   "id": "f973fae8-9d8d-49e8-b342-d61c93e4c4c5",
   "metadata": {},
   "outputs": [
    {
     "data": {
      "text/html": [
       "<div>\n",
       "<style scoped>\n",
       "    .dataframe tbody tr th:only-of-type {\n",
       "        vertical-align: middle;\n",
       "    }\n",
       "\n",
       "    .dataframe tbody tr th {\n",
       "        vertical-align: top;\n",
       "    }\n",
       "\n",
       "    .dataframe thead th {\n",
       "        text-align: right;\n",
       "    }\n",
       "</style>\n",
       "<table border=\"1\" class=\"dataframe\">\n",
       "  <thead>\n",
       "    <tr style=\"text-align: right;\">\n",
       "      <th></th>\n",
       "      <th>Name</th>\n",
       "      <th>Age</th>\n",
       "      <th>City</th>\n",
       "      <th>Salary</th>\n",
       "      <th>Bonus</th>\n",
       "    </tr>\n",
       "  </thead>\n",
       "  <tbody>\n",
       "    <tr>\n",
       "      <th>0</th>\n",
       "      <td>Alice</td>\n",
       "      <td>26</td>\n",
       "      <td>New York</td>\n",
       "      <td>70000</td>\n",
       "      <td>21000.0</td>\n",
       "    </tr>\n",
       "    <tr>\n",
       "      <th>1</th>\n",
       "      <td>Bob</td>\n",
       "      <td>31</td>\n",
       "      <td>Chicago</td>\n",
       "      <td>80000</td>\n",
       "      <td>24000.0</td>\n",
       "    </tr>\n",
       "    <tr>\n",
       "      <th>2</th>\n",
       "      <td>Charlie</td>\n",
       "      <td>29</td>\n",
       "      <td>Boston</td>\n",
       "      <td>75000</td>\n",
       "      <td>22500.0</td>\n",
       "    </tr>\n",
       "    <tr>\n",
       "      <th>3</th>\n",
       "      <td>John</td>\n",
       "      <td>31</td>\n",
       "      <td>New York</td>\n",
       "      <td>50000</td>\n",
       "      <td>15000.0</td>\n",
       "    </tr>\n",
       "    <tr>\n",
       "      <th>4</th>\n",
       "      <td>Emily</td>\n",
       "      <td>28</td>\n",
       "      <td>Chicago</td>\n",
       "      <td>55000</td>\n",
       "      <td>16500.0</td>\n",
       "    </tr>\n",
       "  </tbody>\n",
       "</table>\n",
       "</div>"
      ],
      "text/plain": [
       "      Name  Age      City  Salary    Bonus\n",
       "0    Alice   26  New York   70000  21000.0\n",
       "1      Bob   31   Chicago   80000  24000.0\n",
       "2  Charlie   29    Boston   75000  22500.0\n",
       "3     John   31  New York   50000  15000.0\n",
       "4    Emily   28   Chicago   55000  16500.0"
      ]
     },
     "execution_count": 207,
     "metadata": {},
     "output_type": "execute_result"
    }
   ],
   "source": [
    "df['Age'] = df['Age']+1\n",
    "df.head()"
   ]
  },
  {
   "cell_type": "code",
   "execution_count": 209,
   "id": "c3f9ca52-2f65-409a-a45e-f8b8d08873d9",
   "metadata": {},
   "outputs": [
    {
     "data": {
      "text/html": [
       "<div>\n",
       "<style scoped>\n",
       "    .dataframe tbody tr th:only-of-type {\n",
       "        vertical-align: middle;\n",
       "    }\n",
       "\n",
       "    .dataframe tbody tr th {\n",
       "        vertical-align: top;\n",
       "    }\n",
       "\n",
       "    .dataframe thead th {\n",
       "        text-align: right;\n",
       "    }\n",
       "</style>\n",
       "<table border=\"1\" class=\"dataframe\">\n",
       "  <thead>\n",
       "    <tr style=\"text-align: right;\">\n",
       "      <th></th>\n",
       "      <th>Name</th>\n",
       "      <th>Age</th>\n",
       "      <th>City</th>\n",
       "      <th>Income</th>\n",
       "      <th>Bonus</th>\n",
       "    </tr>\n",
       "  </thead>\n",
       "  <tbody>\n",
       "    <tr>\n",
       "      <th>0</th>\n",
       "      <td>Alice</td>\n",
       "      <td>26</td>\n",
       "      <td>New York</td>\n",
       "      <td>70000</td>\n",
       "      <td>21000.0</td>\n",
       "    </tr>\n",
       "    <tr>\n",
       "      <th>1</th>\n",
       "      <td>Bob</td>\n",
       "      <td>31</td>\n",
       "      <td>Chicago</td>\n",
       "      <td>80000</td>\n",
       "      <td>24000.0</td>\n",
       "    </tr>\n",
       "    <tr>\n",
       "      <th>2</th>\n",
       "      <td>Charlie</td>\n",
       "      <td>29</td>\n",
       "      <td>Boston</td>\n",
       "      <td>75000</td>\n",
       "      <td>22500.0</td>\n",
       "    </tr>\n",
       "    <tr>\n",
       "      <th>3</th>\n",
       "      <td>John</td>\n",
       "      <td>31</td>\n",
       "      <td>New York</td>\n",
       "      <td>50000</td>\n",
       "      <td>15000.0</td>\n",
       "    </tr>\n",
       "    <tr>\n",
       "      <th>4</th>\n",
       "      <td>Emily</td>\n",
       "      <td>28</td>\n",
       "      <td>Chicago</td>\n",
       "      <td>55000</td>\n",
       "      <td>16500.0</td>\n",
       "    </tr>\n",
       "  </tbody>\n",
       "</table>\n",
       "</div>"
      ],
      "text/plain": [
       "      Name  Age      City  Income    Bonus\n",
       "0    Alice   26  New York   70000  21000.0\n",
       "1      Bob   31   Chicago   80000  24000.0\n",
       "2  Charlie   29    Boston   75000  22500.0\n",
       "3     John   31  New York   50000  15000.0\n",
       "4    Emily   28   Chicago   55000  16500.0"
      ]
     },
     "execution_count": 209,
     "metadata": {},
     "output_type": "execute_result"
    }
   ],
   "source": [
    "df.rename(columns = {'Salary': 'Income'}, inplace = True)\n",
    "df.head()"
   ]
  },
  {
   "cell_type": "code",
   "execution_count": 210,
   "id": "8468080a-aa32-4224-acee-c1cbdead6b46",
   "metadata": {},
   "outputs": [
    {
     "data": {
      "text/html": [
       "<div>\n",
       "<style scoped>\n",
       "    .dataframe tbody tr th:only-of-type {\n",
       "        vertical-align: middle;\n",
       "    }\n",
       "\n",
       "    .dataframe tbody tr th {\n",
       "        vertical-align: top;\n",
       "    }\n",
       "\n",
       "    .dataframe thead th {\n",
       "        text-align: right;\n",
       "    }\n",
       "</style>\n",
       "<table border=\"1\" class=\"dataframe\">\n",
       "  <thead>\n",
       "    <tr style=\"text-align: right;\">\n",
       "      <th></th>\n",
       "      <th>Name</th>\n",
       "      <th>Age</th>\n",
       "      <th>City</th>\n",
       "      <th>Income</th>\n",
       "    </tr>\n",
       "  </thead>\n",
       "  <tbody>\n",
       "    <tr>\n",
       "      <th>0</th>\n",
       "      <td>Alice</td>\n",
       "      <td>26</td>\n",
       "      <td>New York</td>\n",
       "      <td>70000</td>\n",
       "    </tr>\n",
       "    <tr>\n",
       "      <th>1</th>\n",
       "      <td>Bob</td>\n",
       "      <td>31</td>\n",
       "      <td>Chicago</td>\n",
       "      <td>80000</td>\n",
       "    </tr>\n",
       "    <tr>\n",
       "      <th>2</th>\n",
       "      <td>Charlie</td>\n",
       "      <td>29</td>\n",
       "      <td>Boston</td>\n",
       "      <td>75000</td>\n",
       "    </tr>\n",
       "    <tr>\n",
       "      <th>3</th>\n",
       "      <td>John</td>\n",
       "      <td>31</td>\n",
       "      <td>New York</td>\n",
       "      <td>50000</td>\n",
       "    </tr>\n",
       "    <tr>\n",
       "      <th>4</th>\n",
       "      <td>Emily</td>\n",
       "      <td>28</td>\n",
       "      <td>Chicago</td>\n",
       "      <td>55000</td>\n",
       "    </tr>\n",
       "  </tbody>\n",
       "</table>\n",
       "</div>"
      ],
      "text/plain": [
       "      Name  Age      City  Income\n",
       "0    Alice   26  New York   70000\n",
       "1      Bob   31   Chicago   80000\n",
       "2  Charlie   29    Boston   75000\n",
       "3     John   31  New York   50000\n",
       "4    Emily   28   Chicago   55000"
      ]
     },
     "execution_count": 210,
     "metadata": {},
     "output_type": "execute_result"
    }
   ],
   "source": [
    "df.drop('Bonus', axis = 1, inplace = True)\n",
    "df.head()"
   ]
  },
  {
   "cell_type": "code",
   "execution_count": 216,
   "id": "e1c65fd7-d875-47e4-b1a8-eb592f169b36",
   "metadata": {},
   "outputs": [
    {
     "name": "stdout",
     "output_type": "stream",
     "text": [
      "       Name  Age           City  Income\n",
      "6    Sophia   23  San Francisco   65000\n",
      "0     Alice   26       New York   70000\n",
      "10     Jane   26        Seattle   53000\n",
      "4     Emily   28        Chicago   55000\n",
      "2   Charlie   29         Boston   75000\n",
      "8      Anna   29         Austin   48000\n",
      "1       Bob   31        Chicago   80000\n",
      "3      John   31       New York   50000\n",
      "9      Mike   36          Miami   75000\n",
      "7     David   41         Boston   70000\n",
      "5     James   51    Los Angeles   60000\n",
      "\n",
      "       Name  Age           City  Income\n",
      "5     James   51    Los Angeles   60000\n",
      "7     David   41         Boston   70000\n",
      "9      Mike   36          Miami   75000\n",
      "1       Bob   31        Chicago   80000\n",
      "3      John   31       New York   50000\n",
      "2   Charlie   29         Boston   75000\n",
      "8      Anna   29         Austin   48000\n",
      "4     Emily   28        Chicago   55000\n",
      "0     Alice   26       New York   70000\n",
      "10     Jane   26        Seattle   53000\n",
      "6    Sophia   23  San Francisco   65000\n"
     ]
    }
   ],
   "source": [
    "S = df.sort_values('Age')\n",
    "print(S)\n",
    "print()\n",
    "SS = df.sort_values('Age', ascending = False)\n",
    "print(SS)"
   ]
  },
  {
   "cell_type": "code",
   "execution_count": 222,
   "id": "22c38b30-f615-4138-9507-678c6f5ea7cb",
   "metadata": {},
   "outputs": [
    {
     "name": "stdout",
     "output_type": "stream",
     "text": [
      "       Name  Age           City  Income\n",
      "8      Anna   29         Austin   48000\n",
      "3      John   31       New York   50000\n",
      "10     Jane   26        Seattle   53000\n",
      "4     Emily   28        Chicago   55000\n",
      "5     James   51    Los Angeles   60000\n",
      "6    Sophia   23  San Francisco   65000\n",
      "0     Alice   26       New York   70000\n",
      "7     David   41         Boston   70000\n",
      "2   Charlie   29         Boston   75000\n",
      "9      Mike   36          Miami   75000\n",
      "1       Bob   31        Chicago   80000\n",
      "\n",
      "       Name  Age           City  Income\n",
      "1       Bob   31        Chicago   80000\n",
      "2   Charlie   29         Boston   75000\n",
      "9      Mike   36          Miami   75000\n",
      "0     Alice   26       New York   70000\n",
      "7     David   41         Boston   70000\n",
      "6    Sophia   23  San Francisco   65000\n",
      "5     James   51    Los Angeles   60000\n",
      "4     Emily   28        Chicago   55000\n",
      "10     Jane   26        Seattle   53000\n",
      "3      John   31       New York   50000\n",
      "8      Anna   29         Austin   48000\n"
     ]
    }
   ],
   "source": [
    "A = df.sort_values('Income')\n",
    "print(A)\n",
    "print()\n",
    "AA = df.sort_values('Income', ascending = False)\n",
    "print(AA)"
   ]
  },
  {
   "cell_type": "code",
   "execution_count": 225,
   "id": "a3922227-7b22-49c1-9123-4c8d8c56a2af",
   "metadata": {},
   "outputs": [
    {
     "name": "stdout",
     "output_type": "stream",
     "text": [
      "City\n",
      "Austin           48000.0\n",
      "Boston           72500.0\n",
      "Chicago          67500.0\n",
      "Los Angeles      60000.0\n",
      "Miami            75000.0\n",
      "New York         60000.0\n",
      "San Francisco    65000.0\n",
      "Seattle          53000.0\n",
      "Name: Income, dtype: float64\n"
     ]
    }
   ],
   "source": [
    "CS = df.groupby('City')['Income'].mean()\n",
    "print(CS)"
   ]
  },
  {
   "cell_type": "code",
   "execution_count": 226,
   "id": "1c3cecbb-44ab-4c5c-9bf5-b0a1107389c8",
   "metadata": {},
   "outputs": [
    {
     "name": "stdout",
     "output_type": "stream",
     "text": [
      "City\n",
      "Austin           29.0\n",
      "Boston           35.0\n",
      "Chicago          29.5\n",
      "Los Angeles      51.0\n",
      "Miami            36.0\n",
      "New York         28.5\n",
      "San Francisco    23.0\n",
      "Seattle          26.0\n",
      "Name: Age, dtype: float64\n"
     ]
    }
   ],
   "source": [
    "CS = df.groupby('City')['Age'].mean()\n",
    "print(CS)"
   ]
  },
  {
   "cell_type": "code",
   "execution_count": 228,
   "id": "fa939e28-510a-4eb3-b27a-5462ea2b60aa",
   "metadata": {},
   "outputs": [
    {
     "name": "stdout",
     "output_type": "stream",
     "text": [
      "City\n",
      "New York         2\n",
      "Chicago          2\n",
      "Boston           2\n",
      "Los Angeles      1\n",
      "San Francisco    1\n",
      "Austin           1\n",
      "Miami            1\n",
      "Seattle          1\n",
      "Name: count, dtype: int64\n"
     ]
    }
   ],
   "source": [
    "CC = df['City'].value_counts()\n",
    "print(CC)"
   ]
  },
  {
   "cell_type": "code",
   "execution_count": 235,
   "id": "655284b4-eb78-4d50-8075-ee2a859e290e",
   "metadata": {},
   "outputs": [
    {
     "data": {
      "text/html": [
       "<div>\n",
       "<style scoped>\n",
       "    .dataframe tbody tr th:only-of-type {\n",
       "        vertical-align: middle;\n",
       "    }\n",
       "\n",
       "    .dataframe tbody tr th {\n",
       "        vertical-align: top;\n",
       "    }\n",
       "\n",
       "    .dataframe thead th {\n",
       "        text-align: right;\n",
       "    }\n",
       "</style>\n",
       "<table border=\"1\" class=\"dataframe\">\n",
       "  <thead>\n",
       "    <tr style=\"text-align: right;\">\n",
       "      <th></th>\n",
       "      <th>Name</th>\n",
       "      <th>Age</th>\n",
       "      <th>City</th>\n",
       "      <th>Income</th>\n",
       "    </tr>\n",
       "  </thead>\n",
       "  <tbody>\n",
       "    <tr>\n",
       "      <th>0</th>\n",
       "      <td>Alice</td>\n",
       "      <td>26</td>\n",
       "      <td>New York</td>\n",
       "      <td>70000</td>\n",
       "    </tr>\n",
       "    <tr>\n",
       "      <th>1</th>\n",
       "      <td>Bob</td>\n",
       "      <td>31</td>\n",
       "      <td>Chicago</td>\n",
       "      <td>80000</td>\n",
       "    </tr>\n",
       "    <tr>\n",
       "      <th>2</th>\n",
       "      <td>Charlie</td>\n",
       "      <td>29</td>\n",
       "      <td>Boston</td>\n",
       "      <td>75000</td>\n",
       "    </tr>\n",
       "    <tr>\n",
       "      <th>3</th>\n",
       "      <td>John</td>\n",
       "      <td>31</td>\n",
       "      <td>New York</td>\n",
       "      <td>50000</td>\n",
       "    </tr>\n",
       "    <tr>\n",
       "      <th>4</th>\n",
       "      <td>Emily</td>\n",
       "      <td>28</td>\n",
       "      <td>Chicago</td>\n",
       "      <td>55000</td>\n",
       "    </tr>\n",
       "  </tbody>\n",
       "</table>\n",
       "</div>"
      ],
      "text/plain": [
       "      Name  Age      City  Income\n",
       "0    Alice   26  New York   70000\n",
       "1      Bob   31   Chicago   80000\n",
       "2  Charlie   29    Boston   75000\n",
       "3     John   31  New York   50000\n",
       "4    Emily   28   Chicago   55000"
      ]
     },
     "execution_count": 235,
     "metadata": {},
     "output_type": "execute_result"
    }
   ],
   "source": [
    "df.to_csv('employees1', index = True)\n",
    "df.head()"
   ]
  },
  {
   "cell_type": "code",
   "execution_count": 236,
   "id": "3ebfff67-5dcc-47c8-8c9b-30118ffc967a",
   "metadata": {},
   "outputs": [
    {
     "data": {
      "text/html": [
       "<div>\n",
       "<style scoped>\n",
       "    .dataframe tbody tr th:only-of-type {\n",
       "        vertical-align: middle;\n",
       "    }\n",
       "\n",
       "    .dataframe tbody tr th {\n",
       "        vertical-align: top;\n",
       "    }\n",
       "\n",
       "    .dataframe thead th {\n",
       "        text-align: right;\n",
       "    }\n",
       "</style>\n",
       "<table border=\"1\" class=\"dataframe\">\n",
       "  <thead>\n",
       "    <tr style=\"text-align: right;\">\n",
       "      <th></th>\n",
       "      <th>Name</th>\n",
       "      <th>Age</th>\n",
       "      <th>City</th>\n",
       "      <th>Income</th>\n",
       "    </tr>\n",
       "  </thead>\n",
       "  <tbody>\n",
       "    <tr>\n",
       "      <th>0</th>\n",
       "      <td>Alice</td>\n",
       "      <td>26</td>\n",
       "      <td>New York</td>\n",
       "      <td>70000</td>\n",
       "    </tr>\n",
       "    <tr>\n",
       "      <th>1</th>\n",
       "      <td>Bob</td>\n",
       "      <td>31</td>\n",
       "      <td>Chicago</td>\n",
       "      <td>80000</td>\n",
       "    </tr>\n",
       "    <tr>\n",
       "      <th>2</th>\n",
       "      <td>Charlie</td>\n",
       "      <td>29</td>\n",
       "      <td>Boston</td>\n",
       "      <td>75000</td>\n",
       "    </tr>\n",
       "    <tr>\n",
       "      <th>3</th>\n",
       "      <td>John</td>\n",
       "      <td>31</td>\n",
       "      <td>New York</td>\n",
       "      <td>50000</td>\n",
       "    </tr>\n",
       "    <tr>\n",
       "      <th>4</th>\n",
       "      <td>Emily</td>\n",
       "      <td>28</td>\n",
       "      <td>Chicago</td>\n",
       "      <td>55000</td>\n",
       "    </tr>\n",
       "  </tbody>\n",
       "</table>\n",
       "</div>"
      ],
      "text/plain": [
       "      Name  Age      City  Income\n",
       "0    Alice   26  New York   70000\n",
       "1      Bob   31   Chicago   80000\n",
       "2  Charlie   29    Boston   75000\n",
       "3     John   31  New York   50000\n",
       "4    Emily   28   Chicago   55000"
      ]
     },
     "execution_count": 236,
     "metadata": {},
     "output_type": "execute_result"
    }
   ],
   "source": [
    "df.to_csv('employees2', index = False)\n",
    "df.head()"
   ]
  },
  {
   "cell_type": "markdown",
   "id": "7ccc74c6-d155-40b2-a716-2091bdf203da",
   "metadata": {},
   "source": [
    "! My dataset!!!!!!!!"
   ]
  },
  {
   "cell_type": "code",
   "execution_count": 68,
   "id": "afe1e02d-e878-4bef-861d-02f7a0b6e37f",
   "metadata": {},
   "outputs": [
    {
     "data": {
      "text/html": [
       "<div>\n",
       "<style scoped>\n",
       "    .dataframe tbody tr th:only-of-type {\n",
       "        vertical-align: middle;\n",
       "    }\n",
       "\n",
       "    .dataframe tbody tr th {\n",
       "        vertical-align: top;\n",
       "    }\n",
       "\n",
       "    .dataframe thead th {\n",
       "        text-align: right;\n",
       "    }\n",
       "</style>\n",
       "<table border=\"1\" class=\"dataframe\">\n",
       "  <thead>\n",
       "    <tr style=\"text-align: right;\">\n",
       "      <th></th>\n",
       "      <th>booking-id</th>\n",
       "      <th>NO_OF_ADULTS</th>\n",
       "      <th>no_of_children</th>\n",
       "      <th>no-of-weekend_nights</th>\n",
       "      <th>no-of-week_nights</th>\n",
       "      <th>Type_of_meal_plan</th>\n",
       "      <th>required_car_parking_space</th>\n",
       "      <th>room_type_reserved</th>\n",
       "      <th>lead-time</th>\n",
       "      <th>arrival_year</th>\n",
       "      <th>arrival_month</th>\n",
       "      <th>arrival_date</th>\n",
       "      <th>market_Segment-type</th>\n",
       "      <th>repeated_guest</th>\n",
       "      <th>no_of_previous_cancellations</th>\n",
       "      <th>no_of_previous_bookings_not_canceled</th>\n",
       "      <th>avg_price_per_room</th>\n",
       "      <th>no_of_special_requests</th>\n",
       "      <th>booking_status</th>\n",
       "    </tr>\n",
       "  </thead>\n",
       "  <tbody>\n",
       "    <tr>\n",
       "      <th>0</th>\n",
       "      <td>INN00001</td>\n",
       "      <td>2.0</td>\n",
       "      <td>0</td>\n",
       "      <td>1</td>\n",
       "      <td>2</td>\n",
       "      <td>Meal Plan 1</td>\n",
       "      <td>0</td>\n",
       "      <td>Room_Type 1</td>\n",
       "      <td>224</td>\n",
       "      <td>2017</td>\n",
       "      <td>10</td>\n",
       "      <td>2.0</td>\n",
       "      <td>Offline</td>\n",
       "      <td>0</td>\n",
       "      <td>0</td>\n",
       "      <td>0</td>\n",
       "      <td>65.00</td>\n",
       "      <td>0</td>\n",
       "      <td>Not_Canceled</td>\n",
       "    </tr>\n",
       "    <tr>\n",
       "      <th>1</th>\n",
       "      <td>INN00002</td>\n",
       "      <td>2.0</td>\n",
       "      <td>0</td>\n",
       "      <td>2</td>\n",
       "      <td>3</td>\n",
       "      <td>Not Selected</td>\n",
       "      <td>0</td>\n",
       "      <td>Room_Type 1</td>\n",
       "      <td>5</td>\n",
       "      <td>2018</td>\n",
       "      <td>11</td>\n",
       "      <td>6.0</td>\n",
       "      <td>Online</td>\n",
       "      <td>0</td>\n",
       "      <td>0</td>\n",
       "      <td>0</td>\n",
       "      <td>106.68</td>\n",
       "      <td>1</td>\n",
       "      <td>Not_Canceled</td>\n",
       "    </tr>\n",
       "    <tr>\n",
       "      <th>2</th>\n",
       "      <td>INN00003</td>\n",
       "      <td>1.0</td>\n",
       "      <td>0</td>\n",
       "      <td>2</td>\n",
       "      <td>1</td>\n",
       "      <td>Meal Plan 1</td>\n",
       "      <td>0</td>\n",
       "      <td>Room_Type 1</td>\n",
       "      <td>1</td>\n",
       "      <td>2018</td>\n",
       "      <td>2</td>\n",
       "      <td>28.0</td>\n",
       "      <td>Online</td>\n",
       "      <td>0</td>\n",
       "      <td>0</td>\n",
       "      <td>0</td>\n",
       "      <td>60.00</td>\n",
       "      <td>0</td>\n",
       "      <td>Canceled</td>\n",
       "    </tr>\n",
       "    <tr>\n",
       "      <th>3</th>\n",
       "      <td>INN00004</td>\n",
       "      <td>2.0</td>\n",
       "      <td>0</td>\n",
       "      <td>0</td>\n",
       "      <td>2</td>\n",
       "      <td>Meal Plan 1</td>\n",
       "      <td>0</td>\n",
       "      <td>Room_Type 1</td>\n",
       "      <td>211</td>\n",
       "      <td>2018</td>\n",
       "      <td>5</td>\n",
       "      <td>20.0</td>\n",
       "      <td>Online</td>\n",
       "      <td>0</td>\n",
       "      <td>0</td>\n",
       "      <td>0</td>\n",
       "      <td>100.00</td>\n",
       "      <td>0</td>\n",
       "      <td>Canceled</td>\n",
       "    </tr>\n",
       "    <tr>\n",
       "      <th>4</th>\n",
       "      <td>INN00005</td>\n",
       "      <td>2.0</td>\n",
       "      <td>0</td>\n",
       "      <td>1</td>\n",
       "      <td>1</td>\n",
       "      <td>Not Selected</td>\n",
       "      <td>0</td>\n",
       "      <td>?</td>\n",
       "      <td>48</td>\n",
       "      <td>2018</td>\n",
       "      <td>4</td>\n",
       "      <td>11.0</td>\n",
       "      <td>Online</td>\n",
       "      <td>0</td>\n",
       "      <td>0</td>\n",
       "      <td>0</td>\n",
       "      <td>94.50</td>\n",
       "      <td>0</td>\n",
       "      <td>Canceled</td>\n",
       "    </tr>\n",
       "  </tbody>\n",
       "</table>\n",
       "</div>"
      ],
      "text/plain": [
       "  booking-id   NO_OF_ADULTS  no_of_children  no-of-weekend_nights  \\\n",
       "0   INN00001            2.0               0                     1   \n",
       "1   INN00002            2.0               0                     2   \n",
       "2   INN00003            1.0               0                     2   \n",
       "3   INN00004            2.0               0                     0   \n",
       "4   INN00005            2.0               0                     1   \n",
       "\n",
       "   no-of-week_nights  Type_of_meal_plan  required_car_parking_space  \\\n",
       "0                  2        Meal Plan 1                           0   \n",
       "1                  3       Not Selected                           0   \n",
       "2                  1        Meal Plan 1                           0   \n",
       "3                  2        Meal Plan 1                           0   \n",
       "4                  1       Not Selected                           0   \n",
       "\n",
       "   room_type_reserved  lead-time  arrival_year  arrival_month  arrival_date  \\\n",
       "0         Room_Type 1        224          2017             10           2.0   \n",
       "1         Room_Type 1          5          2018             11           6.0   \n",
       "2         Room_Type 1          1          2018              2          28.0   \n",
       "3         Room_Type 1        211          2018              5          20.0   \n",
       "4                   ?         48          2018              4          11.0   \n",
       "\n",
       "  market_Segment-type  repeated_guest   no_of_previous_cancellations  \\\n",
       "0             Offline               0                              0   \n",
       "1              Online               0                              0   \n",
       "2              Online               0                              0   \n",
       "3              Online               0                              0   \n",
       "4              Online               0                              0   \n",
       "\n",
       "   no_of_previous_bookings_not_canceled  avg_price_per_room  \\\n",
       "0                                     0               65.00   \n",
       "1                                     0              106.68   \n",
       "2                                     0               60.00   \n",
       "3                                     0              100.00   \n",
       "4                                     0               94.50   \n",
       "\n",
       "   no_of_special_requests booking_status  \n",
       "0                       0   Not_Canceled  \n",
       "1                       1   Not_Canceled  \n",
       "2                       0       Canceled  \n",
       "3                       0       Canceled  \n",
       "4                       0       Canceled  "
      ]
     },
     "execution_count": 68,
     "metadata": {},
     "output_type": "execute_result"
    }
   ],
   "source": [
    "import pandas as pd\n",
    "hotel = pd.read_csv('hotelbooking.csv')\n",
    "hotel.head()"
   ]
  },
  {
   "cell_type": "code",
   "execution_count": 69,
   "id": "0339df54-c87e-43e2-9afa-197ae0410f0a",
   "metadata": {},
   "outputs": [
    {
     "data": {
      "text/html": [
       "<div>\n",
       "<style scoped>\n",
       "    .dataframe tbody tr th:only-of-type {\n",
       "        vertical-align: middle;\n",
       "    }\n",
       "\n",
       "    .dataframe tbody tr th {\n",
       "        vertical-align: top;\n",
       "    }\n",
       "\n",
       "    .dataframe thead th {\n",
       "        text-align: right;\n",
       "    }\n",
       "</style>\n",
       "<table border=\"1\" class=\"dataframe\">\n",
       "  <thead>\n",
       "    <tr style=\"text-align: right;\">\n",
       "      <th></th>\n",
       "      <th>booking-id</th>\n",
       "      <th>NO_OF_ADULTS</th>\n",
       "      <th>no_of_children</th>\n",
       "      <th>no-of-weekend_nights</th>\n",
       "      <th>no-of-week_nights</th>\n",
       "      <th>Type_of_meal_plan</th>\n",
       "      <th>required_car_parking_space</th>\n",
       "      <th>room_type_reserved</th>\n",
       "      <th>lead-time</th>\n",
       "      <th>arrival_year</th>\n",
       "      <th>arrival_month</th>\n",
       "      <th>arrival_date</th>\n",
       "      <th>market_Segment-type</th>\n",
       "      <th>repeated_guest</th>\n",
       "      <th>no_of_previous_cancellations</th>\n",
       "      <th>no_of_previous_bookings_not_canceled</th>\n",
       "      <th>avg_price_per_room</th>\n",
       "      <th>no_of_special_requests</th>\n",
       "      <th>booking_status</th>\n",
       "    </tr>\n",
       "  </thead>\n",
       "  <tbody>\n",
       "    <tr>\n",
       "      <th>36274</th>\n",
       "      <td>INN36275</td>\n",
       "      <td>2.0</td>\n",
       "      <td>0</td>\n",
       "      <td>1</td>\n",
       "      <td>2</td>\n",
       "      <td>Meal Plan 1</td>\n",
       "      <td>0</td>\n",
       "      <td>Room_Type 1</td>\n",
       "      <td>207</td>\n",
       "      <td>2018</td>\n",
       "      <td>12</td>\n",
       "      <td>30.0</td>\n",
       "      <td>Offline</td>\n",
       "      <td>0</td>\n",
       "      <td>0</td>\n",
       "      <td>0</td>\n",
       "      <td>161.67</td>\n",
       "      <td>0</td>\n",
       "      <td>Not_Canceled</td>\n",
       "    </tr>\n",
       "    <tr>\n",
       "      <th>36275</th>\n",
       "      <td>INN36265</td>\n",
       "      <td>2.0</td>\n",
       "      <td>0</td>\n",
       "      <td>0</td>\n",
       "      <td>2</td>\n",
       "      <td>Meal Plan 1</td>\n",
       "      <td>0</td>\n",
       "      <td>Room_Type 4</td>\n",
       "      <td>187</td>\n",
       "      <td>2018</td>\n",
       "      <td>7</td>\n",
       "      <td>8.0</td>\n",
       "      <td>Online</td>\n",
       "      <td>0</td>\n",
       "      <td>0</td>\n",
       "      <td>0</td>\n",
       "      <td>105.30</td>\n",
       "      <td>0</td>\n",
       "      <td>Canceled</td>\n",
       "    </tr>\n",
       "    <tr>\n",
       "      <th>36276</th>\n",
       "      <td>INN36268</td>\n",
       "      <td>2.0</td>\n",
       "      <td>0</td>\n",
       "      <td>1</td>\n",
       "      <td>0</td>\n",
       "      <td>Not Selected</td>\n",
       "      <td>0</td>\n",
       "      <td>Room_Type 1</td>\n",
       "      <td>49</td>\n",
       "      <td>2018</td>\n",
       "      <td>7</td>\n",
       "      <td>11.0</td>\n",
       "      <td>Online</td>\n",
       "      <td>0</td>\n",
       "      <td>0</td>\n",
       "      <td>0</td>\n",
       "      <td>93.15</td>\n",
       "      <td>0</td>\n",
       "      <td>Canceled</td>\n",
       "    </tr>\n",
       "    <tr>\n",
       "      <th>36277</th>\n",
       "      <td>INN36143</td>\n",
       "      <td>3.0</td>\n",
       "      <td>0</td>\n",
       "      <td>0</td>\n",
       "      <td>4</td>\n",
       "      <td>Meal Plan 1</td>\n",
       "      <td>0</td>\n",
       "      <td>Room_Type 4</td>\n",
       "      <td>37</td>\n",
       "      <td>2018</td>\n",
       "      <td>4</td>\n",
       "      <td>27.0</td>\n",
       "      <td>Online</td>\n",
       "      <td>0</td>\n",
       "      <td>0</td>\n",
       "      <td>0</td>\n",
       "      <td>148.95</td>\n",
       "      <td>0</td>\n",
       "      <td>Canceled</td>\n",
       "    </tr>\n",
       "    <tr>\n",
       "      <th>36278</th>\n",
       "      <td>INN35964</td>\n",
       "      <td>2.0</td>\n",
       "      <td>0</td>\n",
       "      <td>1</td>\n",
       "      <td>3</td>\n",
       "      <td>Meal Plan 1</td>\n",
       "      <td>0</td>\n",
       "      <td>Room_Type 1</td>\n",
       "      <td>17</td>\n",
       "      <td>2018</td>\n",
       "      <td>3</td>\n",
       "      <td>14.0</td>\n",
       "      <td>Online</td>\n",
       "      <td>0</td>\n",
       "      <td>0</td>\n",
       "      <td>0</td>\n",
       "      <td>91.00</td>\n",
       "      <td>1</td>\n",
       "      <td>Not_Canceled</td>\n",
       "    </tr>\n",
       "  </tbody>\n",
       "</table>\n",
       "</div>"
      ],
      "text/plain": [
       "      booking-id   NO_OF_ADULTS  no_of_children  no-of-weekend_nights  \\\n",
       "36274   INN36275            2.0               0                     1   \n",
       "36275   INN36265            2.0               0                     0   \n",
       "36276   INN36268            2.0               0                     1   \n",
       "36277   INN36143            3.0               0                     0   \n",
       "36278   INN35964            2.0               0                     1   \n",
       "\n",
       "       no-of-week_nights  Type_of_meal_plan  required_car_parking_space  \\\n",
       "36274                  2        Meal Plan 1                           0   \n",
       "36275                  2        Meal Plan 1                           0   \n",
       "36276                  0       Not Selected                           0   \n",
       "36277                  4        Meal Plan 1                           0   \n",
       "36278                  3        Meal Plan 1                           0   \n",
       "\n",
       "       room_type_reserved  lead-time  arrival_year  arrival_month  \\\n",
       "36274         Room_Type 1        207          2018             12   \n",
       "36275         Room_Type 4        187          2018              7   \n",
       "36276         Room_Type 1         49          2018              7   \n",
       "36277         Room_Type 4         37          2018              4   \n",
       "36278         Room_Type 1         17          2018              3   \n",
       "\n",
       "       arrival_date market_Segment-type  repeated_guest  \\\n",
       "36274          30.0             Offline               0   \n",
       "36275           8.0              Online               0   \n",
       "36276          11.0              Online               0   \n",
       "36277          27.0              Online               0   \n",
       "36278          14.0              Online               0   \n",
       "\n",
       "        no_of_previous_cancellations  no_of_previous_bookings_not_canceled  \\\n",
       "36274                              0                                     0   \n",
       "36275                              0                                     0   \n",
       "36276                              0                                     0   \n",
       "36277                              0                                     0   \n",
       "36278                              0                                     0   \n",
       "\n",
       "       avg_price_per_room  no_of_special_requests booking_status  \n",
       "36274              161.67                       0   Not_Canceled  \n",
       "36275              105.30                       0       Canceled  \n",
       "36276               93.15                       0       Canceled  \n",
       "36277              148.95                       0       Canceled  \n",
       "36278               91.00                       1   Not_Canceled  "
      ]
     },
     "execution_count": 69,
     "metadata": {},
     "output_type": "execute_result"
    }
   ],
   "source": [
    "hotel.tail()"
   ]
  },
  {
   "cell_type": "code",
   "execution_count": 70,
   "id": "36f4b534-6f89-4b62-92c9-f1e4b761b22f",
   "metadata": {},
   "outputs": [
    {
     "data": {
      "text/plain": [
       "Index(['booking-id', ' NO_OF_ADULTS', 'no_of_children', 'no-of-weekend_nights',\n",
       "       'no-of-week_nights', ' Type_of_meal_plan', 'required_car_parking_space',\n",
       "       ' room_type_reserved', 'lead-time', 'arrival_year', 'arrival_month',\n",
       "       'arrival_date', 'market_Segment-type', 'repeated_guest',\n",
       "       ' no_of_previous_cancellations', 'no_of_previous_bookings_not_canceled',\n",
       "       'avg_price_per_room', 'no_of_special_requests', 'booking_status'],\n",
       "      dtype='object')"
      ]
     },
     "execution_count": 70,
     "metadata": {},
     "output_type": "execute_result"
    }
   ],
   "source": [
    "hotel.columns"
   ]
  },
  {
   "cell_type": "code",
   "execution_count": 71,
   "id": "2ae6e9b2-f9a2-4f0f-aea5-69185890472e",
   "metadata": {},
   "outputs": [
    {
     "data": {
      "text/html": [
       "<div>\n",
       "<style scoped>\n",
       "    .dataframe tbody tr th:only-of-type {\n",
       "        vertical-align: middle;\n",
       "    }\n",
       "\n",
       "    .dataframe tbody tr th {\n",
       "        vertical-align: top;\n",
       "    }\n",
       "\n",
       "    .dataframe thead th {\n",
       "        text-align: right;\n",
       "    }\n",
       "</style>\n",
       "<table border=\"1\" class=\"dataframe\">\n",
       "  <thead>\n",
       "    <tr style=\"text-align: right;\">\n",
       "      <th></th>\n",
       "      <th>booking-id</th>\n",
       "      <th>NO_OF_ADULTS</th>\n",
       "      <th>no_of_children</th>\n",
       "      <th>no-of-weekend_nights</th>\n",
       "      <th>no-of-week_nights</th>\n",
       "      <th>Type_of_meal_plan</th>\n",
       "      <th>required_car_parking_space</th>\n",
       "      <th>room_type_reserved</th>\n",
       "      <th>lead-time</th>\n",
       "      <th>arrival_year</th>\n",
       "      <th>arrival_month</th>\n",
       "      <th>arrival_date</th>\n",
       "      <th>market_Segment-type</th>\n",
       "      <th>repeated_guest</th>\n",
       "      <th>no_of_previous_cancellations</th>\n",
       "      <th>no_of_previous_bookings_not_canceled</th>\n",
       "      <th>avg_price_per_room</th>\n",
       "      <th>no_of_special_requests</th>\n",
       "      <th>booking_status</th>\n",
       "    </tr>\n",
       "  </thead>\n",
       "  <tbody>\n",
       "    <tr>\n",
       "      <th>0</th>\n",
       "      <td>INN00001</td>\n",
       "      <td>2.0</td>\n",
       "      <td>0</td>\n",
       "      <td>1</td>\n",
       "      <td>2</td>\n",
       "      <td>Meal Plan 1</td>\n",
       "      <td>0</td>\n",
       "      <td>Room_Type 1</td>\n",
       "      <td>224</td>\n",
       "      <td>2017</td>\n",
       "      <td>10</td>\n",
       "      <td>2.0</td>\n",
       "      <td>Offline</td>\n",
       "      <td>0</td>\n",
       "      <td>0</td>\n",
       "      <td>0</td>\n",
       "      <td>65.00</td>\n",
       "      <td>0</td>\n",
       "      <td>Not_Canceled</td>\n",
       "    </tr>\n",
       "    <tr>\n",
       "      <th>2</th>\n",
       "      <td>INN00003</td>\n",
       "      <td>1.0</td>\n",
       "      <td>0</td>\n",
       "      <td>2</td>\n",
       "      <td>1</td>\n",
       "      <td>Meal Plan 1</td>\n",
       "      <td>0</td>\n",
       "      <td>Room_Type 1</td>\n",
       "      <td>1</td>\n",
       "      <td>2018</td>\n",
       "      <td>2</td>\n",
       "      <td>28.0</td>\n",
       "      <td>Online</td>\n",
       "      <td>0</td>\n",
       "      <td>0</td>\n",
       "      <td>0</td>\n",
       "      <td>60.00</td>\n",
       "      <td>0</td>\n",
       "      <td>Canceled</td>\n",
       "    </tr>\n",
       "    <tr>\n",
       "      <th>4</th>\n",
       "      <td>INN00005</td>\n",
       "      <td>2.0</td>\n",
       "      <td>0</td>\n",
       "      <td>1</td>\n",
       "      <td>1</td>\n",
       "      <td>Not Selected</td>\n",
       "      <td>0</td>\n",
       "      <td>?</td>\n",
       "      <td>48</td>\n",
       "      <td>2018</td>\n",
       "      <td>4</td>\n",
       "      <td>11.0</td>\n",
       "      <td>Online</td>\n",
       "      <td>0</td>\n",
       "      <td>0</td>\n",
       "      <td>0</td>\n",
       "      <td>94.50</td>\n",
       "      <td>0</td>\n",
       "      <td>Canceled</td>\n",
       "    </tr>\n",
       "    <tr>\n",
       "      <th>10</th>\n",
       "      <td>INN00011</td>\n",
       "      <td>1.0</td>\n",
       "      <td>0</td>\n",
       "      <td>1</td>\n",
       "      <td>0</td>\n",
       "      <td>Not Selected</td>\n",
       "      <td>0</td>\n",
       "      <td>Room_Type 1</td>\n",
       "      <td>0</td>\n",
       "      <td>2018</td>\n",
       "      <td>9</td>\n",
       "      <td>11.0</td>\n",
       "      <td>?</td>\n",
       "      <td>0</td>\n",
       "      <td>0</td>\n",
       "      <td>0</td>\n",
       "      <td>85.03</td>\n",
       "      <td>0</td>\n",
       "      <td>Not_Canceled</td>\n",
       "    </tr>\n",
       "    <tr>\n",
       "      <th>12</th>\n",
       "      <td>INN00013</td>\n",
       "      <td>2.0</td>\n",
       "      <td>0</td>\n",
       "      <td>2</td>\n",
       "      <td>1</td>\n",
       "      <td>Not Selected</td>\n",
       "      <td>0</td>\n",
       "      <td>Room_Type 1</td>\n",
       "      <td>30</td>\n",
       "      <td>2018</td>\n",
       "      <td>11</td>\n",
       "      <td>26.0</td>\n",
       "      <td>Online</td>\n",
       "      <td>0</td>\n",
       "      <td>0</td>\n",
       "      <td>0</td>\n",
       "      <td>88.00</td>\n",
       "      <td>0</td>\n",
       "      <td>Canceled</td>\n",
       "    </tr>\n",
       "    <tr>\n",
       "      <th>...</th>\n",
       "      <td>...</td>\n",
       "      <td>...</td>\n",
       "      <td>...</td>\n",
       "      <td>...</td>\n",
       "      <td>...</td>\n",
       "      <td>...</td>\n",
       "      <td>...</td>\n",
       "      <td>...</td>\n",
       "      <td>...</td>\n",
       "      <td>...</td>\n",
       "      <td>...</td>\n",
       "      <td>...</td>\n",
       "      <td>...</td>\n",
       "      <td>...</td>\n",
       "      <td>...</td>\n",
       "      <td>...</td>\n",
       "      <td>...</td>\n",
       "      <td>...</td>\n",
       "      <td>...</td>\n",
       "    </tr>\n",
       "    <tr>\n",
       "      <th>36271</th>\n",
       "      <td>INN36272</td>\n",
       "      <td>2.0</td>\n",
       "      <td>0</td>\n",
       "      <td>1</td>\n",
       "      <td>3</td>\n",
       "      <td>Meal Plan 1</td>\n",
       "      <td>0</td>\n",
       "      <td>Room_Type 1</td>\n",
       "      <td>228</td>\n",
       "      <td>2018</td>\n",
       "      <td>10</td>\n",
       "      <td>17.0</td>\n",
       "      <td>Online</td>\n",
       "      <td>0</td>\n",
       "      <td>0</td>\n",
       "      <td>0</td>\n",
       "      <td>90.95</td>\n",
       "      <td>2</td>\n",
       "      <td>Canceled</td>\n",
       "    </tr>\n",
       "    <tr>\n",
       "      <th>36272</th>\n",
       "      <td>INN36273</td>\n",
       "      <td>2.0</td>\n",
       "      <td>0</td>\n",
       "      <td>2</td>\n",
       "      <td>6</td>\n",
       "      <td>Meal Plan 1</td>\n",
       "      <td>0</td>\n",
       "      <td>Room_Type 1</td>\n",
       "      <td>148</td>\n",
       "      <td>2018</td>\n",
       "      <td>7</td>\n",
       "      <td>1.0</td>\n",
       "      <td>Online</td>\n",
       "      <td>0</td>\n",
       "      <td>0</td>\n",
       "      <td>0</td>\n",
       "      <td>98.39</td>\n",
       "      <td>2</td>\n",
       "      <td>Not_Canceled</td>\n",
       "    </tr>\n",
       "    <tr>\n",
       "      <th>36273</th>\n",
       "      <td>INN36274</td>\n",
       "      <td>2.0</td>\n",
       "      <td>0</td>\n",
       "      <td>0</td>\n",
       "      <td>3</td>\n",
       "      <td>Not Selected</td>\n",
       "      <td>0</td>\n",
       "      <td>Room_Type 1</td>\n",
       "      <td>63</td>\n",
       "      <td>2018</td>\n",
       "      <td>4</td>\n",
       "      <td>21.0</td>\n",
       "      <td>Online</td>\n",
       "      <td>0</td>\n",
       "      <td>0</td>\n",
       "      <td>0</td>\n",
       "      <td>94.50</td>\n",
       "      <td>0</td>\n",
       "      <td>Canceled</td>\n",
       "    </tr>\n",
       "    <tr>\n",
       "      <th>36276</th>\n",
       "      <td>INN36268</td>\n",
       "      <td>2.0</td>\n",
       "      <td>0</td>\n",
       "      <td>1</td>\n",
       "      <td>0</td>\n",
       "      <td>Not Selected</td>\n",
       "      <td>0</td>\n",
       "      <td>Room_Type 1</td>\n",
       "      <td>49</td>\n",
       "      <td>2018</td>\n",
       "      <td>7</td>\n",
       "      <td>11.0</td>\n",
       "      <td>Online</td>\n",
       "      <td>0</td>\n",
       "      <td>0</td>\n",
       "      <td>0</td>\n",
       "      <td>93.15</td>\n",
       "      <td>0</td>\n",
       "      <td>Canceled</td>\n",
       "    </tr>\n",
       "    <tr>\n",
       "      <th>36278</th>\n",
       "      <td>INN35964</td>\n",
       "      <td>2.0</td>\n",
       "      <td>0</td>\n",
       "      <td>1</td>\n",
       "      <td>3</td>\n",
       "      <td>Meal Plan 1</td>\n",
       "      <td>0</td>\n",
       "      <td>Room_Type 1</td>\n",
       "      <td>17</td>\n",
       "      <td>2018</td>\n",
       "      <td>3</td>\n",
       "      <td>14.0</td>\n",
       "      <td>Online</td>\n",
       "      <td>0</td>\n",
       "      <td>0</td>\n",
       "      <td>0</td>\n",
       "      <td>91.00</td>\n",
       "      <td>1</td>\n",
       "      <td>Not_Canceled</td>\n",
       "    </tr>\n",
       "  </tbody>\n",
       "</table>\n",
       "<p>18281 rows × 19 columns</p>\n",
       "</div>"
      ],
      "text/plain": [
       "      booking-id   NO_OF_ADULTS  no_of_children  no-of-weekend_nights  \\\n",
       "0       INN00001            2.0               0                     1   \n",
       "2       INN00003            1.0               0                     2   \n",
       "4       INN00005            2.0               0                     1   \n",
       "10      INN00011            1.0               0                     1   \n",
       "12      INN00013            2.0               0                     2   \n",
       "...          ...            ...             ...                   ...   \n",
       "36271   INN36272            2.0               0                     1   \n",
       "36272   INN36273            2.0               0                     2   \n",
       "36273   INN36274            2.0               0                     0   \n",
       "36276   INN36268            2.0               0                     1   \n",
       "36278   INN35964            2.0               0                     1   \n",
       "\n",
       "       no-of-week_nights  Type_of_meal_plan  required_car_parking_space  \\\n",
       "0                      2        Meal Plan 1                           0   \n",
       "2                      1        Meal Plan 1                           0   \n",
       "4                      1       Not Selected                           0   \n",
       "10                     0       Not Selected                           0   \n",
       "12                     1       Not Selected                           0   \n",
       "...                  ...                ...                         ...   \n",
       "36271                  3        Meal Plan 1                           0   \n",
       "36272                  6        Meal Plan 1                           0   \n",
       "36273                  3       Not Selected                           0   \n",
       "36276                  0       Not Selected                           0   \n",
       "36278                  3        Meal Plan 1                           0   \n",
       "\n",
       "       room_type_reserved  lead-time  arrival_year  arrival_month  \\\n",
       "0             Room_Type 1        224          2017             10   \n",
       "2             Room_Type 1          1          2018              2   \n",
       "4                       ?         48          2018              4   \n",
       "10            Room_Type 1          0          2018              9   \n",
       "12            Room_Type 1         30          2018             11   \n",
       "...                   ...        ...           ...            ...   \n",
       "36271         Room_Type 1        228          2018             10   \n",
       "36272         Room_Type 1        148          2018              7   \n",
       "36273         Room_Type 1         63          2018              4   \n",
       "36276         Room_Type 1         49          2018              7   \n",
       "36278         Room_Type 1         17          2018              3   \n",
       "\n",
       "       arrival_date market_Segment-type  repeated_guest  \\\n",
       "0               2.0             Offline               0   \n",
       "2              28.0              Online               0   \n",
       "4              11.0              Online               0   \n",
       "10             11.0                   ?               0   \n",
       "12             26.0              Online               0   \n",
       "...             ...                 ...             ...   \n",
       "36271          17.0              Online               0   \n",
       "36272           1.0              Online               0   \n",
       "36273          21.0              Online               0   \n",
       "36276          11.0              Online               0   \n",
       "36278          14.0              Online               0   \n",
       "\n",
       "        no_of_previous_cancellations  no_of_previous_bookings_not_canceled  \\\n",
       "0                                  0                                     0   \n",
       "2                                  0                                     0   \n",
       "4                                  0                                     0   \n",
       "10                                 0                                     0   \n",
       "12                                 0                                     0   \n",
       "...                              ...                                   ...   \n",
       "36271                              0                                     0   \n",
       "36272                              0                                     0   \n",
       "36273                              0                                     0   \n",
       "36276                              0                                     0   \n",
       "36278                              0                                     0   \n",
       "\n",
       "       avg_price_per_room  no_of_special_requests booking_status  \n",
       "0                   65.00                       0   Not_Canceled  \n",
       "2                   60.00                       0       Canceled  \n",
       "4                   94.50                       0       Canceled  \n",
       "10                  85.03                       0   Not_Canceled  \n",
       "12                  88.00                       0       Canceled  \n",
       "...                   ...                     ...            ...  \n",
       "36271               90.95                       2       Canceled  \n",
       "36272               98.39                       2   Not_Canceled  \n",
       "36273               94.50                       0       Canceled  \n",
       "36276               93.15                       0       Canceled  \n",
       "36278               91.00                       1   Not_Canceled  \n",
       "\n",
       "[18281 rows x 19 columns]"
      ]
     },
     "execution_count": 71,
     "metadata": {},
     "output_type": "execute_result"
    }
   ],
   "source": [
    "hotel[hotel['avg_price_per_room']<100]"
   ]
  },
  {
   "cell_type": "code",
   "execution_count": 72,
   "id": "4cf56b66-d009-4c43-809f-ccd9b3039333",
   "metadata": {},
   "outputs": [
    {
     "name": "stdout",
     "output_type": "stream",
     "text": [
      "<class 'pandas.core.frame.DataFrame'>\n",
      "RangeIndex: 36279 entries, 0 to 36278\n",
      "Data columns (total 19 columns):\n",
      " #   Column                                Non-Null Count  Dtype  \n",
      "---  ------                                --------------  -----  \n",
      " 0   booking-id                            36279 non-null  object \n",
      " 1    NO_OF_ADULTS                         36276 non-null  float64\n",
      " 2   no_of_children                        36279 non-null  int64  \n",
      " 3   no-of-weekend_nights                  36279 non-null  int64  \n",
      " 4   no-of-week_nights                     36279 non-null  int64  \n",
      " 5    Type_of_meal_plan                    36277 non-null  object \n",
      " 6   required_car_parking_space            36279 non-null  int64  \n",
      " 7    room_type_reserved                   36276 non-null  object \n",
      " 8   lead-time                             36279 non-null  int64  \n",
      " 9   arrival_year                          36279 non-null  int64  \n",
      " 10  arrival_month                         36279 non-null  int64  \n",
      " 11  arrival_date                          36276 non-null  float64\n",
      " 12  market_Segment-type                   36277 non-null  object \n",
      " 13  repeated_guest                        36279 non-null  int64  \n",
      " 14   no_of_previous_cancellations         36279 non-null  int64  \n",
      " 15  no_of_previous_bookings_not_canceled  36279 non-null  int64  \n",
      " 16  avg_price_per_room                    36277 non-null  float64\n",
      " 17  no_of_special_requests                36279 non-null  int64  \n",
      " 18  booking_status                        36279 non-null  object \n",
      "dtypes: float64(3), int64(11), object(5)\n",
      "memory usage: 5.3+ MB\n"
     ]
    }
   ],
   "source": [
    "hotel.info()"
   ]
  },
  {
   "cell_type": "markdown",
   "id": "1608b1e5-0c45-46f9-a56f-9675e565a056",
   "metadata": {},
   "source": [
    "# Tuesday 29/4"
   ]
  },
  {
   "cell_type": "markdown",
   "id": "3e66f719-c9b4-41d7-b978-7ddd02e81eaf",
   "metadata": {},
   "source": [
    "!In Class Exercise - Pandas"
   ]
  },
  {
   "cell_type": "markdown",
   "id": "19f28264-84a4-4ac8-9480-52e31bd1ff31",
   "metadata": {},
   "source": [
    "##Wensday  In class Excercise - External files"
   ]
  },
  {
   "cell_type": "markdown",
   "id": "058917a1-c752-45ad-b5c4-c80d28a6c43b",
   "metadata": {},
   "source": [
    "# Thursday1/5 "
   ]
  },
  {
   "cell_type": "code",
   "execution_count": null,
   "id": "b256b839-6e58-482d-9d78-cc63eb7434c8",
   "metadata": {},
   "outputs": [],
   "source": [
    "# Y depndents to X\n",
    "#Y: Depandents\n",
    "#x: Indepandents"
   ]
  },
  {
   "cell_type": "code",
   "execution_count": 6,
   "id": "14d9989a-c2ae-47da-8f45-55f5b84677bf",
   "metadata": {},
   "outputs": [
    {
     "data": {
      "text/plain": [
       "Text(0, 0.5, 'Tempreture')"
      ]
     },
     "execution_count": 6,
     "metadata": {},
     "output_type": "execute_result"
    },
    {
     "data": {
      "image/png": "[encoded data removed]",
      "text/plain": [
       "<Figure size 640x480 with 1 Axes>"
      ]
     },
     "metadata": {},
     "output_type": "display_data"
    }
   ],
   "source": [
    "import matplotlib.pyplot as plt\n",
    "H = ['6AM', '9AM', '12PM', '3PM', '6PM', '9PM']\n",
    "T = [25, 29, 30, 35, 28, 25]\n",
    "# start with x-axis the y-axis\n",
    "plt.plot(H,T)\n",
    "plt.title('Hourse VS Tempretures')\n",
    "plt.xlabel('Time')\n",
    "plt.ylabel('Tempreture')"
   ]
  },
  {
   "cell_type": "code",
   "execution_count": 12,
   "id": "f5aa7b90-7fb7-4fe2-9b58-30eec3a2a01e",
   "metadata": {},
   "outputs": [
    {
     "data": {
      "text/plain": [
       "Text(0, 0.5, 'Sale')"
      ]
     },
     "execution_count": 12,
     "metadata": {},
     "output_type": "execute_result"
    },
    {
     "data": {
      "image/png": "[encoded data removed]",
      "text/plain": [
       "<Figure size 640x480 with 1 Axes>"
      ]
     },
     "metadata": {},
     "output_type": "display_data"
    }
   ],
   "source": [
    "#Bar Chart ( used to category method in a columns with different frequances)\n",
    "products = ['Laptope', 'Mobialphone', 'Headphone', 'Ipad']\n",
    "Sale = ['271', ' 78', '432', ' 23']\n",
    "plt.bar(products, Sale, color = 'Pink')\n",
    "plt.title(' Sale by product category')\n",
    "plt.xlabel('Products')\n",
    "plt.ylabel('Sale')"
   ]
  },
  {
   "cell_type": "code",
   "execution_count": 25,
   "id": "23346b63-d701-42e9-ba24-711d4a4b1ec7",
   "metadata": {},
   "outputs": [
    {
     "data": {
      "image/png": "[encoded data removed]",
      "text/plain": [
       "<Figure size 640x480 with 1 Axes>"
      ]
     },
     "metadata": {},
     "output_type": "display_data"
    }
   ],
   "source": [
    "# Histogram ( input only x-axis then outomatically will calculate the y-axis which is frequancy)\n",
    "import matplotlib.pyplot as plt\n",
    "\n",
    "score = [54, 56, 78, 55, 43, 54, 99, 90, 100, 80, 80, 85, 85]\n",
    "#bins = number of wiedth or range \n",
    "plt.hist(score, color='red', edgecolor='black', bins=15) \n",
    "plt.xlabel('Scores')\n",
    "plt.ylabel('Frequency')\n",
    "plt.title('Students Score')\n",
    "plt.show()\n",
    "\n"
   ]
  },
  {
   "cell_type": "code",
   "execution_count": 46,
   "id": "5f8026bc-15a7-4b59-8784-232d28264933",
   "metadata": {},
   "outputs": [
    {
     "data": {
      "image/png": "[encoded data removed]",
      "text/plain": [
       "<Figure size 640x480 with 2 Axes>"
      ]
     },
     "metadata": {},
     "output_type": "display_data"
    }
   ],
   "source": [
    "#Pie chart:\n",
    "labels = ['Math', 'Science', 'English', 'History']\n",
    "sizes = [30, 25, 20, 25]\n",
    "colors = ['skyblue', 'lightgreen', 'salmon', 'gold']\n",
    "\n",
    "plt.subplot(1, 2, 1) \n",
    "plt.pie(sizes, labels=labels, colors=colors, startangle=90, autopct='%1.1f%%')\n",
    "plt.title('Pie Chart')\n",
    "plt.axis('equal')\n",
    "\n",
    "\n",
    "plt.subplot(1, 2, 2) \n",
    "plt.pie(sizes, labels=labels, colors=colors, startangle=90, autopct='%1.1f%%',\n",
    "        wedgeprops={'width': 0.4})\n",
    "plt.title('Donut Chart')\n",
    "plt.axis('equal')\n",
    "plt.show()\n"
   ]
  },
  {
   "cell_type": "code",
   "execution_count": 42,
   "id": "fcb0b6fd-b42f-49ed-b3ec-fc0c8e2cfa26",
   "metadata": {},
   "outputs": [
    {
     "data": {
      "image/png": "[encoded data removed]",
      "text/plain": [
       "<Figure size 640x480 with 1 Axes>"
      ]
     },
     "metadata": {},
     "output_type": "display_data"
    }
   ],
   "source": [
    "#Scatter :\n",
    "study_hours = [1, 2, 3, 4, 5, 6, 7, 8, 9,10, 11, 12, 13, 14, 15, 16, 17, 18, 19, 20, 21, 22, 23, 24, 25]\n",
    "exam_scores = [50, 55, 60, 65, 70, 80, 85, 90, 65, 65, 63, 34, 56, 88, 89, 99, 87, 86, 56, 45, 34, 34, 67, 89, 56]\n",
    "plt.scatter(study_hours, exam_scores, color='purple')\n",
    "plt.title(\"Study Time vs Exam Score\")\n",
    "plt.xlabel(\"Hours Studied\")\n",
    "plt.ylabel(\"Exam Score\")\n",
    "plt.grid(True)\n",
    "plt.show()\n"
   ]
  },
  {
   "cell_type": "code",
   "execution_count": 58,
   "id": "8cbf92d6-50b5-4d9b-b090-3b99298a80e4",
   "metadata": {},
   "outputs": [
    {
     "data": {
      "image/png": "[encoded data removed]",
      "text/plain": [
       "<Figure size 640x480 with 1 Axes>"
      ]
     },
     "metadata": {},
     "output_type": "display_data"
    }
   ],
   "source": [
    "bills = [45, 50, 55, 47, 60, 70, 68, 48, 49, 55, 66, 75, 100]\n",
    "plt.boxplot(bills)\n",
    "plt.title(\"Monthly Electricity Bill\")\n",
    "plt.ylabel(\"Bill ($)\")\n",
    "plt.show()\n",
    "\n",
    "# circle reprecent outliers ' values that totaly larger or mallar than reset values'"
   ]
  },
  {
   "cell_type": "code",
   "execution_count": 74,
   "id": "9b83ab4f-5ee8-4b72-8ab0-3c0e932fe785",
   "metadata": {},
   "outputs": [
    {
     "data": {
      "image/png": "[encoded data removed]",
      "text/plain": [
       "<Figure size 640x480 with 2 Axes>"
      ]
     },
     "metadata": {},
     "output_type": "display_data"
    }
   ],
   "source": [
    "import numpy as np\n",
    "import matplotlib.pyplot as plt\n",
    "img = np.random.rand(10, 10)\n",
    "plt.imshow(img, cmap='Blues')\n",
    "plt.colorbar()\n",
    "plt.title(\"Visualization\")\n",
    "plt.show()"
   ]
  },
  {
   "cell_type": "code",
   "execution_count": 79,
   "id": "53732aa2-2161-4535-b543-aab2dda4bc16",
   "metadata": {},
   "outputs": [
    {
     "data": {
      "image/png": "[encoded data removed]",
      "text/plain": [
       "<Figure size 640x480 with 4 Axes>"
      ]
     },
     "metadata": {},
     "output_type": "display_data"
    }
   ],
   "source": [
    "fig, axs = plt.subplots(2, 2)\n",
    "\n",
    "axs[0,0].plot([11, 12, 13], [11, 14, 19])\n",
    "axs[0,1].bar([11, 12, 13], [43, 34, 33])\n",
    "axs[1,0].scatter([11, 12, 13], [5, 15, 25])\n",
    "axs[1,1].hist([11, 12, 12, 13, 13, 13])\n",
    "\n",
    "plt.tight_layout()\n",
    "plt.show()"
   ]
  },
  {
   "cell_type": "code",
   "execution_count": 85,
   "id": "7e3492be-6481-4e7f-919a-b3b50eab3a44",
   "metadata": {},
   "outputs": [
    {
     "data": {
      "image/png": "[encoded data removed]",
      "text/plain": [
       "<Figure size 800x800 with 9 Axes>"
      ]
     },
     "metadata": {},
     "output_type": "display_data"
    }
   ],
   "source": [
    "import matplotlib.pyplot as plt\n",
    "\n",
    "fig, axs = plt.subplots(3, 3, figsize=(8, 8))\n",
    "fig.suptitle(\"Pink Them\", fontsize=14, color='deeppink')\n",
    "\n",
    "axs[0,0].plot([11, 12, 13], [11, 14, 19], color='mediumvioletred'); axs[0,0].set_title(\"Line\", color='deeppink')\n",
    "axs[0,1].bar([11, 12, 13], [43, 34, 33], color='plum', edgecolor='purple'); axs[0,1].set_title(\"Bar\", color='deeppink')\n",
    "axs[0,2].scatter([11, 12, 13], [5, 15, 25], color='hotpink', s=80); axs[0,2].set_title(\"Scatter\", color='deeppink')\n",
    "axs[1,0].hist([11, 12, 12, 13, 13, 13], color='lightcoral', edgecolor='firebrick'); axs[1,0].set_title(\"Hist\", color='deeppink')\n",
    "axs[1,1].pie([25, 35, 40], labels=['A', 'B', 'C'], colors=['pink', 'orchid', 'lavender']); axs[1,1].set_title(\"Pie\", color='deeppink')\n",
    "axs[1,2].stem([1, 2, 3], [2, 4, 3], linefmt='deeppink', markerfmt='o', basefmt='gray'); axs[1,2].set_title(\"Stem\", color='deeppink')\n",
    "axs[2,0].boxplot([[11, 12, 13, 12]], patch_artist=True, boxprops=dict(facecolor='thistle')); axs[2,0].set_title(\"Box\", color='deeppink')\n",
    "axs[2,1].violinplot([[11, 12, 13, 12]]); axs[2,1].set_title(\"Violin\", color='deeppink')\n",
    "axs[2,2].eventplot([[1, 2, 3]], colors='fuchsia'); axs[2,2].set_title(\"Event\", color='deeppink')\n",
    "\n",
    "plt.tight_layout()\n",
    "plt.subplots_adjust(top=0.9, hspace=0.5, wspace=0.5)\n",
    "plt.show()\n"
   ]
  },
  {
   "cell_type": "code",
   "execution_count": 110,
   "id": "f9d622bf-c5d4-41dd-9af2-3b820aac6b5d",
   "metadata": {},
   "outputs": [
    {
     "data": {
      "image/png": "[encoded data removed]",
      "text/plain": [
       "<Figure size 1000x1200 with 6 Axes>"
      ]
     },
     "metadata": {},
     "output_type": "display_data"
    }
   ],
   "source": [
    "import pandas as pd\n",
    "import matplotlib.pyplot as plt\n",
    "\n",
    "data = {\n",
    "    'Month': ['Jan', 'Feb', 'Mar', 'Apr', 'May', 'Jun', 'Jul', 'Aug', 'Sep', 'Oct', 'Nov', 'Dec'],\n",
    "    'Region A Sales': [200, 220, 250, 270, 300, 310, 400, 420, 450, 470, 500, 550],\n",
    "    'Region B Sales': [150, 180, 190, 200, 230, 250, 300, 320, 340, 360, 400, 430],\n",
    "    'Region C Sales': [100, 120, 140, 150, 160, 180, 190, 210, 220, 230, 250, 280],\n",
    "    'Advertising Budget': [50, 60, 55, 65, 70, 75, 85, 90, 95, 100, 110, 120]\n",
    "}\n",
    "df = pd.DataFrame(data)\n",
    "\n",
    "fig, axs = plt.subplots(3, 2, figsize=(10, 12))\n",
    "fig.suptitle(\"Sales & Marketing Analysis\", fontsize=16, color='navy')\n",
    "\n",
    "region_colors = ['dodgerblue', 'teal', 'deepskyblue']\n",
    "listofRegions = ['Region A Sales', 'Region B Sales', 'Region C Sales']\n",
    "for region, color in zip(listofRegions, region_colors):\n",
    "    axs[0,0].plot(df['Month'], df[region], label=region, color=color)\n",
    "axs[0,0].set_title('Monthly Sales Trends', color='teal')\n",
    "axs[0,0].set_xlabel('Month')\n",
    "axs[0,0].set_ylabel('Sales')\n",
    "axs[0,0].legend()\n",
    "\n",
    "total_sales = df[['Region A Sales', 'Region B Sales', 'Region C Sales']].sum()\n",
    "axs[0,1].bar(total_sales.index, total_sales.values, color=['royalblue', 'cadetblue', 'steelblue'])\n",
    "axs[0,1].set_title('Total Sales by Region', color='navy')\n",
    "axs[0,1].set_xlabel('Region')\n",
    "axs[0,1].set_ylabel('Total Sales')\n",
    "\n",
    "axs[1,0].hist(df['Region A Sales'], bins=5, color=('cornflowerblue') , edgecolor='navy')\n",
    "axs[1,0].set_title('Distribution of Region A Sales', color='teal')\n",
    "axs[1,0].set_xlabel('Sales')\n",
    "axs[1,0].set_ylabel('Frequency')\n",
    "\n",
    "axs[1,1].scatter(df['Advertising Budget'], df['Region A Sales'], color='mediumblue', edgecolor='black')\n",
    "axs[1,1].set_title('Ad Budget vs. Region A Sales', color='navy')\n",
    "axs[1,1].set_xlabel('Advertising Budget')\n",
    "axs[1,1].set_ylabel('Region A Sales')\n",
    "\n",
    "axs[2,0].pie(total_sales.values, labels=total_sales.index, autopct='%1.1f%%', startangle=90,\n",
    "             colors=['lightblue', 'skyblue', 'powderblue'])\n",
    "axs[2,0].set_title('Proportion of Total Sales', color='teal')\n",
    "\n",
    "axs[2,1].axis('off')\n",
    "\n",
    "plt.tight_layout()\n",
    "plt.subplots_adjust(top=0.93)\n",
    "plt.show()\n"
   ]
  },
  {
   "cell_type": "code",
   "execution_count": 117,
   "id": "587822d9-1e48-482a-8f0c-9caf8cbf9a80",
   "metadata": {},
   "outputs": [
    {
     "name": "stdout",
     "output_type": "stream",
     "text": [
      "   sepal_length  sepal_width  petal_length  petal_width species\n",
      "0           5.1          3.5           1.4          0.2  setosa\n",
      "1           4.9          3.0           1.4          0.2  setosa\n",
      "2           4.7          3.2           1.3          0.2  setosa\n",
      "3           4.6          3.1           1.5          0.2  setosa\n",
      "4           5.0          3.6           1.4          0.2  setosa\n",
      "<class 'pandas.core.frame.DataFrame'>\n",
      "RangeIndex: 150 entries, 0 to 149\n",
      "Data columns (total 5 columns):\n",
      " #   Column        Non-Null Count  Dtype  \n",
      "---  ------        --------------  -----  \n",
      " 0   sepal_length  150 non-null    float64\n",
      " 1   sepal_width   150 non-null    float64\n",
      " 2   petal_length  150 non-null    float64\n",
      " 3   petal_width   150 non-null    float64\n",
      " 4   species       150 non-null    object \n",
      "dtypes: float64(4), object(1)\n",
      "memory usage: 6.0+ KB\n",
      "None\n"
     ]
    }
   ],
   "source": [
    "import pandas as pd\n",
    "import numpy as np\n",
    "import seaborn as sns\n",
    "import matplotlib.pyplot as plt\n",
    "\n",
    "df = sns.load_dataset('iris')\n",
    "print(df.head())\n",
    "print(df.info())"
   ]
  },
  {
   "cell_type": "code",
   "execution_count": 121,
   "id": "8740b75b-3132-4220-9572-54dde44d7ca2",
   "metadata": {},
   "outputs": [
    {
     "name": "stdout",
     "output_type": "stream",
     "text": [
      "              sepal_length  sepal_width  petal_length  petal_width\n",
      "sepal_length      1.000000    -0.117570      0.871754     0.817941\n",
      "sepal_width      -0.117570     1.000000     -0.428440    -0.366126\n",
      "petal_length      0.871754    -0.428440      1.000000     0.962865\n",
      "petal_width       0.817941    -0.366126      0.962865     1.000000\n"
     ]
    }
   ],
   "source": [
    "df_num = df.select_dtypes(include =['number'])\n",
    "corr_matrix = df_num.corr()\n",
    "print(corr_matrix)"
   ]
  },
  {
   "cell_type": "code",
   "execution_count": 122,
   "id": "7bce2cba-7705-4c44-9775-6fcb96a4e75e",
   "metadata": {},
   "outputs": [
    {
     "data": {
      "image/png": "[encoded data removed]",
      "text/plain": [
       "<Figure size 1000x800 with 2 Axes>"
      ]
     },
     "metadata": {},
     "output_type": "display_data"
    }
   ],
   "source": [
    "plt.figure(figsize=(10,8))\n",
    "sns.heatmap(corr_matrix, annot = True, cmap = 'coolwarm', fmt = '.2f')\n",
    "plt.title('Correlation Matrix Heatmap-Iris Dataset')\n",
    "plt.show()"
   ]
  },
  {
   "cell_type": "code",
   "execution_count": null,
   "id": "ee617e85-fe5d-4815-8e87-36f7036c7b85",
   "metadata": {},
   "outputs": [],
   "source": []
  },
  {
   "cell_type": "code",
   "execution_count": null,
   "id": "0c9449a1-c241-44c3-b1c5-6fec9dae52c4",
   "metadata": {},
   "outputs": [],
   "source": []
  },
  {
   "cell_type": "code",
   "execution_count": null,
   "id": "b0d3e829-82c2-4230-9620-43c7fe747b47",
   "metadata": {},
   "outputs": [],
   "source": []
  },
  {
   "cell_type": "code",
   "execution_count": null,
   "id": "31639e25-81b3-41cc-87ca-342776637b93",
   "metadata": {},
   "outputs": [],
   "source": []
  },
  {
   "cell_type": "code",
   "execution_count": null,
   "id": "0ca5912d-3c25-4090-b7ba-16ec18106b12",
   "metadata": {},
   "outputs": [],
   "source": []
  },
  {
   "cell_type": "code",
   "execution_count": null,
   "id": "ab98eb70-6cb6-4996-b79e-e067201d7a90",
   "metadata": {},
   "outputs": [],
   "source": []
  }
 ],
 "metadata": {
  "kernelspec": {
   "display_name": "Python 3 (ipykernel)",
   "language": "python",
   "name": "python3"
  },
  "language_info": {
   "codemirror_mode": {
    "name": "ipython",
    "version": 3
   },
   "file_extension": ".py",
   "mimetype": "text/x-python",
   "name": "python",
   "nbconvert_exporter": "python",
   "pygments_lexer": "ipython3",
   "version": "3.12.4"
  }
 },
 "nbformat": 4,
 "nbformat_minor": 5
}

{
 "cells": [
  {
   "cell_type": "code",
   "execution_count": 1,
   "id": "a9ecfc4c-f680-4510-8254-6fd9f470d82c",
   "metadata": {},
   "outputs": [
    {
     "name": "stdout",
     "output_type": "stream",
     "text": [
      "Welcome to the Maze Escape Challenge!\n",
      "\n",
      "# # # # # # # \n",
      "# P #       # \n",
      "#   #   #   # \n",
      "#   #   #   # \n",
      "#   # # #   # \n",
      "#         E # \n",
      "# # # # # # # \n",
      "\n"
     ]
    },
    {
     "name": "stdin",
     "output_type": "stream",
     "text": [
      "Enter your move (U/L/D/R):  D\n"
     ]
    },
    {
     "name": "stdout",
     "output_type": "stream",
     "text": [
      "# # # # # # # \n",
      "# S #       # \n",
      "# P #   #   # \n",
      "#   #   #   # \n",
      "#   # # #   # \n",
      "#         E # \n",
      "# # # # # # # \n",
      "\n"
     ]
    },
    {
     "name": "stdin",
     "output_type": "stream",
     "text": [
      "Enter your move (U/L/D/R):  D\n"
     ]
    },
    {
     "name": "stdout",
     "output_type": "stream",
     "text": [
      "# # # # # # # \n",
      "# S #       # \n",
      "#   #   #   # \n",
      "# P #   #   # \n",
      "#   # # #   # \n",
      "#         E # \n",
      "# # # # # # # \n",
      "\n"
     ]
    },
    {
     "name": "stdin",
     "output_type": "stream",
     "text": [
      "Enter your move (U/L/D/R):  D\n"
     ]
    },
    {
     "name": "stdout",
     "output_type": "stream",
     "text": [
      "# # # # # # # \n",
      "# S #       # \n",
      "#   #   #   # \n",
      "#   #   #   # \n",
      "# P # # #   # \n",
      "#         E # \n",
      "# # # # # # # \n",
      "\n"
     ]
    },
    {
     "name": "stdin",
     "output_type": "stream",
     "text": [
      "Enter your move (U/L/D/R):  D\n"
     ]
    },
    {
     "name": "stdout",
     "output_type": "stream",
     "text": [
      "# # # # # # # \n",
      "# S #       # \n",
      "#   #   #   # \n",
      "#   #   #   # \n",
      "#   # # #   # \n",
      "# P       E # \n",
      "# # # # # # # \n",
      "\n"
     ]
    },
    {
     "name": "stdin",
     "output_type": "stream",
     "text": [
      "Enter your move (U/L/D/R):  L\n"
     ]
    },
    {
     "name": "stdout",
     "output_type": "stream",
     "text": [
      "You hit a wall! Try another direction.\n",
      "# # # # # # # \n",
      "# S #       # \n",
      "#   #   #   # \n",
      "#   #   #   # \n",
      "#   # # #   # \n",
      "# P       E # \n",
      "# # # # # # # \n",
      "\n"
     ]
    },
    {
     "name": "stdin",
     "output_type": "stream",
     "text": [
      "Enter your move (U/L/D/R):  L\n"
     ]
    },
    {
     "name": "stdout",
     "output_type": "stream",
     "text": [
      "You hit a wall! Try another direction.\n",
      "# # # # # # # \n",
      "# S #       # \n",
      "#   #   #   # \n",
      "#   #   #   # \n",
      "#   # # #   # \n",
      "# P       E # \n",
      "# # # # # # # \n",
      "\n"
     ]
    },
    {
     "name": "stdin",
     "output_type": "stream",
     "text": [
      "Enter your move (U/L/D/R):  R\n"
     ]
    },
    {
     "name": "stdout",
     "output_type": "stream",
     "text": [
      "# # # # # # # \n",
      "# S #       # \n",
      "#   #   #   # \n",
      "#   #   #   # \n",
      "#   # # #   # \n",
      "#   P     E # \n",
      "# # # # # # # \n",
      "\n"
     ]
    },
    {
     "name": "stdin",
     "output_type": "stream",
     "text": [
      "Enter your move (U/L/D/R):  R\n"
     ]
    },
    {
     "name": "stdout",
     "output_type": "stream",
     "text": [
      "# # # # # # # \n",
      "# S #       # \n",
      "#   #   #   # \n",
      "#   #   #   # \n",
      "#   # # #   # \n",
      "#     P   E # \n",
      "# # # # # # # \n",
      "\n"
     ]
    },
    {
     "name": "stdin",
     "output_type": "stream",
     "text": [
      "Enter your move (U/L/D/R):  R\n"
     ]
    },
    {
     "name": "stdout",
     "output_type": "stream",
     "text": [
      "# # # # # # # \n",
      "# S #       # \n",
      "#   #   #   # \n",
      "#   #   #   # \n",
      "#   # # #   # \n",
      "#       P E # \n",
      "# # # # # # # \n",
      "\n"
     ]
    },
    {
     "name": "stdin",
     "output_type": "stream",
     "text": [
      "Enter your move (U/L/D/R):  R\n"
     ]
    },
    {
     "name": "stdout",
     "output_type": "stream",
     "text": [
      "\n",
      "Congratulations! You've reached the Exit (E)!\n",
      "Total moves: 8\n",
      "Time taken: 25.12 seconds\n"
     ]
    },
    {
     "name": "stdin",
     "output_type": "stream",
     "text": [
      "\n",
      "Do you want to play again? (Y/N):  N\n"
     ]
    },
    {
     "name": "stdout",
     "output_type": "stream",
     "text": [
      "Thank you for playing the Maze Escape Challenge!\n"
     ]
    }
   ],
   "source": [
    "import random\n",
    "import time\n",
    "\n",
    "def create_empty_maze(rows, cols):\n",
    "    maze = [['#' for _ in range(cols)] for _ in range(rows)]\n",
    "    return maze\n",
    "\n",
    "def carve_path(maze, x, y, visited):\n",
    "    directions = [(-2, 0), (2, 0), (0, -2), (0, 2)]  # Up, Down, Left, Right\n",
    "    random.shuffle(directions)\n",
    "\n",
    "    visited.add((x, y))\n",
    "    maze[x][y] = ' '\n",
    "\n",
    "    for dx, dy in directions:\n",
    "        nx, ny = x + dx, y + dy\n",
    "        if (1 <= nx < len(maze)-1) and (1 <= ny < len(maze[0])-1) and (nx, ny) not in visited:\n",
    "            maze[x + dx//2][y + dy//2] = ' '\n",
    "            carve_path(maze, nx, ny, visited)\n",
    "\n",
    "def generate_maze(rows, cols):\n",
    "    maze = create_empty_maze(rows, cols)\n",
    "    visited = set()\n",
    "    carve_path(maze, 1, 1, visited)\n",
    "    maze[1][1] = 'S'  # Start\n",
    "    maze[rows-2][cols-2] = 'E'  # Exit\n",
    "    return maze\n",
    "\n",
    "def display_maze(maze, player_pos):\n",
    "    for i in range(len(maze)):\n",
    "        row = ''\n",
    "        for j in range(len(maze[0])):\n",
    "            if (i, j) == player_pos:\n",
    "                row += 'P '\n",
    "            else:\n",
    "                row += maze[i][j] + ' '\n",
    "        print(row)\n",
    "    print()\n",
    "\n",
    "def move_player(position, direction, maze):\n",
    "    x, y = position\n",
    "    moves = {'U': (-1, 0), 'D': (1, 0), 'L': (0, -1), 'R': (0, 1)}\n",
    "    if direction not in moves:\n",
    "        print(\"Invalid move! Please use U, D, L, or R.\")\n",
    "        return position, False\n",
    "\n",
    "    dx, dy = moves[direction]\n",
    "    new_x, new_y = x + dx, y + dy\n",
    "\n",
    "    if 0 <= new_x < len(maze) and 0 <= new_y < len(maze[0]):\n",
    "        if maze[new_x][new_y] != '#':\n",
    "            return (new_x, new_y), True\n",
    "        else:\n",
    "            print(\"You hit a wall! Try another direction.\")\n",
    "            return position, False\n",
    "    else:\n",
    "        print(\"You can't move outside the maze!\")\n",
    "        return position, False\n",
    "\n",
    "def play_game():\n",
    "    print(\"Welcome to the Maze Escape Challenge!\\n\")\n",
    "    rows, cols = 7, 7  # 🎯 smaller maze size\n",
    "    maze = generate_maze(rows, cols)\n",
    "    player_pos = (1, 1)\n",
    "    moves_count = 0\n",
    "    start_time = time.time()\n",
    "\n",
    "    while True:\n",
    "        display_maze(maze, player_pos)\n",
    "        move = input(\"Enter your move (U/L/D/R): \").upper()\n",
    "        new_pos, moved = move_player(player_pos, move, maze)\n",
    "        \n",
    "        if moved:\n",
    "            player_pos = new_pos\n",
    "            moves_count += 1\n",
    "\n",
    "        if maze[player_pos[0]][player_pos[1]] == 'E':\n",
    "            end_time = time.time()\n",
    "            time_taken = round(end_time - start_time, 2)\n",
    "            print(\"\\nCongratulations! You've reached the Exit (E)!\")\n",
    "            print(f\"Total moves: {moves_count}\")\n",
    "            print(f\"Time taken: {time_taken} seconds\")\n",
    "            break\n",
    "\n",
    "    play_again = input(\"\\nDo you want to play again? (Y/N): \").upper()\n",
    "    if play_again == 'Y':\n",
    "        play_game()\n",
    "    else:\n",
    "        print(\"Thank you for playing the Maze Escape Challenge!\")\n",
    "\n",
    "if __name__ == \"__main__\":\n",
    "    play_game()\n"
   ]
  },
  {
   "cell_type": "markdown",
   "id": "b143da8a-f103-48a1-a3e7-6f251aa8ab97",
   "metadata": {},
   "source": []
  }
 ],
 "metadata": {
  "kernelspec": {
   "display_name": "Python 3 (ipykernel)",
   "language": "python",
   "name": "python3"
  },
  "language_info": {
   "codemirror_mode": {
    "name": "ipython",
    "version": 3
   },
   "file_extension": ".py",
   "mimetype": "text/x-python",
   "name": "python",
   "nbconvert_exporter": "python",
   "pygments_lexer": "ipython3",
   "version": "3.12.4"
  }
 },
 "nbformat": 4,
 "nbformat_minor": 5
}

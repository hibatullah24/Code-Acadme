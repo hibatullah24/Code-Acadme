{
 "cells": [
  {
   "cell_type": "code",
   "execution_count": 1,
   "id": "d18f1caf-ba7f-45fa-9819-372b7efb642c",
   "metadata": {},
   "outputs": [
    {
     "name": "stdout",
     "output_type": "stream",
     "text": [
      "Dog barks\n"
     ]
    }
   ],
   "source": [
    "# Overriding Example:\n",
    "class Animal:\n",
    "    def speak(self):\n",
    "        print(\"Animal speaks\")\n",
    "\n",
    "class Dog(Animal):\n",
    "    def speak(self):\n",
    "        print(\"Dog barks\")\n",
    "\n",
    "d = Dog()\n",
    "d.speak()"
   ]
  },
  {
   "cell_type": "code",
   "execution_count": 3,
   "id": "1460fd38-ffd4-443f-a8b7-851bf67d3396",
   "metadata": {},
   "outputs": [
    {
     "name": "stdout",
     "output_type": "stream",
     "text": [
      "5\n",
      "8\n",
      "10\n"
     ]
    }
   ],
   "source": [
    "#Overloading Example:\n",
    "\n",
    "class MathOperations:\n",
    "    def add(self, a, b=0, c=0):\n",
    "        print(a+b+c)\n",
    "\n",
    "m = MathOperations()\n",
    "m.add(5)\n",
    "m.add(5,3)\n",
    "m.add(5, 3, 2)"
   ]
  },
  {
   "cell_type": "code",
   "execution_count": 2,
   "id": "5f63ae87-825d-49de-b797-86bfeb9f7ae1",
   "metadata": {},
   "outputs": [
    {
     "name": "stdout",
     "output_type": "stream",
     "text": [
      "Welcome to the Maze Escape Challenge!\n",
      "\n",
      "# # # # # # # \n",
      "# P     #   # \n",
      "# # #   #   # \n",
      "#       #   # \n",
      "#   # # #   # \n",
      "#         E # \n",
      "# # # # # # # \n",
      "\n"
     ]
    },
    {
     "name": "stdin",
     "output_type": "stream",
     "text": [
      "Enter your move (U/L/D/R):  R\n"
     ]
    },
    {
     "name": "stdout",
     "output_type": "stream",
     "text": [
      "# # # # # # # \n",
      "# S P   #   # \n",
      "# # #   #   # \n",
      "#       #   # \n",
      "#   # # #   # \n",
      "#         E # \n",
      "# # # # # # # \n",
      "\n"
     ]
    },
    {
     "name": "stdin",
     "output_type": "stream",
     "text": [
      "Enter your move (U/L/D/R):  R\n"
     ]
    },
    {
     "name": "stdout",
     "output_type": "stream",
     "text": [
      "# # # # # # # \n",
      "# S   P #   # \n",
      "# # #   #   # \n",
      "#       #   # \n",
      "#   # # #   # \n",
      "#         E # \n",
      "# # # # # # # \n",
      "\n"
     ]
    },
    {
     "name": "stdin",
     "output_type": "stream",
     "text": [
      "Enter your move (U/L/D/R):  D\n"
     ]
    },
    {
     "name": "stdout",
     "output_type": "stream",
     "text": [
      "# # # # # # # \n",
      "# S     #   # \n",
      "# # # P #   # \n",
      "#       #   # \n",
      "#   # # #   # \n",
      "#         E # \n",
      "# # # # # # # \n",
      "\n"
     ]
    },
    {
     "name": "stdin",
     "output_type": "stream",
     "text": [
      "Enter your move (U/L/D/R):  D\n"
     ]
    },
    {
     "name": "stdout",
     "output_type": "stream",
     "text": [
      "# # # # # # # \n",
      "# S     #   # \n",
      "# # #   #   # \n",
      "#     P #   # \n",
      "#   # # #   # \n",
      "#         E # \n",
      "# # # # # # # \n",
      "\n"
     ]
    },
    {
     "name": "stdin",
     "output_type": "stream",
     "text": [
      "Enter your move (U/L/D/R):  L\n"
     ]
    },
    {
     "name": "stdout",
     "output_type": "stream",
     "text": [
      "# # # # # # # \n",
      "# S     #   # \n",
      "# # #   #   # \n",
      "#   P   #   # \n",
      "#   # # #   # \n",
      "#         E # \n",
      "# # # # # # # \n",
      "\n"
     ]
    },
    {
     "name": "stdin",
     "output_type": "stream",
     "text": [
      "Enter your move (U/L/D/R):  L\n"
     ]
    },
    {
     "name": "stdout",
     "output_type": "stream",
     "text": [
      "# # # # # # # \n",
      "# S     #   # \n",
      "# # #   #   # \n",
      "# P     #   # \n",
      "#   # # #   # \n",
      "#         E # \n",
      "# # # # # # # \n",
      "\n"
     ]
    },
    {
     "name": "stdin",
     "output_type": "stream",
     "text": [
      "Enter your move (U/L/D/R):  D\n"
     ]
    },
    {
     "name": "stdout",
     "output_type": "stream",
     "text": [
      "# # # # # # # \n",
      "# S     #   # \n",
      "# # #   #   # \n",
      "#       #   # \n",
      "# P # # #   # \n",
      "#         E # \n",
      "# # # # # # # \n",
      "\n"
     ]
    },
    {
     "name": "stdin",
     "output_type": "stream",
     "text": [
      "Enter your move (U/L/D/R):  D\n"
     ]
    },
    {
     "name": "stdout",
     "output_type": "stream",
     "text": [
      "# # # # # # # \n",
      "# S     #   # \n",
      "# # #   #   # \n",
      "#       #   # \n",
      "#   # # #   # \n",
      "# P       E # \n",
      "# # # # # # # \n",
      "\n"
     ]
    },
    {
     "name": "stdin",
     "output_type": "stream",
     "text": [
      "Enter your move (U/L/D/R):  R\n"
     ]
    },
    {
     "name": "stdout",
     "output_type": "stream",
     "text": [
      "# # # # # # # \n",
      "# S     #   # \n",
      "# # #   #   # \n",
      "#       #   # \n",
      "#   # # #   # \n",
      "#   P     E # \n",
      "# # # # # # # \n",
      "\n"
     ]
    },
    {
     "name": "stdin",
     "output_type": "stream",
     "text": [
      "Enter your move (U/L/D/R):  R\n"
     ]
    },
    {
     "name": "stdout",
     "output_type": "stream",
     "text": [
      "# # # # # # # \n",
      "# S     #   # \n",
      "# # #   #   # \n",
      "#       #   # \n",
      "#   # # #   # \n",
      "#     P   E # \n",
      "# # # # # # # \n",
      "\n"
     ]
    },
    {
     "name": "stdin",
     "output_type": "stream",
     "text": [
      "Enter your move (U/L/D/R):  R\n"
     ]
    },
    {
     "name": "stdout",
     "output_type": "stream",
     "text": [
      "# # # # # # # \n",
      "# S     #   # \n",
      "# # #   #   # \n",
      "#       #   # \n",
      "#   # # #   # \n",
      "#       P E # \n",
      "# # # # # # # \n",
      "\n"
     ]
    },
    {
     "name": "stdin",
     "output_type": "stream",
     "text": [
      "Enter your move (U/L/D/R):  R\n"
     ]
    },
    {
     "name": "stdout",
     "output_type": "stream",
     "text": [
      "\n",
      "Congratulations! You've reached the Exit (E)!\n",
      "Total moves: 12\n",
      "Time taken: 35.94 seconds\n"
     ]
    },
    {
     "name": "stdin",
     "output_type": "stream",
     "text": [
      "\n",
      "Do you want to play again? (Y/N):  N\n"
     ]
    },
    {
     "name": "stdout",
     "output_type": "stream",
     "text": [
      "Thank you for playing the Maze Escape Challenge!\n"
     ]
    }
   ],
   "source": [
    "#W2:\n",
    "import random\n",
    "import time\n",
    "\n",
    "def create_empty_maze(rows, cols):\n",
    "    maze = [['#' for _ in range(cols)] for _ in range(rows)]\n",
    "    return maze\n",
    "\n",
    "def carve_path(maze, x, y, visited):\n",
    "    directions = [(-2, 0), (2, 0), (0, -2), (0, 2)]  # Up, Down, Left, Right\n",
    "    random.shuffle(directions)\n",
    "\n",
    "    visited.add((x, y))\n",
    "    maze[x][y] = ' '\n",
    "\n",
    "    for dx, dy in directions:\n",
    "        nx, ny = x + dx, y + dy\n",
    "        if (1 <= nx < len(maze)-1) and (1 <= ny < len(maze[0])-1) and (nx, ny) not in visited:\n",
    "            maze[x + dx//2][y + dy//2] = ' '\n",
    "            carve_path(maze, nx, ny, visited)\n",
    "\n",
    "def generate_maze(rows, cols):\n",
    "    maze = create_empty_maze(rows, cols)\n",
    "    visited = set()\n",
    "    carve_path(maze, 1, 1, visited)\n",
    "    maze[1][1] = 'S'  # Start\n",
    "    maze[rows-2][cols-2] = 'E'  # Exit\n",
    "    return maze\n",
    "\n",
    "def display_maze(maze, player_pos):\n",
    "    for i in range(len(maze)):\n",
    "        row = ''\n",
    "        for j in range(len(maze[0])):\n",
    "            if (i, j) == player_pos:\n",
    "                row += 'P '\n",
    "            else:\n",
    "                row += maze[i][j] + ' '\n",
    "        print(row)\n",
    "    print()\n",
    "\n",
    "def move_player(position, direction, maze):\n",
    "    x, y = position\n",
    "    moves = {'U': (-1, 0), 'D': (1, 0), 'L': (0, -1), 'R': (0, 1)}\n",
    "    if direction not in moves:\n",
    "        print(\"Invalid move! Please use U, D, L, or R.\")\n",
    "        return position, False\n",
    "\n",
    "    dx, dy = moves[direction]\n",
    "    new_x, new_y = x + dx, y + dy\n",
    "\n",
    "    if 0 <= new_x < len(maze) and 0 <= new_y < len(maze[0]):\n",
    "        if maze[new_x][new_y] != '#':\n",
    "            return (new_x, new_y), True\n",
    "        else:\n",
    "            print(\"You hit a wall! Try another direction.\")\n",
    "            return position, False\n",
    "    else:\n",
    "        print(\"You can't move outside the maze!\")\n",
    "        return position, False\n",
    "\n",
    "def play_game():\n",
    "    print(\"Welcome to the Maze Escape Challenge!\\n\")\n",
    "    rows, cols = 7, 7  # 🎯 smaller maze size\n",
    "    maze = generate_maze(rows, cols)\n",
    "    player_pos = (1, 1)\n",
    "    moves_count = 0\n",
    "    start_time = time.time()\n",
    "\n",
    "    while True:\n",
    "        display_maze(maze, player_pos)\n",
    "        move = input(\"Enter your move (U/L/D/R): \").upper()\n",
    "        new_pos, moved = move_player(player_pos, move, maze)\n",
    "        \n",
    "        if moved:\n",
    "            player_pos = new_pos\n",
    "            moves_count += 1\n",
    "\n",
    "        if maze[player_pos[0]][player_pos[1]] == 'E':\n",
    "            end_time = time.time()\n",
    "            time_taken = round(end_time - start_time, 2)\n",
    "            print(\"\\nCongratulations! You've reached the Exit (E)!\")\n",
    "            print(f\"Total moves: {moves_count}\")\n",
    "            print(f\"Time taken: {time_taken} seconds\")\n",
    "            break\n",
    "\n",
    "    play_again = input(\"\\nDo you want to play again? (Y/N): \").upper()\n",
    "    if play_again == 'Y':\n",
    "        play_game()\n",
    "    else:\n",
    "        print(\"Thank you for playing the Maze Escape Challenge!\")\n",
    "\n",
    "if __name__ == \"__main__\":\n",
    "    play_game()\n"
   ]
  },
  {
   "cell_type": "code",
   "execution_count": 5,
   "id": "7ed94053-1672-49ea-b6fe-768c78f846e6",
   "metadata": {},
   "outputs": [
    {
     "name": "stdout",
     "output_type": "stream",
     "text": [
      "False\n",
      "False\n",
      "True\n"
     ]
    }
   ],
   "source": [
    "# problem of the day :\n",
    "def is_path_crossing(steps):\n",
    "    moves = [(0, 1), (-1, 0), (0, -1), (1, 0)]\n",
    "    \n",
    "    x, y = 0, 0  \n",
    "    visited_positions = {(0, 0)}  \n",
    "\n",
    "    direction_index = 0 \n",
    "\n",
    "    for distance in steps:\n",
    "        dx, dy = moves[direction_index % 4]\n",
    "\n",
    "        for _ in range(distance):\n",
    "            x += dx\n",
    "            y += dy\n",
    "            if (x, y) in visited_positions:\n",
    "                return True  \n",
    "            visited_positions.add((x, y))\n",
    "\n",
    "        direction_index += 1 \n",
    "\n",
    "    return False \n",
    "\n",
    "\n",
    "print(is_path_crossing([0, 1, 2, 3])) \n",
    "print(is_path_crossing([1, 1, 2, 1]))  \n",
    "print(is_path_crossing([1, 1, 1, 1]))  \n",
    "\n"
   ]
  },
  {
   "cell_type": "code",
   "execution_count": null,
   "id": "3a9ce456-a4d8-433b-b2af-12601a690cd9",
   "metadata": {},
   "outputs": [],
   "source": []
  }
 ],
 "metadata": {
  "kernelspec": {
   "display_name": "Python 3 (ipykernel)",
   "language": "python",
   "name": "python3"
  },
  "language_info": {
   "codemirror_mode": {
    "name": "ipython",
    "version": 3
   },
   "file_extension": ".py",
   "mimetype": "text/x-python",
   "name": "python",
   "nbconvert_exporter": "python",
   "pygments_lexer": "ipython3",
   "version": "3.12.4"
  }
 },
 "nbformat": 4,
 "nbformat_minor": 5
}

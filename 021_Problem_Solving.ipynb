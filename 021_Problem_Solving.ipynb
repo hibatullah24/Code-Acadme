{
  "nbformat": 4,
  "nbformat_minor": 0,
  "metadata": {
    "colab": {
      "provenance": [],
      "authorship_tag": "ABX9TyNqKwhxqaPXLlF+g/D9WsJD",
      "include_colab_link": true
    },
    "kernelspec": {
      "name": "python3",
      "display_name": "Python 3"
    },
    "language_info": {
      "name": "python"
    }
  },
  "cells": [
    {
      "cell_type": "markdown",
      "metadata": {
        "id": "view-in-github",
        "colab_type": "text"
      },
      "source": [
        "<a href=\"https://colab.research.google.com/github/hibatullah24/Code-Acadme/blob/main/021_Problem_Solving.ipynb\" target=\"_parent\"><img src=\"https://colab.research.google.com/assets/colab-badge.svg\" alt=\"Open In Colab\"/></a>"
      ]
    },
    {
      "cell_type": "code",
      "execution_count": 1,
      "metadata": {
        "colab": {
          "base_uri": "https://localhost:8080/"
        },
        "id": "A7nLqgK5x3qC",
        "outputId": "a55871b4-c181-48df-8b50-7a44f12ea416"
      },
      "outputs": [
        {
          "output_type": "stream",
          "name": "stdout",
          "text": [
            "Enter die values (1 to 6), type 'done' to finish:\n",
            "Value: 3\n",
            "Value: 4\n",
            "Value: 5\n",
            "Value: 3\n",
            "Value: 4\n",
            "Value: 1\n",
            "Value: 2\n",
            "Value: 4\n",
            "Value: 5\n",
            "Value: 6\n",
            "Value: done\n",
            "Results:\n",
            "1: 1\n",
            "2: 1\n",
            "3: 2\n",
            "4: 3\n",
            "5: 2\n",
            "6: 1\n"
          ]
        }
      ],
      "source": [
        "counters = [0, 0, 0, 0, 0, 0, 0]\n",
        "\n",
        "print(\"Enter die values (1 to 6), type 'done' to finish:\")\n",
        "\n",
        "while True:\n",
        "    value = input(\"Value: \")\n",
        "\n",
        "    if value.lower() == \"done\":\n",
        "        break\n",
        "\n",
        "    if value.isdigit():\n",
        "        num = int(value)\n",
        "        if 1 <= num <= 6:\n",
        "            counters[num] += 1\n",
        "        else:\n",
        "            print(\"ERROR: Value must be between 1 and 6\")\n",
        "    else:\n",
        "        print(\"ERROR: Please enter a number or 'done'\")\n",
        "\n",
        "# Print results\n",
        "print(\"Results:\")\n",
        "for i in range(1, 7):\n",
        "    print(f\"{i}: {counters[i]}\")"
      ]
    }
  ]
}
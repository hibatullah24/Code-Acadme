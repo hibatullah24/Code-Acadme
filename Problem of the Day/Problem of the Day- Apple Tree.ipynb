{
 "cells": [
  {
   "cell_type": "code",
   "execution_count": 7,
   "id": "d85951c7-e04d-4f30-b924-85363ee4f82a",
   "metadata": {},
   "outputs": [
    {
     "name": "stdout",
     "output_type": "stream",
     "text": [
      "\n",
      "Example1:\n",
      "1 apple(s)\n",
      "2 orange(s)\n",
      "\n",
      "Example2:\n",
      "1 apple(s)\n",
      "1 orange(s)\n"
     ]
    }
   ],
   "source": [
    "def count_fru_on_house(house_start, house_end, apple_Tposition, orange_Tposition, apple_distances, orange_distances):\n",
    "    apple_landings = [apple_Tposition + distance for distance in apple_distances]\n",
    "    orange_landings = [orange_Tposition + distance for distance in orange_distances]\n",
    "    apples_onH = sum (1 for position in apple_landings if house_start <= position <= house_end)\n",
    "    orange_onH = sum (1 for position in orange_landings if house_start <= position <= house_end)\n",
    "    print(f\"{apples_onH} apple(s)\")\n",
    "    print(f\"{orange_onH} orange(s)\")\n",
    "\n",
    "\n",
    "#Example1:\n",
    "print(\"\\nExample1:\")\n",
    "house_start = 7\n",
    "house_end = 10\n",
    "apple_Tposition = 4\n",
    "orange_Tposition = 12\n",
    "apple_distances = [2, 3, -4]\n",
    "orange_distances = [3, -2, -4]\n",
    "count_fru_on_house(house_start, house_end, apple_Tposition, orange_Tposition, apple_distances, orange_distances)\n",
    "\n",
    "# Example2:\n",
    "print(\"\\nExample2:\")\n",
    "house_start = 7\n",
    "house_end = 11\n",
    "apple_Tposition = 5\n",
    "orange_Tposition = 15\n",
    "apple_distances = [-2, 2, 1]\n",
    "orange_distances = [5, -6]\n",
    "count_fru_on_house(house_start, house_end, apple_Tposition, orange_Tposition, apple_distances, orange_distances)"
   ]
  }
 ],
 "metadata": {
  "kernelspec": {
   "display_name": "Python 3 (ipykernel)",
   "language": "python",
   "name": "python3"
  },
  "language_info": {
   "codemirror_mode": {
    "name": "ipython",
    "version": 3
   },
   "file_extension": ".py",
   "mimetype": "text/x-python",
   "name": "python",
   "nbconvert_exporter": "python",
   "pygments_lexer": "ipython3",
   "version": "3.12.4"
  }
 },
 "nbformat": 4,
 "nbformat_minor": 5
}

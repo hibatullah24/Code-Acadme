{
 "cells": [
  {
   "cell_type": "code",
   "execution_count": 2,
   "id": "0e61cfe0-c92f-4599-b5b8-fdf9bdc3d175",
   "metadata": {},
   "outputs": [
    {
     "name": "stdout",
     "output_type": "stream",
     "text": [
      "🎮 Maze Game (7x7) - Reach E to win!\n",
      "\n",
      "# # # # # # # \n",
      "# P #       # \n",
      "#   #   #   # \n",
      "#       #   # \n",
      "# # #   #   # \n",
      "#       # E # \n",
      "# # # # # # # \n",
      "\n"
     ]
    },
    {
     "name": "stdin",
     "output_type": "stream",
     "text": [
      "Move (U/D/L/R):  D\n"
     ]
    },
    {
     "name": "stdout",
     "output_type": "stream",
     "text": [
      "# # # # # # # \n",
      "# S #       # \n",
      "# P #   #   # \n",
      "#       #   # \n",
      "# # #   #   # \n",
      "#       # E # \n",
      "# # # # # # # \n",
      "\n"
     ]
    },
    {
     "name": "stdin",
     "output_type": "stream",
     "text": [
      "Move (U/D/L/R):  D\n"
     ]
    },
    {
     "name": "stdout",
     "output_type": "stream",
     "text": [
      "# # # # # # # \n",
      "# S #       # \n",
      "#   #   #   # \n",
      "# P     #   # \n",
      "# # #   #   # \n",
      "#       # E # \n",
      "# # # # # # # \n",
      "\n"
     ]
    },
    {
     "name": "stdin",
     "output_type": "stream",
     "text": [
      "Move (U/D/L/R):  R\n"
     ]
    },
    {
     "name": "stdout",
     "output_type": "stream",
     "text": [
      "# # # # # # # \n",
      "# S #       # \n",
      "#   #   #   # \n",
      "#   P   #   # \n",
      "# # #   #   # \n",
      "#       # E # \n",
      "# # # # # # # \n",
      "\n"
     ]
    },
    {
     "name": "stdin",
     "output_type": "stream",
     "text": [
      "Move (U/D/L/R):  R\n"
     ]
    },
    {
     "name": "stdout",
     "output_type": "stream",
     "text": [
      "# # # # # # # \n",
      "# S #       # \n",
      "#   #   #   # \n",
      "#     P #   # \n",
      "# # #   #   # \n",
      "#       # E # \n",
      "# # # # # # # \n",
      "\n"
     ]
    },
    {
     "name": "stdin",
     "output_type": "stream",
     "text": [
      "Move (U/D/L/R):  L\n"
     ]
    },
    {
     "name": "stdout",
     "output_type": "stream",
     "text": [
      "# # # # # # # \n",
      "# S #       # \n",
      "#   #   #   # \n",
      "#   P   #   # \n",
      "# # #   #   # \n",
      "#       # E # \n",
      "# # # # # # # \n",
      "\n"
     ]
    },
    {
     "name": "stdin",
     "output_type": "stream",
     "text": [
      "Move (U/D/L/R):  L\n"
     ]
    },
    {
     "name": "stdout",
     "output_type": "stream",
     "text": [
      "# # # # # # # \n",
      "# S #       # \n",
      "#   #   #   # \n",
      "# P     #   # \n",
      "# # #   #   # \n",
      "#       # E # \n",
      "# # # # # # # \n",
      "\n"
     ]
    },
    {
     "name": "stdin",
     "output_type": "stream",
     "text": [
      "Move (U/D/L/R):  R\n"
     ]
    },
    {
     "name": "stdout",
     "output_type": "stream",
     "text": [
      "# # # # # # # \n",
      "# S #       # \n",
      "#   #   #   # \n",
      "#   P   #   # \n",
      "# # #   #   # \n",
      "#       # E # \n",
      "# # # # # # # \n",
      "\n"
     ]
    },
    {
     "name": "stdin",
     "output_type": "stream",
     "text": [
      "Move (U/D/L/R):  R\n"
     ]
    },
    {
     "name": "stdout",
     "output_type": "stream",
     "text": [
      "# # # # # # # \n",
      "# S #       # \n",
      "#   #   #   # \n",
      "#     P #   # \n",
      "# # #   #   # \n",
      "#       # E # \n",
      "# # # # # # # \n",
      "\n"
     ]
    },
    {
     "name": "stdin",
     "output_type": "stream",
     "text": [
      "Move (U/D/L/R):  U\n"
     ]
    },
    {
     "name": "stdout",
     "output_type": "stream",
     "text": [
      "# # # # # # # \n",
      "# S #       # \n",
      "#   # P #   # \n",
      "#       #   # \n",
      "# # #   #   # \n",
      "#       # E # \n",
      "# # # # # # # \n",
      "\n"
     ]
    },
    {
     "name": "stdin",
     "output_type": "stream",
     "text": [
      "Move (U/D/L/R):  \n"
     ]
    },
    {
     "name": "stdout",
     "output_type": "stream",
     "text": [
      "# # # # # # # \n",
      "# S #       # \n",
      "#   # P #   # \n",
      "#       #   # \n",
      "# # #   #   # \n",
      "#       # E # \n",
      "# # # # # # # \n",
      "\n"
     ]
    },
    {
     "name": "stdin",
     "output_type": "stream",
     "text": [
      "Move (U/D/L/R):  U\n"
     ]
    },
    {
     "name": "stdout",
     "output_type": "stream",
     "text": [
      "# # # # # # # \n",
      "# S # P     # \n",
      "#   #   #   # \n",
      "#       #   # \n",
      "# # #   #   # \n",
      "#       # E # \n",
      "# # # # # # # \n",
      "\n"
     ]
    },
    {
     "name": "stdin",
     "output_type": "stream",
     "text": [
      "Move (U/D/L/R):  U\n"
     ]
    },
    {
     "name": "stdout",
     "output_type": "stream",
     "text": [
      "❌ Wall or invalid move!\n",
      "# # # # # # # \n",
      "# S # P     # \n",
      "#   #   #   # \n",
      "#       #   # \n",
      "# # #   #   # \n",
      "#       # E # \n",
      "# # # # # # # \n",
      "\n"
     ]
    },
    {
     "name": "stdin",
     "output_type": "stream",
     "text": [
      "Move (U/D/L/R):  R\n"
     ]
    },
    {
     "name": "stdout",
     "output_type": "stream",
     "text": [
      "# # # # # # # \n",
      "# S #   P   # \n",
      "#   #   #   # \n",
      "#       #   # \n",
      "# # #   #   # \n",
      "#       # E # \n",
      "# # # # # # # \n",
      "\n"
     ]
    },
    {
     "name": "stdin",
     "output_type": "stream",
     "text": [
      "Move (U/D/L/R):  R\n"
     ]
    },
    {
     "name": "stdout",
     "output_type": "stream",
     "text": [
      "# # # # # # # \n",
      "# S #     P # \n",
      "#   #   #   # \n",
      "#       #   # \n",
      "# # #   #   # \n",
      "#       # E # \n",
      "# # # # # # # \n",
      "\n"
     ]
    },
    {
     "name": "stdin",
     "output_type": "stream",
     "text": [
      "Move (U/D/L/R):  D\n"
     ]
    },
    {
     "name": "stdout",
     "output_type": "stream",
     "text": [
      "# # # # # # # \n",
      "# S #       # \n",
      "#   #   # P # \n",
      "#       #   # \n",
      "# # #   #   # \n",
      "#       # E # \n",
      "# # # # # # # \n",
      "\n"
     ]
    },
    {
     "name": "stdin",
     "output_type": "stream",
     "text": [
      "Move (U/D/L/R):  D\n"
     ]
    },
    {
     "name": "stdout",
     "output_type": "stream",
     "text": [
      "# # # # # # # \n",
      "# S #       # \n",
      "#   #   #   # \n",
      "#       # P # \n",
      "# # #   #   # \n",
      "#       # E # \n",
      "# # # # # # # \n",
      "\n"
     ]
    },
    {
     "name": "stdin",
     "output_type": "stream",
     "text": [
      "Move (U/D/L/R):  D\n"
     ]
    },
    {
     "name": "stdout",
     "output_type": "stream",
     "text": [
      "# # # # # # # \n",
      "# S #       # \n",
      "#   #   #   # \n",
      "#       #   # \n",
      "# # #   # P # \n",
      "#       # E # \n",
      "# # # # # # # \n",
      "\n"
     ]
    },
    {
     "name": "stdin",
     "output_type": "stream",
     "text": [
      "Move (U/D/L/R):  D\n"
     ]
    },
    {
     "name": "stdout",
     "output_type": "stream",
     "text": [
      "# # # # # # # \n",
      "# S #       # \n",
      "#   #   #   # \n",
      "#       #   # \n",
      "# # #   #   # \n",
      "#       # P # \n",
      "# # # # # # # \n",
      "\n",
      "🎉 You reached the Exit! Well done!\n"
     ]
    }
   ],
   "source": [
    "import random\n",
    "\n",
    "maze = [['#' for _ in range(7)] for _ in range(7)]\n",
    "visited = [[False for _ in range(7)] for _ in range(7)]\n",
    "directions = [(-2, 0), (2, 0), (0, -2), (0, 2)]\n",
    "\n",
    "def in_bounds(x, y):\n",
    "    return 0 <= x < 7 and 0 <= y < 7\n",
    "\n",
    "def carve(x, y):\n",
    "    visited[x][y] = True\n",
    "    maze[x][y] = ' '\n",
    "    random.shuffle(directions)\n",
    "    for dx, dy in directions:\n",
    "        nx, ny = x + dx, y + dy\n",
    "        if in_bounds(nx, ny) and not visited[nx][ny]:\n",
    "            wall_x, wall_y = x + dx//2, y + dy//2\n",
    "            maze[wall_x][wall_y] = ' '\n",
    "            carve(nx, ny)\n",
    "\n",
    "carve(1, 1)\n",
    "maze[1][1] = 'S' \n",
    "maze[5][5] = 'E' \n",
    "\n",
    "player_pos = [1, 1]\n",
    "\n",
    "def print_maze():\n",
    "    for i in range(7):\n",
    "        row = ''\n",
    "        for j in range(7):\n",
    "            if [i, j] == player_pos:\n",
    "                row += 'P '\n",
    "            else:\n",
    "                row += maze[i][j] + ' '\n",
    "        print(row)\n",
    "    print()\n",
    "\n",
    "def move_player(cmd):\n",
    "    dx, dy = {'U': (-1,0), 'D': (1,0), 'L': (0,-1), 'R': (0,1)}.get(cmd, (0,0))\n",
    "    nx, ny = player_pos[0] + dx, player_pos[1] + dy\n",
    "    if in_bounds(nx, ny) and maze[nx][ny] != '#':\n",
    "        player_pos[0], player_pos[1] = nx, ny\n",
    "    else:\n",
    "        print(\"❌ Wall or invalid move!\")\n",
    "\n",
    "print(\"🎮 Maze Game (7x7) - Reach E to win!\\n\")\n",
    "while maze[player_pos[0]][player_pos[1]] != 'E':\n",
    "    print_maze()\n",
    "    move = input(\"Move (U/D/L/R): \").upper()\n",
    "    move_player(move)\n",
    "\n",
    "print_maze()\n",
    "print(\"🎉 You reached the Exit! Well done!\")\n"
   ]
  }
 ],
 "metadata": {
  "kernelspec": {
   "display_name": "Python 3 (ipykernel)",
   "language": "python",
   "name": "python3"
  },
  "language_info": {
   "codemirror_mode": {
    "name": "ipython",
    "version": 3
   },
   "file_extension": ".py",
   "mimetype": "text/x-python",
   "name": "python",
   "nbconvert_exporter": "python",
   "pygments_lexer": "ipython3",
   "version": "3.12.4"
  }
 },
 "nbformat": 4,
 "nbformat_minor": 5
}

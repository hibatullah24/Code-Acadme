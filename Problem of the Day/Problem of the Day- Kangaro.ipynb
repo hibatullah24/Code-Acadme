{
 "cells": [
  {
   "cell_type": "code",
   "execution_count": 2,
   "id": "ae7b3573-ad28-40f5-83dc-5b0c6348900b",
   "metadata": {},
   "outputs": [
    {
     "name": "stdout",
     "output_type": "stream",
     "text": [
      "2 1 1 2 => Yes\n",
      "0 3 2 4 => No\n",
      "0 2 5 3 => No\n"
     ]
    }
   ],
   "source": [
    "def Kangaroo_met(x1, v1, x2, v2):\n",
    "    if v1 == v2:\n",
    "        return \"Yes\" if x1 == x2 else \"No\"\n",
    "    if (x2 - x1) % (v1 - v2) == 0 and (v1 - v2) * (x2 - x1) > 0:\n",
    "        return 'Yes'\n",
    "    return 'No'\n",
    "\n",
    "inputs = [\n",
    "    (2, 1, 1, 2), \n",
    "    (0, 3, 2, 4), \n",
    "    (0, 2, 5, 3)\n",
    "]\n",
    "\n",
    "for x1, v1, x2, v2 in inputs:\n",
    "    result = Kangaroo_met(x1, v1, x2, v2)\n",
    "    print(f\"{x1} {v1} {x2} {v2} => {result}\")\n",
    "\n",
    "        "
   ]
  }
 ],
 "metadata": {
  "kernelspec": {
   "display_name": "Python 3 (ipykernel)",
   "language": "python",
   "name": "python3"
  },
  "language_info": {
   "codemirror_mode": {
    "name": "ipython",
    "version": 3
   },
   "file_extension": ".py",
   "mimetype": "text/x-python",
   "name": "python",
   "nbconvert_exporter": "python",
   "pygments_lexer": "ipython3",
   "version": "3.12.4"
  }
 },
 "nbformat": 4,
 "nbformat_minor": 5
}

{
 "cells": [
  {
   "cell_type": "code",
   "execution_count": 13,
   "id": "3276c799-0e8a-4fd2-84dd-cee888a97c0e",
   "metadata": {},
   "outputs": [
    {
     "name": "stdin",
     "output_type": "stream",
     "text": [
      "Enter the height of the triangle:  8\n"
     ]
    },
    {
     "name": "stdout",
     "output_type": "stream",
     "text": [
      "       *\n",
      "      **\n",
      "     ***\n",
      "    ****\n",
      "   *****\n",
      "  ******\n",
      " *******\n",
      "********\n"
     ]
    }
   ],
   "source": [
    "height = int(input(\"Enter the height of the triangle: \"))\n",
    "\n",
    "for i in range(1, height + 1):\n",
    "    spaces = height - i\n",
    "    stars = i\n",
    "    print(\" \" * spaces + \"*\" * stars)"
   ]
  },
  {
   "cell_type": "code",
   "execution_count": null,
   "id": "1e319a3d-9d02-4d5d-b585-8bd7c96cc06b",
   "metadata": {},
   "outputs": [],
   "source": [
    "def mat(matrix):\n",
    "    n = len(matrix)\n",
    "    Pdiagonal = 0\n",
    "    Sdiagonal = 0\n",
    "\n",
    "for i in range (n):\n",
    "    Pdiagonal +=matrix[i][i]\n",
    "    Sdiagonal += matrix"
   ]
  },
  {
   "cell_type": "code",
   "execution_count": null,
   "id": "8246d357-997f-46c1-ac58-6497ff7432ef",
   "metadata": {},
   "outputs": [],
   "source": []
  },
  {
   "cell_type": "code",
   "execution_count": null,
   "id": "292ad4d8-d019-4c44-90c1-18ba246dce8d",
   "metadata": {},
   "outputs": [],
   "source": []
  },
  {
   "cell_type": "code",
   "execution_count": null,
   "id": "e68caceb-a506-4679-9518-48a801554049",
   "metadata": {},
   "outputs": [],
   "source": []
  },
  {
   "cell_type": "code",
   "execution_count": null,
   "id": "0a40457c-c24c-4fd5-8db1-52d52e94f768",
   "metadata": {},
   "outputs": [],
   "source": []
  },
  {
   "cell_type": "code",
   "execution_count": null,
   "id": "f84e2aef-64f6-47d0-aeaa-85739b9401ac",
   "metadata": {},
   "outputs": [],
   "source": []
  },
  {
   "cell_type": "code",
   "execution_count": null,
   "id": "310a12a2-de24-44a1-a226-c6ee303070ba",
   "metadata": {},
   "outputs": [],
   "source": []
  },
  {
   "cell_type": "code",
   "execution_count": null,
   "id": "a5c9445a-4eea-4a19-81a3-a9de7a2a2b9a",
   "metadata": {},
   "outputs": [],
   "source": []
  },
  {
   "cell_type": "code",
   "execution_count": null,
   "id": "6c440ec7-6a0f-4f78-8aa9-1b1f639b6044",
   "metadata": {},
   "outputs": [],
   "source": []
  },
  {
   "cell_type": "code",
   "execution_count": null,
   "id": "b9a88e6b-28d1-494a-b04b-2b3d841efdc2",
   "metadata": {},
   "outputs": [],
   "source": []
  },
  {
   "cell_type": "code",
   "execution_count": null,
   "id": "3761bdb7-2f24-4a05-8581-143dcb387be6",
   "metadata": {},
   "outputs": [],
   "source": []
  },
  {
   "cell_type": "code",
   "execution_count": null,
   "id": "50c1ae4a-a490-4ca7-bbe7-ea1ad6b87b1a",
   "metadata": {},
   "outputs": [],
   "source": []
  },
  {
   "cell_type": "code",
   "execution_count": null,
   "id": "0908befb-f801-4689-b2f0-6ecfa46ab2be",
   "metadata": {},
   "outputs": [],
   "source": []
  },
  {
   "cell_type": "code",
   "execution_count": null,
   "id": "7e3af763-596a-4104-a6df-59792cc33497",
   "metadata": {},
   "outputs": [],
   "source": []
  }
 ],
 "metadata": {
  "kernelspec": {
   "display_name": "Python 3 (ipykernel)",
   "language": "python",
   "name": "python3"
  },
  "language_info": {
   "codemirror_mode": {
    "name": "ipython",
    "version": 3
   },
   "file_extension": ".py",
   "mimetype": "text/x-python",
   "name": "python",
   "nbconvert_exporter": "python",
   "pygments_lexer": "ipython3",
   "version": "3.12.4"
  }
 },
 "nbformat": 4,
 "nbformat_minor": 5
}

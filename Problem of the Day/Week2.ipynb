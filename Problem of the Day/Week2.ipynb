{
  "nbformat": 4,
  "nbformat_minor": 0,
  "metadata": {
    "colab": {
      "provenance": [],
      "authorship_tag": "ABX9TyPCKravXChLE5QOs5kNLNvd",
      "include_colab_link": true
    },
    "kernelspec": {
      "name": "python3",
      "display_name": "Python 3"
    },
    "language_info": {
      "name": "python"
    }
  },
  "cells": [
    {
      "cell_type": "markdown",
      "metadata": {
        "id": "view-in-github",
        "colab_type": "text"
      },
      "source": [
        "<a href=\"https://colab.research.google.com/github/hibatullah24/Code-Acadme/blob/main/Problem%20of%20the%20day.ipynb\" target=\"_parent\"><img src=\"https://colab.research.google.com/assets/colab-badge.svg\" alt=\"Open In Colab\"/></a>"
      ]
    },
    {
      "cell_type": "code",
      "execution_count": 2,
      "metadata": {
        "colab": {
          "base_uri": "https://localhost:8080/"
        },
        "id": "1zNee_DU3AQl",
        "outputId": "4ae5feb3-2b34-4ba8-e8b3-0cc4ac86f5f2"
      },
      "outputs": [
        {
          "output_type": "stream",
          "name": "stdout",
          "text": [
            "matrix1: 2\n",
            "matrix2: 15\n"
          ]
        }
      ],
      "source": [
        "def DF(matrix):\n",
        "  return abs(sum(row[i]-row[-i-1]for i, row in enumerate(matrix)))\n",
        "\n",
        "matrix1 = [\n",
        "    [2, 3, 4],\n",
        "    [4, 5, 6],\n",
        "    [9, 8, 9]\n",
        "]\n",
        "\n",
        "matrix2 = [[11, 2, 4],\n",
        "           [4, 5, 6],\n",
        "           [10, 8, -12]]\n",
        "\n",
        "print(\"matrix1:\", DF(matrix1))\n",
        "print(\"matrix2:\", DF(matrix2))"
      ]
    }
  ]
}

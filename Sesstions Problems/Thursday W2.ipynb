{
 "cells": [
  {
   "cell_type": "code",
   "execution_count": 1,
   "id": "1fd74cef-3773-4812-a861-061963601b36",
   "metadata": {},
   "outputs": [
    {
     "name": "stdout",
     "output_type": "stream",
     "text": [
      "Hello World!!!\n"
     ]
    }
   ],
   "source": [
    "with open(\"Text.txt\", \"r\") as file:\n",
    "    content = file.read()\n",
    "\n",
    "print(content)\n"
   ]
  },
  {
   "cell_type": "code",
   "execution_count": 7,
   "id": "636d6dde-ef7d-4a3b-9bca-15de13c893d9",
   "metadata": {},
   "outputs": [
    {
     "name": "stdout",
     "output_type": "stream",
     "text": [
      "30\n"
     ]
    }
   ],
   "source": [
    "with open(\"Text.txt\", \"w\") as file:\n",
    "    content = file.write(\"Hello, this is a test message!\")\n",
    "\n",
    "print(content)  "
   ]
  },
  {
   "cell_type": "code",
   "execution_count": 8,
   "id": "da275885-f00d-44da-8212-3d2897a7b937",
   "metadata": {},
   "outputs": [
    {
     "name": "stdout",
     "output_type": "stream",
     "text": [
      "Hello, this is a test message!\n"
     ]
    }
   ],
   "source": [
    "with open(\"Text.txt\", \"r\") as file:\n",
    "    content = file.read()\n",
    "\n",
    "print(content)\n"
   ]
  },
  {
   "cell_type": "code",
   "execution_count": 10,
   "id": "d3b21d49-b2e5-4f52-b833-42d99d582052",
   "metadata": {},
   "outputs": [
    {
     "name": "stdout",
     "output_type": "stream",
     "text": [
      "Hello, this is a test message!\n",
      "Hello World!!!\n",
      "My name is\n"
     ]
    }
   ],
   "source": [
    "\n",
    "infile = open(\"Text.txt\", \"r\")\n",
    "\n",
    "line = infile.readline()\n",
    "\n",
    "while line != \"\":\n",
    "    print(line.strip()) \n",
    "    line = infile.readline()\n",
    "\n",
    "\n",
    "infile.close()\n"
   ]
  },
  {
   "cell_type": "code",
   "execution_count": 12,
   "id": "17f87963-587d-433b-8bc7-011e1cb6bc17",
   "metadata": {},
   "outputs": [],
   "source": [
    "infile = open(\"Text.txt\", \"r\")\n",
    "\n",
    "line = \"\"\n",
    "\n",
    "while line != \"\":\n",
    "    print(line.strip()) \n",
    "    line = infile.readline()\n",
    "\n",
    "\n",
    "infile.close()"
   ]
  },
  {
   "cell_type": "code",
   "execution_count": 5,
   "id": "498fd3f0-4050-4fee-b50a-c6e817851f03",
   "metadata": {},
   "outputs": [
    {
     "name": "stdout",
     "output_type": "stream",
     "text": [
      "12.0\n",
      "32.0\n",
      "3222.0\n"
     ]
    }
   ],
   "source": [
    "infile = open(\"num.txt\", \"r\")\n",
    "\n",
    "line = infile.readline()\n",
    "\n",
    "while line != \"\":\n",
    "    value = float(line)\n",
    "    print(value)\n",
    "    line = infile.readline()\n",
    "\n",
    "infile.close()\n"
   ]
  },
  {
   "cell_type": "code",
   "execution_count": 18,
   "id": "d1248e99-bbf6-4585-80bc-f2083fc1e53b",
   "metadata": {},
   "outputs": [
    {
     "name": "stdout",
     "output_type": "stream",
     "text": [
      "<_io.TextIOWrapper name='Text.txt' mode='w' encoding='cp1252'>\n"
     ]
    }
   ],
   "source": [
    "outfile = open(\"Text.txt\", \"w\")\n",
    "\n",
    "outfile.write(\"Hello world!\\n\")\n",
    "print(outfile)\n",
    "\n",
    "outfile.close()"
   ]
  },
  {
   "cell_type": "code",
   "execution_count": 19,
   "id": "31d1233b-d3b6-4bd1-9e23-bb82b129308f",
   "metadata": {},
   "outputs": [],
   "source": [
    "outfile = open(\"Text.txt\", \"w\")\n",
    "print(\"\\nThis is the second week\", file = outfile)"
   ]
  },
  {
   "cell_type": "code",
   "execution_count": 26,
   "id": "75975f3f-c161-4a28-83b2-d8d0b57fb930",
   "metadata": {},
   "outputs": [
    {
     "name": "stdout",
     "output_type": "stream",
     "text": [
      "32.00\n",
      "54.00\n",
      "67.50\n",
      "80.25\n",
      "115.00\n"
     ]
    }
   ],
   "source": [
    "with open(\"input.txt\", \"r\") as file:\n",
    "    content = file.read()\n",
    "\n",
    "print(content)\n"
   ]
  },
  {
   "cell_type": "code",
   "execution_count": 27,
   "id": "c2c81869-83fb-46af-8141-eb773f09f2bf",
   "metadata": {},
   "outputs": [
    {
     "name": "stdout",
     "output_type": "stream",
     "text": [
      "32.00\n",
      "54.00\n",
      "67.50\n",
      "80.25\n",
      "115.00\n",
      "\n",
      "\n"
     ]
    }
   ],
   "source": [
    "with open(\"output.txt\", \"r\") as file:\n",
    "    content = file.read()\n",
    "\n",
    "print(content)\n"
   ]
  },
  {
   "cell_type": "code",
   "execution_count": 28,
   "id": "a18f1a73-d954-4c77-bef6-5b5e3861cdc9",
   "metadata": {},
   "outputs": [
    {
     "ename": "ValueError",
     "evalue": "could not convert string to float: '\\n'",
     "output_type": "error",
     "traceback": [
      "\u001b[1;31m---------------------------------------------------------------------------\u001b[0m",
      "\u001b[1;31mValueError\u001b[0m                                Traceback (most recent call last)",
      "Cell \u001b[1;32mIn[28], line 2\u001b[0m\n\u001b[0;32m      1\u001b[0m \u001b[38;5;28;01mwith\u001b[39;00m \u001b[38;5;28mopen\u001b[39m(\u001b[38;5;124m\"\u001b[39m\u001b[38;5;124moutput.txt\u001b[39m\u001b[38;5;124m\"\u001b[39m, \u001b[38;5;124m\"\u001b[39m\u001b[38;5;124mr\u001b[39m\u001b[38;5;124m\"\u001b[39m) \u001b[38;5;28;01mas\u001b[39;00m infile:\n\u001b[1;32m----> 2\u001b[0m     numbers \u001b[38;5;241m=\u001b[39m [\u001b[38;5;28mfloat\u001b[39m(line) \u001b[38;5;28;01mfor\u001b[39;00m line \u001b[38;5;129;01min\u001b[39;00m infile]\n",
      "\u001b[1;31mValueError\u001b[0m: could not convert string to float: '\\n'"
     ]
    }
   ],
   "source": [
    "with open(\"output.txt\", \"r\") as infile:\n",
    "    numbers = [float(line) for line in infile]\n",
    "\n",
    "\n",
    "    \n",
    "\n"
   ]
  }
 ],
 "metadata": {
  "kernelspec": {
   "display_name": "Python 3 (ipykernel)",
   "language": "python",
   "name": "python3"
  },
  "language_info": {
   "codemirror_mode": {
    "name": "ipython",
    "version": 3
   },
   "file_extension": ".py",
   "mimetype": "text/x-python",
   "name": "python",
   "nbconvert_exporter": "python",
   "pygments_lexer": "ipython3",
   "version": "3.12.4"
  }
 },
 "nbformat": 4,
 "nbformat_minor": 5
}

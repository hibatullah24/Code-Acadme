{
  "nbformat": 4,
  "nbformat_minor": 0,
  "metadata": {
    "colab": {
      "provenance": []
    },
    "kernelspec": {
      "name": "python3",
      "display_name": "Python 3"
    },
    "language_info": {
      "name": "python"
    }
  },
  "cells": [
    {
      "cell_type": "code",
      "source": [
        "def binarySearch(array, target):\n",
        "    return binarySearchHelper(array, target, 0, len(array)-1);\n",
        "def binarySearchHelper(array, target, left, right):\n",
        "    if left > right:\n",
        "        return -1\n",
        "    middle = (left+right) // 2\n",
        "    potentialMatch = array[middle]\n",
        "    if target == potentialMatch:\n",
        "            return middle\n",
        "    elif target < potentialMatch:\n",
        "        return binarySearchHelper(array, target, left, middle - 1)\n",
        "    else:\n",
        "        return binarySearchHelper(array, target, middle + 1, right)"
      ],
      "metadata": {
        "id": "FLgvsoq1gWfY"
      },
      "execution_count": 6,
      "outputs": []
    },
    {
      "cell_type": "code",
      "source": [
        "numbers = [2, 5, 8, 12, 16, 23, 38, 45, 56, 72, 91]\n",
        "target = 23\n",
        "\n",
        "result = binarySearch(numbers, target)\n",
        "\n",
        "if result != -1:\n",
        "    print(f\"Found {target} at index {result}\")\n",
        "else:\n",
        "    print(f\"{target} not found in the list\")"
      ],
      "metadata": {
        "colab": {
          "base_uri": "https://localhost:8080/"
        },
        "id": "lS9wtMefgdTd",
        "outputId": "ccf3b13d-aa22-48b6-e04c-695e92ee4bd2"
      },
      "execution_count": 8,
      "outputs": [
        {
          "output_type": "stream",
          "name": "stdout",
          "text": [
            "Found 23 at index 5\n"
          ]
        }
      ]
    },
    {
      "cell_type": "markdown",
      "source": [
        "The binary search algorithm is a fast method to find a specific value in a sorted list by repeatedly dividing the search range in half. It begins by comparing the target value to the middle element of the list. If the target matches the middle value, its index is returned. If the target is smaller, the search continues in the left half; if larger, it continues in the right half. This process repeats until the target is found or the search range becomes invalid (i.e., the left index is greater than the right), in which case the algorithm returns -1 to indicate the target is not in the list. This version uses recursion to keep calling itself on smaller sections of the list, making it efficient with a time complexity of O(log n)."
      ],
      "metadata": {
        "id": "OuP5S0jfgAOK"
      }
    }
  ]
}
{
 "cells": [
  {
   "cell_type": "code",
   "execution_count": 8,
   "id": "eea56cac-d823-46fc-b0f3-204a02de47cf",
   "metadata": {},
   "outputs": [
    {
     "name": "stdout",
     "output_type": "stream",
     "text": [
      "Preview store1:\n",
      "          ProductName  Qty  Unit_Price    SaleDate CurrencyType  \\\n",
      "0         Smith Paper  3.0        10.5   7/13/2024          OMR   \n",
      "1      Johnson Screen  NaN         NaN   2/23/2025          Usd   \n",
      "2  Roberts Ingredient  3.0        30.0  11/13/2024          USD   \n",
      "3       White Monitor  NaN        10.5   4/16/2025          USD   \n",
      "4  Rodriguez Keyboard  2.0        20.0    8/3/2024          usd   \n",
      "\n",
      "                             CustomerID  StoreID  \n",
      "0  9ca482a2-0356-49c1-b5e3-88ae98d1cc2f  Store_A  \n",
      "1  c0b9df4e-8f03-4bf0-a31b-0a7d7c2a8907  Store_A  \n",
      "2  97dc18e3-2c12-4e26-9863-32514e82e822  Store_A  \n",
      "3  e4d09733-d496-47b3-a4b5-04de84d8fd06  Store_A  \n",
      "4  435ecb46-4545-4af7-b72c-119f64d193a5  Store_A  \n",
      "Preview store2:\n",
      "      ProductName  Qty  Unit_Price    SaleDate CurrencyType  \\\n",
      "0     Smith Paper  NaN       15.75   1/21/2025          USD   \n",
      "1  Johnson Mirror  1.0       15.75  10/14/2024          OMR   \n",
      "2     Roberts Pen  2.0       30.00   4/16/2025          usd   \n",
      "3   White Monitor  NaN       15.75    1/9/2025          NaN   \n",
      "4    Torres Table  2.0       30.00   8/11/2024          usd   \n",
      "\n",
      "                             CustomerID  StoreID  \n",
      "0  e7ca4c9c-f50c-47b7-bfa8-9099481cda82  store-A  \n",
      "1  fa0921c6-b10f-4a8a-bb80-2c6db42851f8  store-A  \n",
      "2  ff1f1a3e-4889-46d4-824e-d92e4c51cf45  store-A  \n",
      "3  953b7f1c-47e2-4d65-92c1-871feb259325  store-A  \n",
      "4  276d23d2-aa88-4056-9480-acc4c7d6a499  store-A  \n",
      "Preview store3:\n",
      "      ProductName  Qty  Unit_Price    SaleDate CurrencyType  \\\n",
      "0  Johnson Mirror  3.0         NaN  10/15/2024          usd   \n",
      "1     Roberts Pen  NaN        20.0   3/12/2025          USD   \n",
      "2   White Monitor  NaN        10.5   11/9/2024          Usd   \n",
      "3     Moore Chair  NaN        20.0   6/16/2024          NaN   \n",
      "4   Jackson Cable  1.0         NaN   8/11/2024          USD   \n",
      "\n",
      "                             CustomerID  StoreID  \n",
      "0  ad3c23ab-269f-4fea-a92b-f23ca9dd8e8a  STORE_A  \n",
      "1  e776bdfe-2cdb-4c49-96d3-63de01dca328  STORE_A  \n",
      "2  f71b163e-d97f-4bdd-93eb-b5ec9e1d6e80  STORE_A  \n",
      "3  b710729e-34f6-4bba-92a3-e8dd840524b5  STORE_A  \n",
      "4  1f3219ac-02a6-455b-af6a-87711e6653d1  STORE_A  \n"
     ]
    }
   ],
   "source": [
    "import pandas as pd\n",
    "import os\n",
    "\n",
    "folder_path = r\"C:\\Users\\USER PC\\CA\\csv_f\"\n",
    "\n",
    "df_store1 = pd.read_csv(os.path.join(folder_path, 'store_sales_1.csv'))\n",
    "df_store2 = pd.read_csv(os.path.join(folder_path, 'store_sales_2.csv'))\n",
    "df_store3 = pd.read_csv(os.path.join(folder_path, 'store_sales_3.csv'))\n",
    "\n",
    "print(\"Preview store1:\")\n",
    "print(df_store1.head())\n",
    "\n",
    "print(\"Preview store2:\")\n",
    "print(df_store2.head())\n",
    "\n",
    "print(\"Preview store3:\")\n",
    "print(df_store3.head())"
   ]
  },
  {
   "cell_type": "code",
   "execution_count": 9,
   "id": "7d32dd1b-457f-47ac-90cb-9eb69afd04d1",
   "metadata": {},
   "outputs": [
    {
     "name": "stdout",
     "output_type": "stream",
     "text": [
      "Combined DataFrame preview:\n",
      "          ProductName  Qty  Unit_Price    SaleDate CurrencyType  \\\n",
      "0         Smith Paper  3.0        10.5   7/13/2024          OMR   \n",
      "1      Johnson Screen  NaN         NaN   2/23/2025          Usd   \n",
      "2  Roberts Ingredient  3.0        30.0  11/13/2024          USD   \n",
      "3       White Monitor  NaN        10.5   4/16/2025          USD   \n",
      "4  Rodriguez Keyboard  2.0        20.0    8/3/2024          usd   \n",
      "\n",
      "                             CustomerID  StoreID  \n",
      "0  9ca482a2-0356-49c1-b5e3-88ae98d1cc2f  Store_A  \n",
      "1  c0b9df4e-8f03-4bf0-a31b-0a7d7c2a8907  Store_A  \n",
      "2  97dc18e3-2c12-4e26-9863-32514e82e822  Store_A  \n",
      "3  e4d09733-d496-47b3-a4b5-04de84d8fd06  Store_A  \n",
      "4  435ecb46-4545-4af7-b72c-119f64d193a5  Store_A  \n"
     ]
    },
    {
     "data": {
      "text/plain": [
       "Index(['ProductName', 'Qty', 'Unit_Price', 'SaleDate', 'CurrencyType',\n",
       "       'CustomerID', 'StoreID'],\n",
       "      dtype='object')"
      ]
     },
     "execution_count": 9,
     "metadata": {},
     "output_type": "execute_result"
    }
   ],
   "source": [
    "df_all = pd.concat([df_store1, df_store2, df_store3], ignore_index=True)\n",
    "print(\"Combined DataFrame preview:\")\n",
    "print(df_all.head())\n",
    "df_all.columns"
   ]
  },
  {
   "cell_type": "code",
   "execution_count": 10,
   "id": "438c1117-dcaf-4315-b0bd-5ab90fe97f74",
   "metadata": {},
   "outputs": [
    {
     "name": "stdout",
     "output_type": "stream",
     "text": [
      "          ProductName  Qty  Unit_Price    SaleDate CurrencyType  \\\n",
      "0         Smith Paper  3.0        10.5   7/13/2024          OMR   \n",
      "1      Johnson Screen  0.0         0.0   2/23/2025          Usd   \n",
      "2  Roberts Ingredient  3.0        30.0  11/13/2024          USD   \n",
      "3       White Monitor  0.0        10.5   4/16/2025          USD   \n",
      "4  Rodriguez Keyboard  2.0        20.0    8/3/2024          usd   \n",
      "\n",
      "                             CustomerID  StoreID  \n",
      "0  9ca482a2-0356-49c1-b5e3-88ae98d1cc2f  Store_A  \n",
      "1  c0b9df4e-8f03-4bf0-a31b-0a7d7c2a8907  Store_A  \n",
      "2  97dc18e3-2c12-4e26-9863-32514e82e822  Store_A  \n",
      "3  e4d09733-d496-47b3-a4b5-04de84d8fd06  Store_A  \n",
      "4  435ecb46-4545-4af7-b72c-119f64d193a5  Store_A  \n"
     ]
    }
   ],
   "source": [
    "#filling missing value:\n",
    "df_all['Qty'] = df_all['Qty'].fillna(0)\n",
    "df_all['Unit_Price'] = df_all['Unit_Price'].fillna(0.0)\n",
    "df_all['CustomerID'] = df_all['CustomerID'].fillna('Unkown')\n",
    "\n",
    "print(df_all.head())"
   ]
  },
  {
   "cell_type": "code",
   "execution_count": 11,
   "id": "8c2ea73f-2393-4231-a835-5a1ca8c21a8d",
   "metadata": {},
   "outputs": [
    {
     "name": "stdout",
     "output_type": "stream",
     "text": [
      "<class 'pandas.core.frame.DataFrame'>\n",
      "RangeIndex: 300 entries, 0 to 299\n",
      "Data columns (total 7 columns):\n",
      " #   Column        Non-Null Count  Dtype         \n",
      "---  ------        --------------  -----         \n",
      " 0   ProductName   300 non-null    object        \n",
      " 1   Qty           300 non-null    int32         \n",
      " 2   Unit_Price    300 non-null    float64       \n",
      " 3   SaleDate      300 non-null    datetime64[ns]\n",
      " 4   CurrencyType  246 non-null    object        \n",
      " 5   CustomerID    300 non-null    object        \n",
      " 6   StoreID       300 non-null    object        \n",
      "dtypes: datetime64[ns](1), float64(1), int32(1), object(4)\n",
      "memory usage: 15.4+ KB\n"
     ]
    }
   ],
   "source": [
    "#converte data:\n",
    "df_all['Qty'] = df_all['Qty'].astype(int)\n",
    "df_all['Unit_Price'] = df_all['Unit_Price'].astype(float)\n",
    "df_all['SaleDate'] = pd.to_datetime(df_all ['SaleDate'], errors='coerce')\n",
    "df_all['SaleDate'] = df_all['SaleDate'].fillna(pd.Timestamp('2000-01-01'))\n",
    "\n",
    "df_all.info()"
   ]
  },
  {
   "cell_type": "code",
   "execution_count": 12,
   "id": "a37da5ab-d522-49b9-bb68-784b061e6786",
   "metadata": {},
   "outputs": [
    {
     "name": "stdout",
     "output_type": "stream",
     "text": [
      "          ProductName  Qty  Unit_Price   SaleDate CurrencyType  \\\n",
      "0         Smith Paper    3        10.5 2024-07-13          OMR   \n",
      "1      Johnson Screen    0         0.0 2025-02-23          Usd   \n",
      "2  Roberts Ingredient    3        30.0 2024-11-13          USD   \n",
      "3       White Monitor    0        10.5 2025-04-16          USD   \n",
      "4  Rodriguez Keyboard    2        20.0 2024-08-03          usd   \n",
      "\n",
      "                             CustomerID  StoreID  Total_price  \n",
      "0  9ca482a2-0356-49c1-b5e3-88ae98d1cc2f  Store_A         31.5  \n",
      "1  c0b9df4e-8f03-4bf0-a31b-0a7d7c2a8907  Store_A          0.0  \n",
      "2  97dc18e3-2c12-4e26-9863-32514e82e822  Store_A         90.0  \n",
      "3  e4d09733-d496-47b3-a4b5-04de84d8fd06  Store_A          0.0  \n",
      "4  435ecb46-4545-4af7-b72c-119f64d193a5  Store_A         40.0  \n"
     ]
    }
   ],
   "source": [
    "#create new column\n",
    "df_all['Total_price'] = df_all['Qty'] * df_all['Unit_Price'] \n",
    "print(df_all.head())"
   ]
  },
  {
   "cell_type": "code",
   "execution_count": 13,
   "id": "38df50f6-0a57-4fca-8aea-e2cabe0abf2c",
   "metadata": {},
   "outputs": [
    {
     "name": "stdout",
     "output_type": "stream",
     "text": [
      "          ProductName  Qty  Unit_Price   SaleDate CurrencyType  \\\n",
      "0         Smith Paper    3        10.5 2024-07-13          omr   \n",
      "1      Johnson Screen    0         0.0 2025-02-23          OMR   \n",
      "2  Roberts Ingredient    3        30.0 2024-11-13          OMR   \n",
      "3       White Monitor    0        10.5 2025-04-16          OMR   \n",
      "4  Rodriguez Keyboard    2        20.0 2024-08-03          OMR   \n",
      "\n",
      "                             CustomerID  StoreID  Total_price  \n",
      "0  9ca482a2-0356-49c1-b5e3-88ae98d1cc2f  Store_A        31.50  \n",
      "1  c0b9df4e-8f03-4bf0-a31b-0a7d7c2a8907  Store_A         0.00  \n",
      "2  97dc18e3-2c12-4e26-9863-32514e82e822  Store_A        34.65  \n",
      "3  e4d09733-d496-47b3-a4b5-04de84d8fd06  Store_A         0.00  \n",
      "4  435ecb46-4545-4af7-b72c-119f64d193a5  Store_A        15.40  \n"
     ]
    }
   ],
   "source": [
    "conv_rate = 0.385\n",
    "\n",
    "df_all['CurrencyType'] = df_all['CurrencyType'].str.lower()\n",
    "usd_mask = df_all['CurrencyType'] == 'usd'\n",
    "df_all.loc[usd_mask, 'Total_price'] = df_all.loc[usd_mask, 'Total_price'] * conv_rate\n",
    "df_all.loc[usd_mask, 'CurrencyType'] = 'OMR'\n",
    "\n",
    "print(df_all.head())"
   ]
  },
  {
   "cell_type": "code",
   "execution_count": 14,
   "id": "ba67f869-d02e-496f-95c6-e82414c0166b",
   "metadata": {},
   "outputs": [
    {
     "name": "stdout",
     "output_type": "stream",
     "text": [
      "          ProductName  Qty  Unit_Price   SaleDate CurrencyType  \\\n",
      "0         Smith Paper    3        10.5 2024-07-13          OMR   \n",
      "1      Johnson Screen    0         0.0 2025-02-23          OMR   \n",
      "2  Roberts Ingredient    3        30.0 2024-11-13          OMR   \n",
      "3       White Monitor    0        10.5 2025-04-16          OMR   \n",
      "4  Rodriguez Keyboard    2        20.0 2024-08-03          OMR   \n",
      "\n",
      "                             CustomerID  StoreID  Total_price  \n",
      "0  9CA482A2-0356-49C1-B5E3-88AE98D1CC2F  STORE_A        31.50  \n",
      "1  C0B9DF4E-8F03-4BF0-A31B-0A7D7C2A8907  STORE_A         0.00  \n",
      "2  97DC18E3-2C12-4E26-9863-32514E82E822  STORE_A        34.65  \n",
      "3  E4D09733-D496-47B3-A4B5-04DE84D8FD06  STORE_A         0.00  \n",
      "4  435ECB46-4545-4AF7-B72C-119F64D193A5  STORE_A        15.40  \n"
     ]
    }
   ],
   "source": [
    "df_all['CustomerID'] = df_all['CustomerID'].astype(str).str.strip().str.upper()\n",
    "df_all['ProductName'] = df_all['ProductName'].astype(str).str.strip().str.title()\n",
    "df_all['StoreID'] = df_all['StoreID'].astype(str).str.strip().str.upper()\n",
    "df_all['CurrencyType'] = df_all['CurrencyType'].astype(str).str.strip().str.upper()\n",
    "print(df_all.head())"
   ]
  },
  {
   "cell_type": "code",
   "execution_count": 15,
   "id": "134d621a-3ee9-4440-b7c3-c9d6a2f4a55d",
   "metadata": {},
   "outputs": [],
   "source": [
    "# Convert SaleDate column to string format compatible with MySQL\n",
    "df_all['SaleDate'] = df_all['SaleDate'].dt.strftime('%Y-%m-%d %H:%M:%S')\n",
    "\n",
    "# Now create tuples for insert\n",
    "data_tuples = list(df_all[['Qty', 'Unit_Price', 'CustomerID', 'SaleDate', 'Total_price', 'CurrencyType']]\n",
    "                   .itertuples(index=False, name=None))\n"
   ]
  },
  {
   "cell_type": "code",
   "execution_count": 16,
   "id": "ee23f430-5c69-4e06-b89c-a5da086e18a6",
   "metadata": {},
   "outputs": [
    {
     "name": "stdout",
     "output_type": "stream",
     "text": [
      "Defaulting to user installation because normal site-packages is not writeable\n",
      "Requirement already satisfied: pymysql in c:\\users\\user pc\\appdata\\roaming\\python\\python312\\site-packages (1.1.1)\n",
      "Note: you may need to restart the kernel to use updated packages.\n"
     ]
    }
   ],
   "source": [
    "\n",
    "pip install pymysql\n"
   ]
  },
  {
   "cell_type": "code",
   "execution_count": 17,
   "id": "493ed469-058a-45f2-8e4b-aa63011b0c16",
   "metadata": {},
   "outputs": [
    {
     "name": "stdout",
     "output_type": "stream",
     "text": [
      "20\n",
      "['0104EC48-84A4-4638-9' '0403D558-166D-4616-9' '0437BAB5-0DAE-422E-9'\n",
      " '045081FA-0DF3-4904-8' '051E499E-F4D0-4A1E-A' '0534E616-CBD9-4EBA-8'\n",
      " '05D39B68-833C-45D0-9' '05D75424-135A-40EA-9' '07991BE5-0500-4BDC-9'\n",
      " '0822D2D7-9454-4AA3-9' '089F6DD7-F901-4521-A' '0957271B-9145-4838-A'\n",
      " '0B4A7550-CB81-475B-B' '0BBB7256-0AD2-4B07-A' '0BFFB839-D519-494D-8'\n",
      " '0DADB5F8-E924-45A5-8' '0E57E6C8-D5C5-43FA-9' '0EAD620F-7C7D-4908-B'\n",
      " '0EC24F4E-0F17-4C4C-8' '103BC58D-7DF8-47AE-9' '104D0C3E-CCFC-43A7-B'\n",
      " '10C8ED7E-BBA0-4F05-9' '10F25BBA-5C31-4C70-B' '11444EF2-A6C9-42E9-8'\n",
      " '124EA517-D2C8-4CE0-8' '134FD311-9094-4AEF-9' '13C53F9F-0F5F-492C-8'\n",
      " '14CD77F7-8505-47DF-A' '15C37DCB-1C11-4482-B' '15FDA73E-7B88-4AD7-8'\n",
      " '174CB239-FA9B-49FC-8' '186C1F4D-5F57-49C0-9' '1889CA5A-60C6-4DA8-8'\n",
      " '1A26ED92-27BD-4BE2-8' '1A52951E-AF95-4353-A' '1B35B6D8-800E-4972-8'\n",
      " '1B626CAD-36B0-4CD8-A' '1B96902D-270F-44AD-8' '1CC1E21A-C2E5-4616-A'\n",
      " '1E871EF8-CDF7-4F1B-8' '1F3219AC-02A6-455B-A' '1F696C4E-14D1-40B4-A'\n",
      " '22974C53-2595-473F-B' '232D1545-43B1-477B-A' '2398F009-A88E-4AF1-B'\n",
      " '23EEF71C-2019-4005-B' '2520F9ED-572A-45A1-9' '259051FC-5E0B-49ED-B'\n",
      " '25DEBB26-0EF4-4C61-A' '267F6422-E359-4BB5-9' '27055332-A7E4-4ED9-A'\n",
      " '2763A02B-2940-4497-9' '276D23D2-AA88-4056-9' '27F9E498-F3D9-4C22-A'\n",
      " '28DB4B77-BF17-4D5E-8' '2A5E6434-A903-4944-A' '2AC529AA-C34D-4DCD-9'\n",
      " '2B06B9CF-BFD9-4A6B-8' '2D98DAEF-5CD8-44E7-A' '32B91CD3-6311-4BF8-9'\n",
      " '335688A6-B5D5-43C2-9' '34367237-9710-472D-9' '360FE30B-679E-47B9-B'\n",
      " '36D9AAF8-EF33-4A3E-8' '3739BAB7-1700-4841-A' '3B847E21-2766-4906-B'\n",
      " '3CA4E50E-0B3C-4093-9' '3CBF55C8-E008-4A02-9' '3E6AD095-88F3-4D04-8'\n",
      " '3EC28F56-6BB9-4553-B' '40FF5CA1-8AAC-4425-9' '422BD69C-04A6-44D4-A'\n",
      " '428EB1DA-66EF-49E5-A' '435ECB46-4545-4AF7-B' '43C38201-7183-4B79-8'\n",
      " '45E80C31-76D0-4FD0-B' '471F88E1-E40D-4308-A' '481E094B-2C28-48F0-8'\n",
      " '484CB4E5-C44B-4967-9' '4891ECE4-FA78-4615-A' '48A52F0D-8EDB-4A09-A'\n",
      " '48F8CA73-3C11-4D49-A' '4AAD0387-5B47-43F0-9' '4AFC9A88-1A93-4EC1-9'\n",
      " '4EC70C3A-B353-4EA7-B' '4F3CB6CF-B60E-49AA-B' '546EF9AD-FC0E-4F4E-A'\n",
      " '5550173A-DC5F-4FFC-9' '55EB5681-5DCA-4690-9' '56DB1F35-4912-4506-B'\n",
      " '57199F1F-09F2-42DA-8' '5967E79D-9931-4EA9-8' '5A63A128-3213-47C8-B'\n",
      " '5AA3340C-3207-4BE3-8' '5AE26050-8EF0-4A6A-B' '5BBC6D30-0977-478F-B'\n",
      " '5CE3E057-5846-41B1-9' '620D689C-ECFC-470D-9' '657AE642-E290-46FB-A'\n",
      " '66784559-57F6-4506-A' '67AC2BB7-F822-49EF-B' '691DF20B-7BB8-4A7B-8'\n",
      " '699DA3F7-D7CF-448C-A' '69DED101-847C-488C-9' '6CEC3841-9A48-4BAA-8'\n",
      " '6D1E722B-F021-40D1-B' '6D6BF428-C920-4E22-8' '6DA0CA26-E56E-41E1-8'\n",
      " '6ED6E2B1-3A9C-42C4-A' '70A05A3B-F927-4429-8' '7104BF3B-FFEB-4FCA-B'\n",
      " '722CE28C-E0EF-47F2-A' '72A815BF-D3E6-444A-8' '7483887B-54A5-4722-A'\n",
      " '74B4076B-51E3-4EE8-A' '74CFF845-5F2B-400A-B' '75BA74DD-7ADA-4F1D-9'\n",
      " '75D8418D-CFED-4264-8' '77048FFD-C5A7-47F9-8' '77A1B5DA-D82A-4FC6-9'\n",
      " '7841D94F-AE84-4401-9' '78C4328D-F82B-4402-B' '7A2E9E34-B07F-4EF0-B'\n",
      " '7B1E02C1-ECF9-404F-9' '7C680274-3C15-495C-B' '7CA80B40-9F31-4C1F-A'\n",
      " '7F18DF12-A14A-45A4-8' '81D45348-605D-48CF-9' '82436CAC-C3DF-4C41-8'\n",
      " '8263D1E9-1CD2-4843-B' '829AA7F3-773D-4131-9' '82C0BACF-B86F-47EE-A'\n",
      " '838C2400-ADF0-47BB-9' '83DE3A26-0F09-4821-9' '85746DF4-64AD-49AC-8'\n",
      " '862C2AC0-E5D1-4079-A' '86C2D109-C411-48D9-8' '86F1D0E1-F0EC-4632-8'\n",
      " '87AD2648-EE78-498B-9' '88391E29-DD77-41AC-A' '88E499A8-56DA-4A23-8'\n",
      " '89A7E081-4883-437A-9' '89E1228A-DA9A-4B60-9' '8A92685F-22DE-4BDE-8'\n",
      " '8C48B22A-26B3-4DBA-A' '8E0E97D9-775F-46F9-8' '8FD37B5C-55CD-4D3F-9'\n",
      " '90BEF402-FF6A-4CF7-8' '90E743F7-167E-4B98-A' '90FBE81F-EC15-4681-9'\n",
      " '918D3B6C-C8BC-4BB9-9' '952DA22B-E04F-46F1-9' '953B7F1C-47E2-4D65-9'\n",
      " '96680CDC-056F-482A-9' '97DC18E3-2C12-4E26-9' '9A233A40-5E4B-4F26-9'\n",
      " '9C6E0AB1-C9B0-4029-B' '9CA482A2-0356-49C1-B' '9CFD6ADC-0B2E-4D93-A'\n",
      " '9D384907-7E3E-46CC-B' '9D45B8B4-C5AD-4768-9' '9ED6AF05-1054-4980-B'\n",
      " '9F543615-50FE-499D-8' 'A00E812D-05BD-451A-9' 'A0274F4A-6E47-4DAD-A'\n",
      " 'A3FE1E2A-901E-425B-9' 'A5613DB9-80B4-4979-9' 'A6B5132D-2026-4400-8'\n",
      " 'A82EF1A5-152C-4434-9' 'A862A8AA-5555-4722-B' 'A926290E-5DE9-4203-8'\n",
      " 'A9F573C0-99A2-48C1-9' 'AA397CC2-9832-440F-B' 'AB09CD09-6822-4E5A-9'\n",
      " 'AB320DB6-C693-4D4F-9' 'AC833294-A70A-492B-8' 'ACE52FD8-98BA-42A9-9'\n",
      " 'AD3C23AB-269F-4FEA-A' 'AEC0747C-325F-4C00-A' 'B0552606-1FE5-420F-A'\n",
      " 'B084E1D3-C4A1-452C-B' 'B1472070-43CF-4430-9' 'B2EB7229-40CA-4A32-B'\n",
      " 'B43B7533-7EF7-42B1-B' 'B566917E-8A4A-4066-A' 'B5F4C6C3-2C44-4952-A'\n",
      " 'B641CDC2-5BF6-464E-A' 'B710729E-34F6-4BBA-9' 'B92C4EEF-340C-48FB-A'\n",
      " 'BB7CF4C5-5837-4849-A' 'BBDA2E5E-1979-4EE4-A' 'BD30A5B1-1830-436D-8'\n",
      " 'BE21D8AE-74B7-4F63-8' 'BEBE56D5-B87D-421D-A' 'BFAA9172-189E-41EF-8'\n",
      " 'C0B9DF4E-8F03-4BF0-A' 'C0F70ED4-BD8E-4A8F-A' 'C26F8410-B37E-4D7C-B'\n",
      " 'C39E256B-4BA8-4790-9' 'C3A69B36-F48B-4FCF-8' 'C573B121-C976-47FF-9'\n",
      " 'C60710BC-5981-4DA9-8' 'C609DAA1-65A4-40BA-A' 'C6C7F26E-8CEC-4766-A'\n",
      " 'C7A97C12-67E2-408B-B' 'C873E149-75D7-49EC-A' 'C962F93B-225D-4DCD-8'\n",
      " 'C9C13482-E28D-4D33-8' 'CA1FA71A-CB7A-49D0-8' 'CA380DEB-5AEB-4390-8'\n",
      " 'CAB63FB9-7467-41B3-8' 'CAC5B139-F73F-4FC4-B' 'CC98356B-E110-40BF-9'\n",
      " 'CD017C4D-3953-46D2-B' 'CD09A97B-9CF0-43C7-9' 'CD0C15D3-031B-40F3-9'\n",
      " 'CE05D98C-C6F0-4F3C-B' 'CFAF440E-D9ED-444B-9' 'D0345A35-6C2B-4301-8'\n",
      " 'D0CA3892-B567-47E7-B' 'D201A8DA-C956-4FBB-8' 'D30D0F11-57D2-4A05-A'\n",
      " 'D30DD59B-5C3C-4991-B' 'D3415BBA-AC14-4A61-9' 'D51975F7-6F63-42AC-9'\n",
      " 'D767C17D-D02F-4E56-9' 'D8FD93DD-DA71-45D5-8' 'D9863483-2C2E-40FE-A'\n",
      " 'D9966648-3B63-487C-9' 'D9EAC4D1-730D-422D-9' 'DB9A761E-8833-4A9F-9'\n",
      " 'DC85E4B9-5A84-4D60-9' 'DC87E064-573B-468E-9' 'DE1309C3-53D9-44D3-9'\n",
      " 'DE635D4F-D67D-4D05-9' 'DEF3AE23-C730-46EC-9' 'DF0DCF93-D795-418C-8'\n",
      " 'E13DD68E-2328-4093-B' 'E4D09733-D496-47B3-A' 'E776BDFE-2CDB-4C49-9'\n",
      " 'E7CA4C9C-F50C-47B7-B' 'E81E447A-CD38-4FBE-9' 'E8A8CD70-5080-40C6-B'\n",
      " 'E904AD5E-4565-482D-8' 'E985BBB6-1A99-47C6-B' 'E9CC4E4B-6788-454B-8'\n",
      " 'EA851C9F-3C68-4DA5-B' 'EB819074-E431-4245-B' 'EC763343-23D2-4CDA-A'\n",
      " 'EE4817AC-7337-43CB-A' 'EEF3FAF3-5CBD-4965-B' 'F0E8F3BF-2375-4E01-9'\n",
      " 'F217EA88-9F4E-44AE-9' 'F22AD4CA-0EA8-44AC-A' 'F44E356E-8887-4A5D-A'\n",
      " 'F50D52B2-4450-42D5-B' 'F6E61F5D-F8EF-48B1-8' 'F71B163E-D97F-4BDD-9'\n",
      " 'F7A32F39-77CA-4B03-8' 'F8816EF9-749A-47E7-A' 'F8EFA0C5-E7CE-4DDF-9'\n",
      " 'FA0921C6-B10F-4A8A-B' 'FBF97E0A-DDA6-4F29-8' 'FD17A1F7-9CE7-4BC0-9'\n",
      " 'FE5A68BA-609E-456F-A' 'FE6E6F78-BDC3-4DEB-A' 'FEAEAE49-E208-4B0B-A'\n",
      " 'FF1F1A3E-4889-46D4-8' 'FF8159FE-B68A-4BD9-8' 'UNKOWN']\n"
     ]
    }
   ],
   "source": [
    "df_all['CustomerID'] = df_all['CustomerID'].astype(str).str[:20]\n",
    "\n",
    "print(df_all['CustomerID'].apply(len).max())  # shows the max length\n",
    "print(df_all['CustomerID'].sort_values().unique())\n",
    "\n"
   ]
  },
  {
   "cell_type": "code",
   "execution_count": 18,
   "id": "ff40d31c-d94b-4f1f-a35c-87f26f1648cf",
   "metadata": {},
   "outputs": [
    {
     "name": "stdout",
     "output_type": "stream",
     "text": [
      "✅ Stores loaded.\n",
      "✅ Products loaded.\n",
      "✅ Customers loaded.\n",
      "✅ 0 sales records inserted successfully.\n"
     ]
    }
   ],
   "source": [
    "import pandas as pd\n",
    "import os\n",
    "import mysql.connector\n",
    "\n",
    "# -------- CONFIG -------- #\n",
    "folder_path = r\"C:\\Users\\USER PC\\CA\\csv_f\"  # Your CSV folder path\n",
    "config = {\n",
    "    'host': 'localhost',\n",
    "    'user': 'root',\n",
    "    'password': 'root',\n",
    "    'database': 'SalesDB'\n",
    "}\n",
    "\n",
    "# -------- LOAD ALL CSVs INTO ONE DATAFRAME -------- #\n",
    "df_list = []\n",
    "for file in os.listdir(folder_path):\n",
    "    if file.endswith(\".csv\"):\n",
    "        df = pd.read_csv(os.path.join(folder_path, file))\n",
    "        df_list.append(df)\n",
    "df_all = pd.concat(df_list, ignore_index=True)\n",
    "\n",
    "# -------- STORE NAME MAPPING FUNCTION -------- #\n",
    "def map_store_name(store_id):\n",
    "    if store_id == \"Store_A\":\n",
    "        return \"store a\"\n",
    "    elif store_id == \"store-A\":\n",
    "        return \"store b\"\n",
    "    elif store_id == \"STORE_A\":\n",
    "        return \"store c\"\n",
    "    else:\n",
    "        return store_id.lower()  # or return None to skip unknown stores\n",
    "\n",
    "# Apply store name mapping\n",
    "df_all['StoreNameMapped'] = df_all['StoreID'].apply(map_store_name)\n",
    "\n",
    "# -------- DATABASE OPERATIONS -------- #\n",
    "conn = mysql.connector.connect(**config)\n",
    "cursor = conn.cursor()\n",
    "\n",
    "try:\n",
    "    # 1. INSERT UNIQUE STORES (with mapped names)\n",
    "    stores = pd.DataFrame(df_all['StoreNameMapped'].unique(), columns=['StoreName'])\n",
    "    for store in stores['StoreName']:\n",
    "        cursor.execute(\"INSERT IGNORE INTO Stores (StoreName) VALUES (%s)\", (store,))\n",
    "    conn.commit()\n",
    "    print(\"✅ Stores loaded.\")\n",
    "\n",
    "    # 2. INSERT UNIQUE PRODUCTS\n",
    "    products = pd.DataFrame(df_all['ProductName'].unique(), columns=['ProductName'])\n",
    "    for product in products['ProductName']:\n",
    "        cursor.execute(\"INSERT IGNORE INTO Products (ProductName) VALUES (%s)\", (product,))\n",
    "    conn.commit()\n",
    "    print(\"✅ Products loaded.\")\n",
    "\n",
    "    # 3. INSERT UNIQUE CUSTOMERS\n",
    "    customers = pd.DataFrame(df_all['CustomerID'].unique(), columns=['CustomerID'])\n",
    "    for cust in customers['CustomerID']:\n",
    "        if isinstance(cust, str) and len(cust) <= 20:\n",
    "            cursor.execute(\"INSERT IGNORE INTO Customers (CustomerID) VALUES (%s)\", (cust,))\n",
    "    conn.commit()\n",
    "    print(\"✅ Customers loaded.\")\n",
    "\n",
    "    # 4. GET FOREIGN KEY MAPPINGS\n",
    "    cursor.execute(\"SELECT StoreID, StoreName FROM Stores\")\n",
    "    store_map = {name: sid for sid, name in cursor.fetchall()}\n",
    "\n",
    "    cursor.execute(\"SELECT ProductID, ProductName FROM Products\")\n",
    "    product_map = {name: pid for pid, name in cursor.fetchall()}\n",
    "\n",
    "    # 5. INSERT INTO SALES TABLE\n",
    "    insert_sales_query = \"\"\"\n",
    "        INSERT IGNORE INTO Sales\n",
    "        (SaleDate, Qty, Unit_Price, Total_Price, ProductID, CustomerID, StoreID)\n",
    "        VALUES (%s, %s, %s, %s, %s, %s, %s)\n",
    "    \"\"\"\n",
    "\n",
    "    inserted = 0\n",
    "    for _, row in df_all.iterrows():\n",
    "        product_id = product_map.get(row['ProductName'])\n",
    "        store_id = store_map.get(row['StoreNameMapped'])\n",
    "        customer_id = row['CustomerID']\n",
    "\n",
    "        if product_id and store_id and isinstance(customer_id, str) and len(customer_id) <= 20:\n",
    "            try:\n",
    "                data = (\n",
    "                    row['SaleDate'],\n",
    "                    int(row['Qty']),\n",
    "                    float(row['Unit_Price']),\n",
    "                    float(row['Total_price']),\n",
    "                    product_id,\n",
    "                    customer_id,\n",
    "                    store_id\n",
    "                )\n",
    "                cursor.execute(insert_sales_query, data)\n",
    "                inserted += 1\n",
    "            except Exception as e:\n",
    "                print(\"⚠️ Skipped row due to error:\", e)\n",
    "    conn.commit()\n",
    "    print(f\"✅ {inserted} sales records inserted successfully.\")\n",
    "\n",
    "except Exception as e:\n",
    "    print(\"❌ Error:\", e)\n",
    "\n",
    "finally:\n",
    "    cursor.close()\n",
    "    conn.close()\n"
   ]
  },
  {
   "cell_type": "code",
   "execution_count": null,
   "id": "075d3bba-21a4-4480-b207-c2ba2304631a",
   "metadata": {},
   "outputs": [],
   "source": []
  },
  {
   "cell_type": "code",
   "execution_count": null,
   "id": "b5982520-505d-4187-8e37-d89700e12f80",
   "metadata": {},
   "outputs": [],
   "source": []
  },
  {
   "cell_type": "code",
   "execution_count": null,
   "id": "563cc22c-bfcb-43c5-ad89-2c8e8eb4c921",
   "metadata": {},
   "outputs": [],
   "source": []
  },
  {
   "cell_type": "code",
   "execution_count": null,
   "id": "adead2ac-0e25-40a9-8bc4-784e99a6d63c",
   "metadata": {},
   "outputs": [],
   "source": []
  },
  {
   "cell_type": "code",
   "execution_count": null,
   "id": "85c69e30-6182-43a3-99e7-4d05478368dd",
   "metadata": {},
   "outputs": [],
   "source": []
  },
  {
   "cell_type": "code",
   "execution_count": null,
   "id": "69e22efd-0cca-4b43-aa4e-c6bc3e13b0ca",
   "metadata": {},
   "outputs": [],
   "source": []
  },
  {
   "cell_type": "code",
   "execution_count": null,
   "id": "9bec643c-9e30-46b9-88ae-04b44fdd2cdd",
   "metadata": {},
   "outputs": [],
   "source": []
  },
  {
   "cell_type": "code",
   "execution_count": null,
   "id": "150de4e7-f800-4319-b79f-38224e5fe99d",
   "metadata": {},
   "outputs": [],
   "source": []
  },
  {
   "cell_type": "code",
   "execution_count": null,
   "id": "45f0e631-d33f-4deb-8bfc-f6bec7ec4192",
   "metadata": {},
   "outputs": [],
   "source": []
  },
  {
   "cell_type": "code",
   "execution_count": null,
   "id": "136f143e-be70-4dd1-8e5a-e14b734a844d",
   "metadata": {},
   "outputs": [],
   "source": []
  },
  {
   "cell_type": "code",
   "execution_count": null,
   "id": "cecc3d19-d5db-48ce-bde5-b78610e51271",
   "metadata": {},
   "outputs": [],
   "source": []
  },
  {
   "cell_type": "code",
   "execution_count": null,
   "id": "66a3380a-c288-4b1d-b8ff-c913241d0a0f",
   "metadata": {},
   "outputs": [],
   "source": []
  },
  {
   "cell_type": "code",
   "execution_count": null,
   "id": "a9db17cc-784e-4f34-bb67-b107764c7185",
   "metadata": {},
   "outputs": [],
   "source": []
  },
  {
   "cell_type": "code",
   "execution_count": null,
   "id": "f1e8e537-d8cb-4116-827d-cbdfff783f67",
   "metadata": {},
   "outputs": [],
   "source": []
  },
  {
   "cell_type": "code",
   "execution_count": null,
   "id": "11b1c313-cd5d-4033-bbd1-36405566284c",
   "metadata": {},
   "outputs": [],
   "source": []
  },
  {
   "cell_type": "code",
   "execution_count": null,
   "id": "662212b4-5354-4fdb-bb9c-1f70b83be0b2",
   "metadata": {},
   "outputs": [],
   "source": []
  }
 ],
 "metadata": {
  "kernelspec": {
   "display_name": "Python 3 (ipykernel)",
   "language": "python",
   "name": "python3"
  },
  "language_info": {
   "codemirror_mode": {
    "name": "ipython",
    "version": 3
   },
   "file_extension": ".py",
   "mimetype": "text/x-python",
   "name": "python",
   "nbconvert_exporter": "python",
   "pygments_lexer": "ipython3",
   "version": "3.12.7"
  }
 },
 "nbformat": 4,
 "nbformat_minor": 5
}
